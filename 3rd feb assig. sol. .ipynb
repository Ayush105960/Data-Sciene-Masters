{
 "cells": [
  {
   "cell_type": "markdown",
   "id": "ec79211a",
   "metadata": {},
   "source": [
    "## 1."
   ]
  },
  {
   "cell_type": "markdown",
   "id": "503cc0d9",
   "metadata": {},
   "source": [
    "'def' is used for defining a function."
   ]
  },
  {
   "cell_type": "code",
   "execution_count": 1,
   "id": "453db85c",
   "metadata": {},
   "outputs": [],
   "source": [
    "def Odd(lst):\n",
    "    return (x for x in lst if x%2 != 0)"
   ]
  },
  {
   "cell_type": "code",
   "execution_count": 7,
   "id": "948a1f35",
   "metadata": {},
   "outputs": [
    {
     "name": "stdout",
     "output_type": "stream",
     "text": [
      "1 3 5 7 9 11 13 15 17 19 21 23 25\n"
     ]
    }
   ],
   "source": [
    "print(*Odd(range(1,26)))"
   ]
  },
  {
   "cell_type": "markdown",
   "id": "cc293c32",
   "metadata": {},
   "source": [
    "## 2."
   ]
  },
  {
   "cell_type": "markdown",
   "id": "60715961",
   "metadata": {},
   "source": [
    "*args : - it represents any number of inputs of any datatype and collection datatype , except 'dictionary'.\n",
    "**kwargs : - ** means it enables user to input as many \"DICTIONARY\" inputs as much they want.\n",
    "    Here, args and kwargs are not defined or reserved keys . It is just an identifier , it can be anything \n",
    "    waht keeps value is the * and ** before them."
   ]
  },
  {
   "cell_type": "code",
   "execution_count": 20,
   "id": "0a9e0c6d",
   "metadata": {},
   "outputs": [
    {
     "name": "stdout",
     "output_type": "stream",
     "text": [
      "1 2 3 4 5 6 7 8 9 fdgfd 423.435\n"
     ]
    }
   ],
   "source": [
    "def non_dict(*inputs_infinite):\n",
    "    return [i for i in inputs_infinite]\n",
    "print(*non_dict(*range(1,10),\"fdgfd\",423.435 , ))"
   ]
  },
  {
   "cell_type": "code",
   "execution_count": 23,
   "id": "f117fb2f",
   "metadata": {},
   "outputs": [
    {
     "name": "stdout",
     "output_type": "stream",
     "text": [
      "dict_keys(['a', 'b', 'c', 'adult']) dict_values([10, 23.45, 'ar', True])\n"
     ]
    }
   ],
   "source": [
    "def dict_type(**inputs):\n",
    "    return inputs.keys() , inputs.values()\n",
    "print(*dict_type( a = 10, b= 23.45,c =\"ar\" , adult = True  ) )"
   ]
  },
  {
   "cell_type": "markdown",
   "id": "179e7471",
   "metadata": {},
   "source": [
    "## 3."
   ]
  },
  {
   "cell_type": "markdown",
   "id": "cf4f5c2e",
   "metadata": {},
   "source": [
    "Iterator in python is used to create a iterator of objects or iterate over a sequence of objects.\n",
    "* next(): for iterating the objects of an iterator\n",
    "* iter(): for making an object an interator"
   ]
  },
  {
   "cell_type": "code",
   "execution_count": 37,
   "id": "1257f75f",
   "metadata": {},
   "outputs": [
    {
     "name": "stdout",
     "output_type": "stream",
     "text": [
      "2 4 6 8 10 "
     ]
    }
   ],
   "source": [
    "lst =  [2, 4, 6, 8, 10, 12, 14, 16, 18, 20]\n",
    "iter_lst = iter(lst)\n",
    "count=0\n",
    "while count < 5 :\n",
    "    print(next(iter_lst) , end = \" \")\n",
    "    count += 1"
   ]
  },
  {
   "cell_type": "markdown",
   "id": "3190088d",
   "metadata": {},
   "source": [
    " ## 4."
   ]
  },
  {
   "cell_type": "markdown",
   "id": "2cb7f23e",
   "metadata": {},
   "source": [
    "* generator function in python is used to create an iterator .\n",
    "*'yield' keyword is used to make an object iterator.\n"
   ]
  },
  {
   "cell_type": "code",
   "execution_count": 42,
   "id": "c2836d8d",
   "metadata": {},
   "outputs": [
    {
     "name": "stdout",
     "output_type": "stream",
     "text": [
      "1 2 3 4 5 6 7 8 9\n"
     ]
    }
   ],
   "source": [
    "def printer(*inputs):\n",
    "    for i in inputs:\n",
    "        yield i\n",
    "print( * printer(*range(1,10)))"
   ]
  },
  {
   "cell_type": "markdown",
   "id": "2e2945c2",
   "metadata": {},
   "source": [
    "## 5."
   ]
  },
  {
   "cell_type": "code",
   "execution_count": 90,
   "id": "3b9752a5",
   "metadata": {},
   "outputs": [
    {
     "name": "stdout",
     "output_type": "stream",
     "text": [
      "2 3 5 7 11 13 17 19 23 29 31 37 41 43 47 53 59 61 67 71 "
     ]
    }
   ],
   "source": [
    "def prime(limit):\n",
    "       for i in limit:\n",
    "            for j in range(2,( (i//2) +1)):\n",
    "                if i%j == 0 :\n",
    "                    break\n",
    "            else:\n",
    "                if  i>1:\n",
    "                    yield i\n",
    "result = prime(range(1000))\n",
    "for i in range(20):\n",
    "    print(next(result),end=\" \")\n",
    "    "
   ]
  },
  {
   "cell_type": "code",
   "execution_count": null,
   "id": "3cfc79c0",
   "metadata": {},
   "outputs": [],
   "source": []
  }
 ],
 "metadata": {
  "kernelspec": {
   "display_name": "Python 3 (ipykernel)",
   "language": "python",
   "name": "python3"
  },
  "language_info": {
   "codemirror_mode": {
    "name": "ipython",
    "version": 3
   },
   "file_extension": ".py",
   "mimetype": "text/x-python",
   "name": "python",
   "nbconvert_exporter": "python",
   "pygments_lexer": "ipython3",
   "version": "3.9.13"
  }
 },
 "nbformat": 4,
 "nbformat_minor": 5
}
