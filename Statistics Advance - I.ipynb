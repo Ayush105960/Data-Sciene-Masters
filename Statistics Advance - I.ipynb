{
 "cells": [
  {
   "cell_type": "markdown",
   "id": "af4f9020",
   "metadata": {},
   "source": [
    "## 1."
   ]
  },
  {
   "cell_type": "markdown",
   "id": "d45dd1db",
   "metadata": {},
   "source": [
    "    Probability Density Function is the function which  generates the probability distribution for  random continuous values/data ."
   ]
  },
  {
   "cell_type": "markdown",
   "id": "dc022ae5",
   "metadata": {},
   "source": [
    "## 2. "
   ]
  },
  {
   "cell_type": "markdown",
   "id": "9f2e7d5f",
   "metadata": {},
   "source": [
    "    There are several types of probability distribution:\n",
    "        1. Normal/Gaussian Distribution .\n",
    "        2. Uniform Distribution.\n",
    "        3. Chi-squared Distribution.\n",
    "        4. Poisson Distribution.\n",
    "        5. Binomial Distribution.\n",
    "        6. Bernoulli Distribution.\n",
    "        7. Law Normal Distribution.\n",
    "\n"
   ]
  },
  {
   "cell_type": "markdown",
   "id": "d8e56d87",
   "metadata": {},
   "source": [
    "## 3. "
   ]
  },
  {
   "cell_type": "code",
   "execution_count": 47,
   "id": "6328a465",
   "metadata": {},
   "outputs": [],
   "source": [
    "from scipy.stats import norm\n",
    "import numpy as np"
   ]
  },
  {
   "cell_type": "code",
   "execution_count": 48,
   "id": "6df1c8fe",
   "metadata": {},
   "outputs": [],
   "source": [
    "data = np.random.randint(1,10,10)"
   ]
  },
  {
   "cell_type": "code",
   "execution_count": 49,
   "id": "b0bf3902",
   "metadata": {},
   "outputs": [
    {
     "data": {
      "text/plain": [
       "array([8, 4, 6, 9, 7, 4, 8, 5, 8, 5])"
      ]
     },
     "execution_count": 49,
     "metadata": {},
     "output_type": "execute_result"
    }
   ],
   "source": [
    "data"
   ]
  },
  {
   "cell_type": "code",
   "execution_count": 50,
   "id": "6de34444",
   "metadata": {},
   "outputs": [
    {
     "name": "stdout",
     "output_type": "stream",
     "text": [
      "Enter the specific point : 8\n"
     ]
    }
   ],
   "source": [
    "point = input(\"Enter the specific point : \")"
   ]
  },
  {
   "cell_type": "code",
   "execution_count": 57,
   "id": "e6c271d9",
   "metadata": {},
   "outputs": [],
   "source": [
    "def pdf_calculator(point , mean , std):\n",
    "    print(norm.pdf(5, loc = mean , scale = std))"
   ]
  },
  {
   "cell_type": "code",
   "execution_count": 58,
   "id": "03daa795",
   "metadata": {},
   "outputs": [
    {
     "name": "stdout",
     "output_type": "stream",
     "text": [
      "0.16575645409083234\n"
     ]
    }
   ],
   "source": [
    "pdf_calculator(point , np.mean(data) , np.std(data))"
   ]
  },
  {
   "cell_type": "markdown",
   "id": "f05f3c0e",
   "metadata": {},
   "source": [
    "## 4."
   ]
  },
  {
   "cell_type": "markdown",
   "id": "bf29a7bf",
   "metadata": {},
   "source": [
    "    Properties of binomial distribution:\n",
    "        1. fixed number of repeated n trials\n",
    "        2. Only two outcomes: success or failure\n",
    "        3. Fixed probability of success in every trial\n",
    "        4. All trials are independent"
   ]
  },
  {
   "cell_type": "markdown",
   "id": "323f7650",
   "metadata": {},
   "source": [
    "    Examples of Binomial Distribution:\n",
    "        !. Tossing a coin n number of times.\n",
    "        2. Lucky Draw contest\n",
    "        3. Experimenting something."
   ]
  },
  {
   "cell_type": "markdown",
   "id": "20cd5b5d",
   "metadata": {},
   "source": [
    "## 5."
   ]
  },
  {
   "cell_type": "code",
   "execution_count": 40,
   "id": "2228aaee",
   "metadata": {},
   "outputs": [],
   "source": [
    "results = np.random.binomial( n = 10, p = 0.4 , size =  1000)"
   ]
  },
  {
   "cell_type": "code",
   "execution_count": 41,
   "id": "3407fcc6",
   "metadata": {},
   "outputs": [
    {
     "data": {
      "text/plain": [
       "array([2, 4, 6, 2, 3, 3, 2, 4, 4, 6, 6, 2, 5, 5, 4, 4, 4, 8, 2, 4, 5, 4,\n",
       "       2, 1, 4, 4, 1, 4, 3, 5, 2, 3, 5, 2, 3, 3, 2, 3, 6, 4, 2, 4, 2, 5,\n",
       "       3, 2, 5, 6, 5, 7, 2, 6, 3, 5, 3, 3, 6, 4, 4, 2, 5, 3, 4, 6, 3, 4,\n",
       "       5, 3, 3, 1, 2, 4, 6, 4, 2, 4, 4, 4, 4, 4, 3, 4, 5, 4, 4, 5, 4, 6,\n",
       "       3, 4, 5, 4, 4, 4, 5, 4, 6, 5, 7, 6, 5, 4, 4, 4, 3, 5, 3, 3, 2, 5,\n",
       "       4, 2, 2, 5, 3, 5, 5, 3, 2, 3, 4, 6, 2, 3, 1, 5, 4, 4, 5, 4, 4, 4,\n",
       "       3, 6, 3, 3, 3, 5, 5, 1, 2, 3, 2, 4, 3, 2, 3, 5, 4, 7, 5, 4, 3, 4,\n",
       "       6, 1, 3, 1, 5, 4, 4, 5, 5, 3, 5, 3, 4, 2, 3, 4, 4, 5, 7, 3, 3, 3,\n",
       "       3, 6, 1, 5, 5, 2, 4, 3, 4, 4, 4, 2, 2, 7, 3, 4, 7, 3, 4, 1, 2, 4,\n",
       "       2, 6, 6, 3, 7, 4, 0, 2, 5, 3, 2, 5, 3, 5, 6, 5, 7, 7, 6, 5, 4, 3,\n",
       "       2, 5, 1, 1, 3, 2, 3, 6, 5, 5, 2, 8, 3, 5, 5, 3, 1, 6, 2, 5, 3, 4,\n",
       "       6, 5, 7, 4, 0, 3, 4, 1, 4, 3, 5, 4, 4, 4, 2, 2, 1, 2, 5, 6, 3, 4,\n",
       "       0, 1, 3, 6, 5, 4, 4, 5, 5, 7, 5, 3, 5, 3, 3, 3, 1, 5, 4, 7, 2, 4,\n",
       "       3, 7, 2, 4, 5, 4, 3, 4, 3, 4, 7, 1, 6, 3, 3, 5, 5, 5, 3, 4, 4, 7,\n",
       "       3, 5, 2, 2, 3, 3, 4, 5, 4, 3, 1, 4, 3, 5, 6, 5, 1, 3, 5, 5, 3, 3,\n",
       "       1, 5, 4, 4, 3, 2, 7, 4, 6, 3, 4, 1, 4, 3, 5, 3, 2, 4, 3, 5, 5, 1,\n",
       "       3, 5, 4, 1, 4, 5, 8, 4, 3, 5, 4, 6, 6, 6, 3, 5, 3, 5, 5, 5, 3, 8,\n",
       "       3, 5, 4, 3, 6, 6, 5, 3, 4, 3, 5, 2, 3, 3, 4, 1, 5, 6, 5, 6, 3, 4,\n",
       "       5, 5, 5, 5, 5, 5, 4, 3, 2, 5, 1, 5, 1, 3, 5, 5, 3, 7, 3, 2, 4, 5,\n",
       "       3, 3, 4, 5, 3, 4, 5, 3, 5, 3, 3, 5, 5, 5, 3, 6, 4, 6, 6, 3, 6, 8,\n",
       "       4, 4, 4, 4, 3, 3, 4, 4, 2, 5, 2, 3, 3, 6, 4, 2, 5, 6, 5, 3, 6, 3,\n",
       "       4, 2, 6, 7, 4, 5, 2, 3, 2, 3, 7, 5, 5, 5, 2, 2, 4, 3, 5, 3, 6, 5,\n",
       "       4, 4, 5, 3, 3, 3, 3, 2, 4, 5, 6, 4, 2, 3, 1, 4, 2, 4, 3, 4, 5, 3,\n",
       "       4, 6, 4, 3, 2, 4, 3, 6, 4, 7, 6, 4, 7, 2, 5, 5, 4, 5, 5, 4, 6, 5,\n",
       "       4, 5, 3, 3, 3, 3, 4, 1, 7, 7, 5, 2, 6, 2, 3, 6, 3, 5, 5, 5, 4, 0,\n",
       "       4, 3, 5, 4, 5, 5, 7, 4, 2, 3, 4, 4, 3, 7, 5, 5, 6, 2, 2, 5, 3, 4,\n",
       "       4, 5, 1, 6, 4, 2, 6, 5, 5, 4, 1, 3, 8, 3, 5, 4, 6, 5, 4, 3, 7, 4,\n",
       "       3, 3, 3, 4, 3, 3, 3, 4, 5, 4, 3, 3, 4, 3, 2, 3, 4, 3, 1, 5, 3, 4,\n",
       "       4, 2, 7, 4, 5, 3, 2, 3, 3, 5, 5, 3, 7, 6, 7, 4, 6, 3, 2, 2, 4, 6,\n",
       "       7, 5, 8, 3, 2, 4, 2, 3, 6, 5, 6, 2, 3, 4, 1, 3, 4, 2, 7, 5, 3, 5,\n",
       "       4, 4, 2, 2, 3, 2, 3, 7, 7, 5, 6, 4, 6, 6, 1, 4, 5, 3, 3, 6, 5, 1,\n",
       "       5, 3, 4, 2, 6, 3, 6, 2, 4, 3, 5, 3, 6, 3, 7, 5, 6, 4, 3, 4, 4, 2,\n",
       "       6, 3, 6, 4, 3, 4, 3, 2, 4, 4, 4, 4, 4, 4, 6, 6, 2, 4, 6, 3, 3, 7,\n",
       "       4, 2, 1, 5, 3, 2, 2, 1, 2, 5, 4, 3, 3, 7, 4, 5, 3, 5, 4, 3, 6, 6,\n",
       "       3, 4, 4, 1, 3, 4, 3, 2, 3, 4, 3, 6, 4, 3, 5, 6, 5, 6, 5, 5, 5, 2,\n",
       "       2, 4, 6, 3, 7, 5, 3, 4, 4, 2, 4, 5, 3, 2, 5, 0, 6, 5, 2, 1, 2, 3,\n",
       "       6, 5, 4, 5, 6, 6, 4, 3, 4, 3, 2, 3, 4, 2, 5, 3, 2, 4, 4, 3, 4, 4,\n",
       "       1, 3, 4, 5, 7, 3, 4, 2, 3, 3, 4, 5, 4, 8, 3, 4, 4, 4, 4, 3, 3, 4,\n",
       "       5, 7, 4, 2, 2, 5, 2, 2, 5, 3, 4, 4, 6, 4, 2, 2, 6, 4, 5, 5, 3, 5,\n",
       "       4, 3, 4, 4, 0, 4, 6, 8, 4, 3, 6, 5, 5, 3, 7, 6, 4, 4, 8, 4, 3, 4,\n",
       "       5, 2, 3, 5, 6, 8, 5, 5, 4, 3, 1, 7, 6, 3, 6, 1, 6, 4, 2, 5, 4, 5,\n",
       "       3, 7, 4, 2, 1, 2, 3, 2, 2, 2, 2, 4, 6, 1, 4, 3, 5, 6, 4, 4, 4, 4,\n",
       "       4, 5, 4, 4, 3, 2, 3, 4, 5, 5, 3, 4, 5, 4, 5, 4, 7, 5, 5, 6, 7, 5,\n",
       "       4, 4, 4, 6, 5, 5, 3, 3, 3, 5, 4, 5, 6, 4, 5, 7, 2, 2, 5, 4, 3, 4,\n",
       "       5, 3, 5, 5, 4, 5, 3, 2, 5, 2, 8, 4, 7, 3, 5, 5, 6, 2, 3, 7, 5, 6,\n",
       "       4, 1, 7, 3, 3, 4, 5, 3, 6, 2])"
      ]
     },
     "execution_count": 41,
     "metadata": {},
     "output_type": "execute_result"
    }
   ],
   "source": [
    "results"
   ]
  },
  {
   "cell_type": "code",
   "execution_count": 42,
   "id": "1eebd0fc",
   "metadata": {},
   "outputs": [],
   "source": [
    "import matplotlib.pyplot as plt"
   ]
  },
  {
   "cell_type": "code",
   "execution_count": 43,
   "id": "fd0d4c93",
   "metadata": {},
   "outputs": [
    {
     "data": {
      "text/plain": [
       "(array([  6.,  44., 120., 225.,   0., 243., 202., 100.,  48.,  12.]),\n",
       " array([0. , 0.8, 1.6, 2.4, 3.2, 4. , 4.8, 5.6, 6.4, 7.2, 8. ]),\n",
       " <BarContainer object of 10 artists>)"
      ]
     },
     "execution_count": 43,
     "metadata": {},
     "output_type": "execute_result"
    },
    {
     "data": {
      "image/png": "[encoded data removed]",
      "text/plain": [
       "<Figure size 640x480 with 1 Axes>"
      ]
     },
     "metadata": {},
     "output_type": "display_data"
    }
   ],
   "source": [
    "plt.hist( results )"
   ]
  },
  {
   "cell_type": "markdown",
   "id": "026d706b",
   "metadata": {},
   "source": [
    "## 6."
   ]
  },
  {
   "cell_type": "code",
   "execution_count": 72,
   "id": "f859ba36",
   "metadata": {},
   "outputs": [],
   "source": [
    "from scipy.stats import poisson"
   ]
  },
  {
   "cell_type": "code",
   "execution_count": 60,
   "id": "39804b39",
   "metadata": {},
   "outputs": [
    {
     "name": "stdout",
     "output_type": "stream",
     "text": [
      "Enter mean value10\n",
      "Enter point value5\n"
     ]
    }
   ],
   "source": [
    "a = input(\"Enter mean value \")\n",
    "b = input(\"Enter point value \")"
   ]
  },
  {
   "cell_type": "code",
   "execution_count": 83,
   "id": "5ee94740",
   "metadata": {},
   "outputs": [],
   "source": [
    "from scipy import stats"
   ]
  },
  {
   "cell_type": "code",
   "execution_count": 92,
   "id": "506bddf4",
   "metadata": {},
   "outputs": [
    {
     "data": {
      "text/plain": [
       "(array([0.002 , 0.016 , 0.0545, 0.0975, 0.1205, 0.0925, 0.0735, 0.03  ,\n",
       "        0.01  , 0.0035]),\n",
       " array([ 1.,  3.,  5.,  7.,  9., 11., 13., 15., 17., 19., 21.]),\n",
       " <BarContainer object of 10 artists>)"
      ]
     },
     "execution_count": 92,
     "metadata": {},
     "output_type": "execute_result"
    },
    {
     "data": {
      "image/png": "[encoded data removed]",
      "text/plain": [
       "<Figure size 640x480 with 1 Axes>"
      ]
     },
     "metadata": {},
     "output_type": "display_data"
    }
   ],
   "source": [
    "p = poisson.rvs(mu = 10 , size = 1000)\n",
    "plt.hist(p , density = True , edgecolor = \"black\")"
   ]
  },
  {
   "cell_type": "code",
   "execution_count": 76,
   "id": "ed93f22a",
   "metadata": {},
   "outputs": [],
   "source": [
    "def cdf_calculator(mean , point):\n",
    "       print(poisson.cdf(k = point , mu = mean))"
   ]
  },
  {
   "cell_type": "code",
   "execution_count": 79,
   "id": "701ca6a6",
   "metadata": {},
   "outputs": [
    {
     "name": "stdout",
     "output_type": "stream",
     "text": [
      "0.5830397501929852\n"
     ]
    }
   ],
   "source": [
    "cdf_calculator(10 , 10)"
   ]
  },
  {
   "cell_type": "markdown",
   "id": "3a5be6ae",
   "metadata": {},
   "source": [
    "## 7."
   ]
  },
  {
   "cell_type": "markdown",
   "id": "e7e01ac3",
   "metadata": {},
   "source": [
    "    1. Binomial distribution is one in which the probability of repeated number of trials are studied.While , Poisson Distribution gives the count of independent events occur randomly with a given period of time.\n",
    "    2. Number of trials\tFixed in binomial distribution while  , Number of trials infinite in poisson distribution  \n",
    "    3. Only two possible outcomes, i.e. success or failure in binomial distribution while Unlimited number of possible outcomes."
   ]
  },
  {
   "cell_type": "markdown",
   "id": "a202f321",
   "metadata": {},
   "source": [
    "## 8."
   ]
  },
  {
   "cell_type": "code",
   "execution_count": 93,
   "id": "03215620",
   "metadata": {},
   "outputs": [],
   "source": [
    "data1 = poisson.rvs(size = 1000 , mu = 5)"
   ]
  },
  {
   "cell_type": "code",
   "execution_count": 104,
   "id": "9565ba5d",
   "metadata": {
    "collapsed": true
   },
   "outputs": [
    {
     "data": {
      "text/plain": [
       "({0, 1, 2, 3, 4, 5, 6, 7, 8, 9, 10, 11, 12, 13},\n",
       " array([ 4,  4,  5,  7,  4,  6,  5,  4,  5,  3,  5,  7,  4,  5,  4,  4,  1,\n",
       "         9,  5,  7,  5,  7,  6,  6,  5,  3,  4,  3,  5,  5,  2,  8,  7,  2,\n",
       "         3, 12,  3,  3,  2,  9,  4,  7,  3,  6, 10,  1,  6,  7,  1,  7,  0,\n",
       "         5,  3,  7,  7,  3,  5,  6,  9,  1,  3,  4,  3,  2, 11,  2,  6,  7,\n",
       "         5,  4,  6,  7,  6,  4,  7,  5,  6,  3, 10,  7,  7,  4,  5,  3,  0,\n",
       "         6,  6,  5,  4,  4,  4,  7,  6,  8,  6,  5,  8,  7,  3,  7,  3,  9,\n",
       "         4, 12,  2,  3,  4,  4,  3,  4,  6,  6,  4,  4,  7,  4,  2, 10,  4,\n",
       "         7,  7,  3,  4,  6,  7,  5,  5,  3,  7,  7,  5,  7,  4,  3,  6,  9,\n",
       "         2, 10,  2,  1,  2,  4,  3,  3,  8, 11,  4,  4,  7,  7,  6,  9,  5,\n",
       "         6,  6,  6,  6, 10,  2,  3,  6,  3,  5,  9,  2,  6,  5,  6,  9,  4,\n",
       "         8,  5,  7, 10,  3,  3,  4,  2,  8,  9,  6,  3,  4,  3,  6,  4,  5,\n",
       "         8,  5,  3,  7,  4,  6,  3,  6,  3,  8,  4,  7,  7,  8,  6,  7,  7,\n",
       "         4,  6,  4,  2,  7,  1,  6,  3,  4,  7,  5,  3,  7,  3,  4,  7,  6,\n",
       "         2,  2,  9,  1,  4,  4,  8,  6,  3,  6,  5,  5,  5,  5,  4,  7,  7,\n",
       "         6,  7,  4,  5,  7,  6,  3,  4,  5,  2,  8,  7,  5,  4,  3,  5,  6,\n",
       "         5,  6,  4,  3,  5,  6,  2,  4,  6,  4,  1,  2,  3,  4,  6,  7,  7,\n",
       "         5,  3,  4,  3,  3,  4,  4,  5,  5,  6,  4,  7,  5,  2,  4,  7,  6,\n",
       "        10,  5,  7,  5,  9,  4,  7,  6,  9,  5,  5,  0,  3,  9,  6,  1,  6,\n",
       "         5,  5,  5,  6,  5,  5,  5,  4,  2,  5,  2,  5,  4,  5,  3,  2,  5,\n",
       "         2,  8,  6,  6,  4,  7,  4,  4,  4,  6,  7,  1,  5,  2,  3,  4,  8,\n",
       "         4,  2,  0,  3,  7,  5, 10,  4,  1,  4,  1,  8,  5,  4,  5,  2,  8,\n",
       "         9,  8,  8,  6,  7, 12,  6,  5,  9,  4,  5,  6,  7,  3,  4,  6,  5,\n",
       "         1,  4,  7,  5,  9,  7,  9,  1,  4,  4,  3,  5,  6,  6,  4,  2,  3,\n",
       "         5,  2,  2,  7, 11,  6,  6,  6,  4,  6, 11,  4,  2,  8,  3,  3,  6,\n",
       "         2,  3,  4,  5,  4,  5,  2,  2,  0,  1,  6,  8,  8,  5,  4,  1,  4,\n",
       "         4,  5,  6,  5,  3,  5,  3,  4,  3,  9,  5,  5,  6,  5,  4,  4,  3,\n",
       "         5,  5,  3,  3,  6,  7,  3,  2,  6,  6,  5,  3,  4,  9,  4,  4,  5,\n",
       "         3,  6, 12,  8,  2,  3,  5,  5,  3,  5,  7,  9,  7,  3,  4,  8,  5,\n",
       "        10,  1,  7,  6,  4,  5,  3,  4,  3,  4,  2,  5,  8,  6,  3,  4,  3,\n",
       "         5,  5,  5,  8,  6,  5,  3,  3,  6,  6,  5,  4,  6,  5,  5,  2,  1,\n",
       "         2,  4,  6,  5,  5,  3,  8,  3,  2,  7,  6,  6,  5,  6,  3, 11,  0,\n",
       "         5,  5,  5,  7,  4,  6,  5,  5,  4,  5,  8,  8,  5,  5,  8,  4,  3,\n",
       "         6,  6,  3,  2,  5,  4,  5,  4,  7,  2,  5,  8,  3,  7,  2,  4,  6,\n",
       "         5,  5,  2,  3,  5,  7,  5,  4,  5,  5, 11,  7,  5,  4,  6,  4,  7,\n",
       "        11,  7,  6,  5,  6,  9,  7,  6,  4,  5,  2,  2,  5,  3,  3,  5,  3,\n",
       "        10,  5,  4,  6,  7,  1,  4,  9,  4,  2,  5,  4,  5,  4,  7,  4,  4,\n",
       "         2,  5,  8,  5,  2,  5,  3,  7,  8,  3,  8,  5,  2,  5,  7,  3,  1,\n",
       "         1,  2,  3,  5,  5,  4,  5,  4,  9,  4,  6,  8,  7,  5,  3,  6,  4,\n",
       "         4,  5,  3, 11,  3, 11,  5,  5,  9,  7,  2,  4,  6, 12,  6,  7,  2,\n",
       "         7,  7,  4,  7,  5,  3,  4,  7, 12,  3,  7,  6,  5,  4,  4,  5,  5,\n",
       "         7,  3,  0,  1,  9,  6,  3,  6,  6,  8,  4,  1,  3,  2, 11,  4,  4,\n",
       "         4,  2,  8,  7,  4,  5,  7,  4,  3,  6,  4,  7,  8,  2,  6,  9,  3,\n",
       "         3,  7,  6,  5,  7,  6,  5,  4,  3,  4,  5,  2,  4,  4, 10,  7,  6,\n",
       "         8,  2,  5,  9,  1,  6,  2,  2,  5,  5,  8,  3,  5,  3,  5,  6,  6,\n",
       "         4,  2,  4,  4,  6,  7, 10,  4,  6,  5,  5,  3,  6,  3,  6,  2,  3,\n",
       "         5,  3,  7,  6,  5,  4,  7,  2,  7,  1,  5,  4,  6,  4,  4,  5,  4,\n",
       "         7,  4,  2,  4,  3,  6,  2,  4,  2,  4,  5,  5,  4,  6,  6,  5,  5,\n",
       "         2,  3,  3,  7,  2,  7,  6,  6,  2,  5,  5,  2,  5,  5, 12,  7,  4,\n",
       "         5,  6,  6,  5,  4,  7,  5,  6,  5,  2,  7,  5,  7,  6,  5,  3,  8,\n",
       "         3,  5,  2,  4,  6,  2,  9,  7,  1,  6,  7,  4,  6,  3,  5,  7,  3,\n",
       "         4,  6,  5,  5,  7,  4,  8,  5,  3,  4,  3,  5,  3,  6,  4,  7,  4,\n",
       "         8,  5,  9,  4,  5,  3,  6,  3,  6,  9,  4,  6,  4,  2,  5,  9,  3,\n",
       "         8,  3,  5,  5,  4,  5,  4,  1,  3,  9,  5, 10,  7,  4,  4,  4,  2,\n",
       "         3,  2,  9,  5,  6,  7,  2,  4,  2,  2,  3,  6,  7,  7,  2,  7,  7,\n",
       "         4,  9,  7,  2,  9,  3,  2,  3,  4,  6,  4,  2,  6,  2,  6,  6,  9,\n",
       "         9,  6,  8,  9,  1,  3,  5,  5,  5, 10, 10,  5,  1,  5,  8,  7,  5,\n",
       "         5,  5,  9, 11,  5,  6,  3,  3,  5,  7,  4,  9,  5,  8,  5,  6,  5,\n",
       "         4,  6,  7,  5,  2,  4,  4,  0,  4,  6,  3,  7,  4,  0,  6,  5,  4,\n",
       "         3,  9, 11,  6,  8,  3, 10, 12,  3,  3,  9,  3, 13,  5],\n",
       "       dtype=int64))"
      ]
     },
     "execution_count": 104,
     "metadata": {},
     "output_type": "execute_result"
    }
   ],
   "source": [
    "set((data1)) , data1"
   ]
  },
  {
   "cell_type": "code",
   "execution_count": 96,
   "id": "1550658c",
   "metadata": {},
   "outputs": [
    {
     "name": "stdout",
     "output_type": "stream",
     "text": [
      "Mean = 5.045 , Variance = 5.118975000000001\n"
     ]
    }
   ],
   "source": [
    "print(f\"Mean = {np.mean(data1) } , Variance = {np.var(data1)}\")"
   ]
  },
  {
   "cell_type": "markdown",
   "id": "0ca6d1b5",
   "metadata": {},
   "source": [
    "## 9."
   ]
  },
  {
   "cell_type": "markdown",
   "id": "dc0eb1e8",
   "metadata": {},
   "source": [
    "    The mean and the variance of the Poisson distribution are the same, which is equal to the average number of successes that occur in the given interval of time"
   ]
  },
  {
   "cell_type": "markdown",
   "id": "05d1bc06",
   "metadata": {},
   "source": [
    "    While , mean of binomial dist. is number of trials times the success rate and variance is number of trials times success tate times failure rate."
   ]
  },
  {
   "cell_type": "markdown",
   "id": "99be47dd",
   "metadata": {},
   "source": [
    "## 10."
   ]
  },
  {
   "cell_type": "markdown",
   "id": "0ba47f5e",
   "metadata": {},
   "source": [
    "         In normal distribution with respect to mean position, least frequent data lies around extreme data points"
   ]
  },
  {
   "cell_type": "code",
   "execution_count": null,
   "id": "ee4e45ec",
   "metadata": {},
   "outputs": [],
   "source": []
  }
 ],
 "metadata": {
  "kernelspec": {
   "display_name": "Python 3 (ipykernel)",
   "language": "python",
   "name": "python3"
  },
  "language_info": {
   "codemirror_mode": {
    "name": "ipython",
    "version": 3
   },
   "file_extension": ".py",
   "mimetype": "text/x-python",
   "name": "python",
   "nbconvert_exporter": "python",
   "pygments_lexer": "ipython3",
   "version": "3.9.13"
  }
 },
 "nbformat": 4,
 "nbformat_minor": 5
}
