{
 "cells": [
  {
   "cell_type": "markdown",
   "id": "875aca63",
   "metadata": {},
   "source": [
    "## 1."
   ]
  },
  {
   "cell_type": "markdown",
   "id": "3935a275",
   "metadata": {},
   "source": [
    "Databases are the structured , well organised colleciton of data on a large level."
   ]
  },
  {
   "cell_type": "markdown",
   "id": "bd133185",
   "metadata": {},
   "source": [
    "|  SQL  |  NoSQL  |\n",
    "|--------|---------|\n",
    "| RELATIONAL DATA | NONREATIONAL DATA |\n",
    "| TABLE BASED | KEY VALUE + DOCUMENT + COLUMN BASED + GRAPH BASED |\n",
    "| VERTICALLY SCALABLE | HORIZONTALLY SCALABLE |\n",
    "| FOLLOWS \"ACID\" PROP. | FOLLOWS \"CAP\" PROPERTIES |\n",
    "| DBMS's :- MySQL , MSSQL , Oracle, DB2 | DBMS'S :- MongoDB , Cassandra , Neo4j |\n",
    "| preffered for relational data | preferred for big data with flexible data models |"
   ]
  },
  {
   "cell_type": "markdown",
   "id": "b6470b2d",
   "metadata": {},
   "source": [
    "## 2."
   ]
  },
  {
   "cell_type": "code",
   "execution_count": null,
   "id": "45512e19",
   "metadata": {},
   "outputs": [],
   "source": [
    "DDL stands for data defintiton language'.\n",
    "** CREATE : used for c reating a table in the database.\n",
    "    CREATE TABLE STUDENT_NAME(\n",
    "    ID INT NOT NULL PRIMARY ,\n",
    "    NAME VARCHAR(20) NOT NULL \n",
    "    );\n",
    "    \n",
    "    \n",
    "** ALTER : - USED for adding , deleting , changing the column names.\n",
    "    ALTER TABLE STUDENT_NAME\n",
    "    ADD BRANCH ;\n",
    "    \n",
    "    \n",
    "** DROP :-Used for deleting the table from the database .\n",
    "    DROP TABLE STUDENT_NAME ;\n",
    "    \n",
    "    \n",
    "    \n",
    "** TRUNCATE : Used for removing all the rows from the table but the table structure still exists.\n",
    "    TRUNCATE TABLE STUDENT_NAME ;\n",
    "    "
   ]
  },
  {
   "cell_type": "markdown",
   "id": "617732d8",
   "metadata": {},
   "source": [
    "## 3. "
   ]
  },
  {
   "cell_type": "markdown",
   "id": "d33ea8d0",
   "metadata": {},
   "source": [
    "**DML :-  <br>\n",
    "*| IT IS SUBSET OF SQL |  <br>\n",
    "*| Stands for \"Data Manipulation Language \" | <br>\n",
    "*| Used for manipulationg the comtents of the Table |<br>\n"
   ]
  },
  {
   "cell_type": "markdown",
   "id": "2a89434b",
   "metadata": {},
   "source": [
    "INSERT: - <BR>\n",
    "    USED FOR INSERTING THE ELEMENTS INTO THE TABLE <BR>\n",
    "    **INSERT INTO STUDENT_NAME (ID INT , NAME VARCHAR(30)) VALUES (5 , \"AYUSH RAJ\") ;\n",
    "    \n",
    "    \n",
    "DELETE : <BR>\n",
    "    used for deleting the specified condition data from table.<br>\n",
    "            DELETE FROM STUDENT_NAME <br>\n",
    "             WHERE ID = 1 ;<br>\n",
    "    \n",
    "UPDATE : <br>\n",
    "    USED FOR UPDATING THE VALUES OF THE TABLE.\n",
    "    <br>UPDATE STUDENT_NAME \n",
    "    <br>WHERE ID = 2;"
   ]
  },
  {
   "cell_type": "markdown",
   "id": "c16b3563",
   "metadata": {},
   "source": [
    "## 4. "
   ]
  },
  {
   "cell_type": "markdown",
   "id": "6e2bfab6",
   "metadata": {},
   "source": [
    "DQL :- Component of SQL statement that alllows getting data from the database and imposing order upon it. <br>\n",
    "\n",
    "\n",
    "SELECT : <br>\n",
    "    FOR PRINTING THE VALUES OF THE TABLE WE R ASKING FOR.\n",
    "    SELECT COL1 , COL2 FROM STUDENT_NAME WHERE ID = 1 OR ID = 2;"
   ]
  },
  {
   "cell_type": "markdown",
   "id": "6fa9cf5a",
   "metadata": {},
   "source": [
    "## 5."
   ]
  },
  {
   "cell_type": "markdown",
   "id": "7a4f9b48",
   "metadata": {},
   "source": [
    "Primary key : used for providing a unique identity within the table . <br>\n",
    "    basically can be used  as an identifier of the table.<br>\n",
    "    PRIMARY keyword is used for setting a column primary . <br>\n",
    "    a table can have only one primary key.<br>\n",
    "    can't be null. <br>\n",
    "    \n",
    "     PRIMARY KEY (COL_NAME) ;\n",
    "        \n",
    "        \n",
    "Foreign Key : used for connencting two tables for reducing the data redundancy .\n",
    "\n",
    "              FOREIGN KEY(COL_NAME_COMMON_IN_PARENT_AND_CHILD_TABLE_BOTH) REFERENCES  \n",
    "                PARENT_TABLE(COL_NAME_COMMON_IN_PARENT_AND_CHILD_TABLE_BOTH) ;"
   ]
  },
  {
   "cell_type": "markdown",
   "id": "1567191a",
   "metadata": {},
   "source": [
    "## 6."
   ]
  },
  {
   "cell_type": "code",
   "execution_count": 6,
   "id": "9d4dcd7d",
   "metadata": {},
   "outputs": [
    {
     "ename": "ProgrammingError",
     "evalue": "1049 (42000): Unknown database 'ayush'",
     "output_type": "error",
     "traceback": [
      "\u001b[1;31m---------------------------------------------------------------------------\u001b[0m",
      "\u001b[1;31mMySQLInterfaceError\u001b[0m                       Traceback (most recent call last)",
      "\u001b[1;32m~\\anaconda3\\lib\\site-packages\\mysql\\connector\\connection_cext.py\u001b[0m in \u001b[0;36m_open_connection\u001b[1;34m(self)\u001b[0m\n\u001b[0;32m    287\u001b[0m         \u001b[1;32mtry\u001b[0m\u001b[1;33m:\u001b[0m\u001b[1;33m\u001b[0m\u001b[1;33m\u001b[0m\u001b[0m\n\u001b[1;32m--> 288\u001b[1;33m             \u001b[0mself\u001b[0m\u001b[1;33m.\u001b[0m\u001b[0m_cmysql\u001b[0m\u001b[1;33m.\u001b[0m\u001b[0mconnect\u001b[0m\u001b[1;33m(\u001b[0m\u001b[1;33m**\u001b[0m\u001b[0mcnx_kwargs\u001b[0m\u001b[1;33m)\u001b[0m\u001b[1;33m\u001b[0m\u001b[1;33m\u001b[0m\u001b[0m\n\u001b[0m\u001b[0;32m    289\u001b[0m             \u001b[0mself\u001b[0m\u001b[1;33m.\u001b[0m\u001b[0m_cmysql\u001b[0m\u001b[1;33m.\u001b[0m\u001b[0mconverter_str_fallback\u001b[0m \u001b[1;33m=\u001b[0m \u001b[0mself\u001b[0m\u001b[1;33m.\u001b[0m\u001b[0m_converter_str_fallback\u001b[0m\u001b[1;33m\u001b[0m\u001b[1;33m\u001b[0m\u001b[0m\n",
      "\u001b[1;31mMySQLInterfaceError\u001b[0m: Unknown database 'ayush'",
      "\nThe above exception was the direct cause of the following exception:\n",
      "\u001b[1;31mProgrammingError\u001b[0m                          Traceback (most recent call last)",
      "\u001b[1;32m~\\AppData\\Local\\Temp\\ipykernel_14968\\984071299.py\u001b[0m in \u001b[0;36m<module>\u001b[1;34m\u001b[0m\n\u001b[0;32m      1\u001b[0m \u001b[1;32mimport\u001b[0m \u001b[0mmysql\u001b[0m\u001b[1;33m.\u001b[0m\u001b[0mconnector\u001b[0m\u001b[1;33m\u001b[0m\u001b[1;33m\u001b[0m\u001b[0m\n\u001b[0;32m      2\u001b[0m \u001b[1;31m#database connenction\u001b[0m\u001b[1;33m\u001b[0m\u001b[1;33m\u001b[0m\u001b[0m\n\u001b[1;32m----> 3\u001b[1;33m db = mysql.connector.connect(\n\u001b[0m\u001b[0;32m      4\u001b[0m         \u001b[0mhost\u001b[0m \u001b[1;33m=\u001b[0m \u001b[1;34m\"localhost\"\u001b[0m \u001b[1;33m,\u001b[0m\u001b[1;33m\u001b[0m\u001b[1;33m\u001b[0m\u001b[0m\n\u001b[0;32m      5\u001b[0m         \u001b[0muser\u001b[0m \u001b[1;33m=\u001b[0m \u001b[1;34m\"root\"\u001b[0m \u001b[1;33m,\u001b[0m\u001b[1;33m\u001b[0m\u001b[1;33m\u001b[0m\u001b[0m\n",
      "\u001b[1;32m~\\anaconda3\\lib\\site-packages\\mysql\\connector\\pooling.py\u001b[0m in \u001b[0;36mconnect\u001b[1;34m(*args, **kwargs)\u001b[0m\n\u001b[0;32m    291\u001b[0m \u001b[1;33m\u001b[0m\u001b[0m\n\u001b[0;32m    292\u001b[0m     \u001b[1;32mif\u001b[0m \u001b[0mCMySQLConnection\u001b[0m \u001b[1;32mand\u001b[0m \u001b[1;32mnot\u001b[0m \u001b[0muse_pure\u001b[0m\u001b[1;33m:\u001b[0m\u001b[1;33m\u001b[0m\u001b[1;33m\u001b[0m\u001b[0m\n\u001b[1;32m--> 293\u001b[1;33m         \u001b[1;32mreturn\u001b[0m \u001b[0mCMySQLConnection\u001b[0m\u001b[1;33m(\u001b[0m\u001b[1;33m*\u001b[0m\u001b[0margs\u001b[0m\u001b[1;33m,\u001b[0m \u001b[1;33m**\u001b[0m\u001b[0mkwargs\u001b[0m\u001b[1;33m)\u001b[0m\u001b[1;33m\u001b[0m\u001b[1;33m\u001b[0m\u001b[0m\n\u001b[0m\u001b[0;32m    294\u001b[0m     \u001b[1;32mreturn\u001b[0m \u001b[0mMySQLConnection\u001b[0m\u001b[1;33m(\u001b[0m\u001b[1;33m*\u001b[0m\u001b[0margs\u001b[0m\u001b[1;33m,\u001b[0m \u001b[1;33m**\u001b[0m\u001b[0mkwargs\u001b[0m\u001b[1;33m)\u001b[0m\u001b[1;33m\u001b[0m\u001b[1;33m\u001b[0m\u001b[0m\n\u001b[0;32m    295\u001b[0m \u001b[1;33m\u001b[0m\u001b[0m\n",
      "\u001b[1;32m~\\anaconda3\\lib\\site-packages\\mysql\\connector\\connection_cext.py\u001b[0m in \u001b[0;36m__init__\u001b[1;34m(self, **kwargs)\u001b[0m\n\u001b[0;32m    116\u001b[0m \u001b[1;33m\u001b[0m\u001b[0m\n\u001b[0;32m    117\u001b[0m         \u001b[1;32mif\u001b[0m \u001b[0mkwargs\u001b[0m\u001b[1;33m:\u001b[0m\u001b[1;33m\u001b[0m\u001b[1;33m\u001b[0m\u001b[0m\n\u001b[1;32m--> 118\u001b[1;33m             \u001b[0mself\u001b[0m\u001b[1;33m.\u001b[0m\u001b[0mconnect\u001b[0m\u001b[1;33m(\u001b[0m\u001b[1;33m**\u001b[0m\u001b[0mkwargs\u001b[0m\u001b[1;33m)\u001b[0m\u001b[1;33m\u001b[0m\u001b[1;33m\u001b[0m\u001b[0m\n\u001b[0m\u001b[0;32m    119\u001b[0m \u001b[1;33m\u001b[0m\u001b[0m\n\u001b[0;32m    120\u001b[0m     \u001b[1;32mdef\u001b[0m \u001b[0m_add_default_conn_attrs\u001b[0m\u001b[1;33m(\u001b[0m\u001b[0mself\u001b[0m\u001b[1;33m)\u001b[0m \u001b[1;33m->\u001b[0m \u001b[1;32mNone\u001b[0m\u001b[1;33m:\u001b[0m\u001b[1;33m\u001b[0m\u001b[1;33m\u001b[0m\u001b[0m\n",
      "\u001b[1;32m~\\anaconda3\\lib\\site-packages\\mysql\\connector\\abstracts.py\u001b[0m in \u001b[0;36mconnect\u001b[1;34m(self, **kwargs)\u001b[0m\n\u001b[0;32m   1176\u001b[0m \u001b[1;33m\u001b[0m\u001b[0m\n\u001b[0;32m   1177\u001b[0m         \u001b[0mself\u001b[0m\u001b[1;33m.\u001b[0m\u001b[0mdisconnect\u001b[0m\u001b[1;33m(\u001b[0m\u001b[1;33m)\u001b[0m\u001b[1;33m\u001b[0m\u001b[1;33m\u001b[0m\u001b[0m\n\u001b[1;32m-> 1178\u001b[1;33m         \u001b[0mself\u001b[0m\u001b[1;33m.\u001b[0m\u001b[0m_open_connection\u001b[0m\u001b[1;33m(\u001b[0m\u001b[1;33m)\u001b[0m\u001b[1;33m\u001b[0m\u001b[1;33m\u001b[0m\u001b[0m\n\u001b[0m\u001b[0;32m   1179\u001b[0m         \u001b[1;31m# Server does not allow to run any other statement different from ALTER\u001b[0m\u001b[1;33m\u001b[0m\u001b[1;33m\u001b[0m\u001b[0m\n\u001b[0;32m   1180\u001b[0m         \u001b[1;31m# when user's password has been expired.\u001b[0m\u001b[1;33m\u001b[0m\u001b[1;33m\u001b[0m\u001b[0m\n",
      "\u001b[1;32m~\\anaconda3\\lib\\site-packages\\mysql\\connector\\connection_cext.py\u001b[0m in \u001b[0;36m_open_connection\u001b[1;34m(self)\u001b[0m\n\u001b[0;32m    291\u001b[0m                 \u001b[0mself\u001b[0m\u001b[1;33m.\u001b[0m\u001b[0mconverter\u001b[0m\u001b[1;33m.\u001b[0m\u001b[0mstr_fallback\u001b[0m \u001b[1;33m=\u001b[0m \u001b[0mself\u001b[0m\u001b[1;33m.\u001b[0m\u001b[0m_converter_str_fallback\u001b[0m\u001b[1;33m\u001b[0m\u001b[1;33m\u001b[0m\u001b[0m\n\u001b[0;32m    292\u001b[0m         \u001b[1;32mexcept\u001b[0m \u001b[0mMySQLInterfaceError\u001b[0m \u001b[1;32mas\u001b[0m \u001b[0merr\u001b[0m\u001b[1;33m:\u001b[0m\u001b[1;33m\u001b[0m\u001b[1;33m\u001b[0m\u001b[0m\n\u001b[1;32m--> 293\u001b[1;33m             raise get_mysql_exception(\n\u001b[0m\u001b[0;32m    294\u001b[0m                 \u001b[0mmsg\u001b[0m\u001b[1;33m=\u001b[0m\u001b[0merr\u001b[0m\u001b[1;33m.\u001b[0m\u001b[0mmsg\u001b[0m\u001b[1;33m,\u001b[0m \u001b[0merrno\u001b[0m\u001b[1;33m=\u001b[0m\u001b[0merr\u001b[0m\u001b[1;33m.\u001b[0m\u001b[0merrno\u001b[0m\u001b[1;33m,\u001b[0m \u001b[0msqlstate\u001b[0m\u001b[1;33m=\u001b[0m\u001b[0merr\u001b[0m\u001b[1;33m.\u001b[0m\u001b[0msqlstate\u001b[0m\u001b[1;33m\u001b[0m\u001b[1;33m\u001b[0m\u001b[0m\n\u001b[0;32m    295\u001b[0m             ) from err\n",
      "\u001b[1;31mProgrammingError\u001b[0m: 1049 (42000): Unknown database 'ayush'"
     ]
    }
   ],
   "source": [
    "import mysql.connector\n",
    "#database connenction\n",
    "db = mysql.connector.connect(\n",
    "        host = \"localhost\" ,\n",
    "        user = \"root\" ,\n",
    "        password = \"password\",\n",
    "        database = \"ayush\"\n",
    ")\n",
    "\n",
    "# database object\n",
    "db_cursor_object = db.cursor()\n",
    "db_cursor_object.execute(\"select * from ayush\")\n",
    "\n",
    "db.commit()\n",
    "db.close()"
   ]
  },
  {
   "cell_type": "markdown",
   "id": "031d15c8",
   "metadata": {},
   "source": [
    "cursor() :- it is used to create a cursor object through which we can  perform  all operations on top of SQL queriez."
   ]
  },
  {
   "cell_type": "markdown",
   "id": "b093db20",
   "metadata": {},
   "source": [
    "execute() :- for executing the sql queries given as arguments."
   ]
  },
  {
   "cell_type": "markdown",
   "id": "4cfce9b7",
   "metadata": {},
   "source": [
    "## 7."
   ]
  },
  {
   "cell_type": "markdown",
   "id": "298d09ce",
   "metadata": {},
   "source": [
    "ORDER OF Query EXECUTION Steps:-\n",
    "\n",
    "\n",
    "\n",
    "                1. Getting Data (From, Join)\n",
    "                2. Row Filter (Where)\n",
    "                3. Grouping (Group by)\n",
    "                4. Group Filter (Having)\n",
    "                5. Return Expressions (Select)\n",
    "                6. Order & Paging (Order by & Limit / Offset)"
   ]
  },
  {
   "cell_type": "code",
   "execution_count": null,
   "id": "10959596",
   "metadata": {},
   "outputs": [],
   "source": []
  }
 ],
 "metadata": {
  "kernelspec": {
   "display_name": "Python 3 (ipykernel)",
   "language": "python",
   "name": "python3"
  },
  "language_info": {
   "codemirror_mode": {
    "name": "ipython",
    "version": 3
   },
   "file_extension": ".py",
   "mimetype": "text/x-python",
   "name": "python",
   "nbconvert_exporter": "python",
   "pygments_lexer": "ipython3",
   "version": "3.9.13"
  }
 },
 "nbformat": 4,
 "nbformat_minor": 5
}
