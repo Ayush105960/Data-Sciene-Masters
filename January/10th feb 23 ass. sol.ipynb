{
 "cells": [
  {
   "cell_type": "markdown",
   "id": "1ed98d28",
   "metadata": {},
   "source": [
    "## 1."
   ]
  },
  {
   "cell_type": "markdown",
   "id": "2f07a38b",
   "metadata": {},
   "source": [
    "* open() function is used to open a file.\n",
    "*Different modes of openning a file ar:\n",
    "** 'r'       open for reading (default)\n",
    "** 'w'       open for writing, truncating the file first\n",
    "** 'x'       create a new file and open it for writing\n",
    "** 'a'       open for writing, appending to the end of the file if it exists\n",
    "** 'b'       binary mode\n",
    "** 't'       text mode (default)\n",
    "** '+'       open a disk file for updating (reading and writing)\n",
    "** 'U'       universal newline mode (deprecated)"
   ]
  },
  {
   "cell_type": "markdown",
   "id": "7d13f611",
   "metadata": {},
   "source": [
    "## 2."
   ]
  },
  {
   "cell_type": "markdown",
   "id": "6501d470",
   "metadata": {},
   "source": [
    "### close() fuction is used to close a file after its writing gets finished.\n",
    "###  we should close our file because of all these reasons:\n",
    "    (1) It is a matter of good programming practice. If you don't close them yourself, Python will eventually close them for you. In some versions of Python, that might be the instant they are no longer being used; in others, it might not happen for a long time. Under some circumstances, it might not happen at all.\n",
    "\n",
    "    (2) When writing to a file, the data may not be written to disk until the file is closed. When you say \"output.write(...)\", the data is often cached in memory and doesn't hit the hard drive until the file is closed. The longer you keep the file open, the greater the chance that you will lose data.\n",
    "\n",
    "    (3) Since your operating system has strict limits on how many file handles can be kept open at any one instant, it is best to get into the habit of closing them when they aren't needed and not wait for \"maid service\" to clean up after you.\n",
    "\n",
    "    (4) Also, some operating systems (Windows, in particular) treat open files as locked and private. While you have a file open, no other program can also open it, even just to read the data. This spoils backup programs, anti-virus scanners, etc."
   ]
  },
  {
   "cell_type": "markdown",
   "id": "0c2f19a3",
   "metadata": {},
   "source": [
    "## 3."
   ]
  },
  {
   "cell_type": "code",
   "execution_count": 3,
   "id": "ff48e133",
   "metadata": {},
   "outputs": [],
   "source": [
    "import io"
   ]
  },
  {
   "cell_type": "code",
   "execution_count": 4,
   "id": "510e140a",
   "metadata": {},
   "outputs": [],
   "source": [
    "with open(\"assignment 10 .txt\" , \"w\") as f:\n",
    "    f.write(\"I want to become a Data Scientist\")\n",
    "    f.close()"
   ]
  },
  {
   "cell_type": "code",
   "execution_count": 8,
   "id": "7b2ccf62",
   "metadata": {},
   "outputs": [
    {
     "name": "stdout",
     "output_type": "stream",
     "text": [
      "I want to become a Data Scientist\n"
     ]
    }
   ],
   "source": [
    "with open(\"assignment 10 .txt\" , \"r\") as f:\n",
    "    print(f.read())"
   ]
  },
  {
   "cell_type": "markdown",
   "id": "0be3beef",
   "metadata": {},
   "source": [
    "## 4. "
   ]
  },
  {
   "cell_type": "markdown",
   "id": "702341eb",
   "metadata": {},
   "source": [
    "* ### read() :- read() is used to read the contents of the file ."
   ]
  },
  {
   "cell_type": "code",
   "execution_count": 58,
   "id": "b271d8f9",
   "metadata": {},
   "outputs": [],
   "source": [
    "with open(\"q4.txt\" , \"w\") as f:\n",
    "    f.write(\"Data Science Masters course is highly cu   \\n   rated and uniquely designed\\n according to the latest industry standards. This program instills students the skills essential to knowledge discovery efforts to identify standard, novel, and truly differentiated solutions and decision-making, including skills in managing, querying, analyzing, visualizing, and extracting meaning from extremely large data sets. This trending program provides students with the statistical, mathematical and computational skills needed to meet the large-scale data science challenges of today's professional world. You will learn all the stack required to work in data science industry including cloud infrastructure and real-time industry projects\")"
   ]
  },
  {
   "cell_type": "code",
   "execution_count": 59,
   "id": "65076083",
   "metadata": {},
   "outputs": [
    {
     "name": "stdout",
     "output_type": "stream",
     "text": [
      "Data Science Masters course is highly cu   \n",
      "   rated and uniquely designed\n",
      " according to the latest industry standards. This program instills students the skills essential to knowledge discovery efforts to identify standard, novel, and truly differentiated solutions and decision-making, including skills in managing, querying, analyzing, visualizing, and extracting meaning from extremely large data sets. This trending program provides students with the statistical, mathematical and computational skills needed to meet the large-scale data science challenges of today's professional world. You will learn all the stack required to work in data science industry including cloud infrastructure and real-time industry projects\n"
     ]
    }
   ],
   "source": [
    "with open(\"q4.txt\" , \"r\") as f:\n",
    "    data = f.read()\n",
    "    print(data)"
   ]
  },
  {
   "cell_type": "markdown",
   "id": "04db534a",
   "metadata": {},
   "source": [
    "* ### readline() :- read until new line comes or EOF happens. "
   ]
  },
  {
   "cell_type": "code",
   "execution_count": 60,
   "id": "85e33e4c",
   "metadata": {},
   "outputs": [
    {
     "name": "stdout",
     "output_type": "stream",
     "text": [
      "Data Science Masters course is highly cu   \n",
      "\n"
     ]
    }
   ],
   "source": [
    "with open(\"q4.txt\" , \"r\") as f:\n",
    "    data = f.readline(100)\n",
    "    print(data)"
   ]
  },
  {
   "cell_type": "markdown",
   "id": "67c55c89",
   "metadata": {},
   "source": [
    "* ### readlines() :- read a list  of lines from the stream. "
   ]
  },
  {
   "cell_type": "code",
   "execution_count": 71,
   "id": "d6a01e03",
   "metadata": {},
   "outputs": [
    {
     "name": "stdout",
     "output_type": "stream",
     "text": [
      "['Data Science Masters course is highly cu   \\n', '   rated and uniquely designed\\n']\n"
     ]
    }
   ],
   "source": [
    "with open(\"q4.txt\" , \"r\") as f:\n",
    "    data = f.readlines(60)\n",
    "    print(data)"
   ]
  },
  {
   "cell_type": "markdown",
   "id": "29ec3204",
   "metadata": {},
   "source": [
    "## 5."
   ]
  },
  {
   "cell_type": "markdown",
   "id": "ab3cc3ee",
   "metadata": {},
   "source": [
    "\"With\" statement is used with open() because In python to read or write a file, we need first to open it and python provides a function open(), which returns a file object. Using this file object, we can read and write in the file. But in the end, we need to close the file using this same."
   ]
  },
  {
   "cell_type": "markdown",
   "id": "b0911553",
   "metadata": {},
   "source": [
    "Benefits of calling open() using “with statement”:-<br>\n",
    "*Fewer chances of bug due to coding error <br>\n",
    "*Excellent handling in case of exception  <br>\n",
    "*Open multiple files in a single “with statement\" :-  <br>"
   ]
  },
  {
   "cell_type": "code",
   "execution_count": 70,
   "id": "4a31c329",
   "metadata": {},
   "outputs": [],
   "source": [
    "with open('outfile.txt', 'w') as file_obj_2, open(\"assignment 10 .txt\", 'r') as file_obj_1:\n",
    "    data = file_obj_1.read()\n",
    "    file_obj_2.write(data)"
   ]
  },
  {
   "cell_type": "markdown",
   "id": "f89c886e",
   "metadata": {},
   "source": [
    "## 6."
   ]
  },
  {
   "cell_type": "markdown",
   "id": "6f4624ae",
   "metadata": {},
   "source": [
    "### write() :- <br>\n",
    "The write() function will write the content in the file without adding any extra characters.\n",
    "<br>\n",
    "Syntax: \n",
    "file_name.write(content)\n",
    "<br>\n",
    "As per the syntax, the string that is passed to the write() function is written into the opened file. The string may include numbers, special characters, or symbols. While writing data to a file, we must know that the write function does not add a newline character(\\n) to the end of the string. <br>\n",
    "**The write() function returns None**"
   ]
  },
  {
   "cell_type": "code",
   "execution_count": 63,
   "id": "08cace4f",
   "metadata": {},
   "outputs": [],
   "source": [
    "with open(\"6th.txt\" , \"w\") as f:\n",
    "    f.write(\"As per the syntax, the string that is passed to the write() function is written into the opened file. The string may include numbers, special characters, or symbols. While writing data to a file, we must know that the write function does not add a newline character(\\n) to the end of the string\")"
   ]
  },
  {
   "cell_type": "code",
   "execution_count": 65,
   "id": "0dd5b267",
   "metadata": {},
   "outputs": [
    {
     "name": "stdout",
     "output_type": "stream",
     "text": [
      "As per the syntax, the string that is passed to the write() function is written into the opened file. The string may include numbers, special characters, or symbols. While writing data to a file, we must know that the write function does not add a newline character(\n",
      ") to the end of the string\n"
     ]
    }
   ],
   "source": [
    "with open(\"6th.txt\" , \"r\") as f:\n",
    "    print(f.read())"
   ]
  },
  {
   "cell_type": "markdown",
   "id": "a989e178",
   "metadata": {},
   "source": [
    "### writelines() : -\n",
    "This function writes the content of a list to a file.\n",
    "<br>\n",
    "Syntax:\n",
    "<br>\n",
    "file_name.writelines(list_of_lines)\n",
    "<br>\n",
    "As per the syntax, the list of strings that is passed to the writelines() function is written into the opened file. Similar to the write() function, the writelines() function does not add a newline character(\\n) to the end of the string.\n",
    "<br>\n",
    "**writelines() returns a list of lines**"
   ]
  },
  {
   "cell_type": "code",
   "execution_count": 93,
   "id": "e71d2d31",
   "metadata": {},
   "outputs": [],
   "source": [
    "with open(\"outfile.txt\" , \"a\") as f:\n",
    "    f.writelines([\"\\nSee you soon!\", \"\\nOver and out.\"])"
   ]
  },
  {
   "cell_type": "code",
   "execution_count": 94,
   "id": "1c9ace06",
   "metadata": {},
   "outputs": [
    {
     "name": "stdout",
     "output_type": "stream",
     "text": [
      "I want to become a Data ScientistSee you soon!Over and out.\n",
      "See you soon!\n",
      "Over and out.\n"
     ]
    }
   ],
   "source": [
    "with open(\"outfile.txt\" , \"r\") as f :\n",
    "    data = f.read()\n",
    "    print(data)"
   ]
  }
 ],
 "metadata": {
  "kernelspec": {
   "display_name": "Python 3 (ipykernel)",
   "language": "python",
   "name": "python3"
  },
  "language_info": {
   "codemirror_mode": {
    "name": "ipython",
    "version": 3
   },
   "file_extension": ".py",
   "mimetype": "text/x-python",
   "name": "python",
   "nbconvert_exporter": "python",
   "pygments_lexer": "ipython3",
   "version": "3.9.13"
  }
 },
 "nbformat": 4,
 "nbformat_minor": 5
}
