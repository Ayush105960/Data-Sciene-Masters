{
 "cells": [
  {
   "cell_type": "markdown",
   "id": "f3c1d753",
   "metadata": {},
   "source": [
    "## 1."
   ]
  },
  {
   "cell_type": "code",
   "execution_count": 2,
   "id": "d80d37bb",
   "metadata": {},
   "outputs": [],
   "source": [
    "import numpy as np\n",
    "list_ = [ '1' ,'2' ,'3', '4', '5' ]\n",
    "array_list = np.array(object = list_)"
   ]
  },
  {
   "cell_type": "code",
   "execution_count": 3,
   "id": "2bda1b55",
   "metadata": {},
   "outputs": [
    {
     "data": {
      "text/plain": [
       "array(['1', '2', '3', '4', '5'], dtype='<U1')"
      ]
     },
     "execution_count": 3,
     "metadata": {},
     "output_type": "execute_result"
    }
   ],
   "source": [
    "array_list"
   ]
  },
  {
   "cell_type": "code",
   "execution_count": 4,
   "id": "d2535649",
   "metadata": {},
   "outputs": [
    {
     "data": {
      "text/plain": [
       "['1', '2', '3', '4', '5']"
      ]
     },
     "execution_count": 4,
     "metadata": {},
     "output_type": "execute_result"
    }
   ],
   "source": [
    "list_"
   ]
  },
  {
   "cell_type": "code",
   "execution_count": 5,
   "id": "a7e15ea4",
   "metadata": {},
   "outputs": [
    {
     "data": {
      "text/plain": [
       "numpy.ndarray"
      ]
     },
     "execution_count": 5,
     "metadata": {},
     "output_type": "execute_result"
    }
   ],
   "source": [
    "type(array_list)"
   ]
  },
  {
   "cell_type": "code",
   "execution_count": 6,
   "id": "591addf1",
   "metadata": {},
   "outputs": [
    {
     "data": {
      "text/plain": [
       "list"
      ]
     },
     "execution_count": 6,
     "metadata": {},
     "output_type": "execute_result"
    }
   ],
   "source": [
    "type(list_)"
   ]
  },
  {
   "cell_type": "markdown",
   "id": "c8ad8fe6",
   "metadata": {},
   "source": [
    "## 2"
   ]
  },
  {
   "cell_type": "code",
   "execution_count": 10,
   "id": "90590ce3",
   "metadata": {},
   "outputs": [
    {
     "name": "stdout",
     "output_type": "stream",
     "text": [
      "list element 1  and its datatype: <class 'str'>\n",
      "list element 2  and its datatype: <class 'str'>\n",
      "list element 3  and its datatype: <class 'str'>\n",
      "list element 4  and its datatype: <class 'str'>\n",
      "list element 5  and its datatype: <class 'str'>\n",
      "array_list element 1  and its datatype: <class 'numpy.str_'>\n",
      "array_list element 2  and its datatype: <class 'numpy.str_'>\n",
      "array_list element 3  and its datatype: <class 'numpy.str_'>\n",
      "array_list element 4  and its datatype: <class 'numpy.str_'>\n",
      "array_list element 5  and its datatype: <class 'numpy.str_'>\n"
     ]
    }
   ],
   "source": [
    "for a in list_:\n",
    "    print( f\"list element {a}  and its datatype: {type(a)}\")\n",
    "for b in array_list:\n",
    "    print( f\"array_list element {b}  and its datatype: {type(b)}\")"
   ]
  },
  {
   "cell_type": "markdown",
   "id": "6c637eb7",
   "metadata": {},
   "source": [
    "## 3."
   ]
  },
  {
   "cell_type": "code",
   "execution_count": 11,
   "id": "43de1e1b",
   "metadata": {},
   "outputs": [],
   "source": [
    "array_list = np.array(object = list_, dtype = int)"
   ]
  },
  {
   "cell_type": "code",
   "execution_count": 12,
   "id": "ef0d0b50",
   "metadata": {},
   "outputs": [
    {
     "data": {
      "text/plain": [
       "array([1, 2, 3, 4, 5])"
      ]
     },
     "execution_count": 12,
     "metadata": {},
     "output_type": "execute_result"
    }
   ],
   "source": [
    "array_list"
   ]
  },
  {
   "cell_type": "code",
   "execution_count": 13,
   "id": "af2b19ec",
   "metadata": {},
   "outputs": [
    {
     "name": "stdout",
     "output_type": "stream",
     "text": [
      "list element 1  and its datatype: <class 'str'>\n",
      "list element 2  and its datatype: <class 'str'>\n",
      "list element 3  and its datatype: <class 'str'>\n",
      "list element 4  and its datatype: <class 'str'>\n",
      "list element 5  and its datatype: <class 'str'>\n",
      "array_list element 1  and its datatype: <class 'numpy.int32'>\n",
      "array_list element 2  and its datatype: <class 'numpy.int32'>\n",
      "array_list element 3  and its datatype: <class 'numpy.int32'>\n",
      "array_list element 4  and its datatype: <class 'numpy.int32'>\n",
      "array_list element 5  and its datatype: <class 'numpy.int32'>\n"
     ]
    }
   ],
   "source": [
    "for a in list_:\n",
    "    print( f\"list element {a}  and its datatype: {type(a)}\")\n",
    "for b in array_list:\n",
    "    print( f\"array_list element {b}  and its datatype: {type(b)}\")"
   ]
  },
  {
   "cell_type": "markdown",
   "id": "2f66fd67",
   "metadata": {},
   "source": [
    "    Yes , there is difference between the datatypes of the list_ and array_list variable.\n"
   ]
  },
  {
   "cell_type": "markdown",
   "id": "ecac5243",
   "metadata": {},
   "source": [
    "## 4."
   ]
  },
  {
   "cell_type": "code",
   "execution_count": 15,
   "id": "0c392c7c",
   "metadata": {},
   "outputs": [],
   "source": [
    "import numpy as np\n",
    "num_list = [ [ 1 , 2 , 3 ] , [ 4 , 5 , 6 ] ]\n",
    "num_array = np.array(object = num_list)"
   ]
  },
  {
   "cell_type": "markdown",
   "id": "b6546483",
   "metadata": {},
   "source": [
    "## (i)"
   ]
  },
  {
   "cell_type": "code",
   "execution_count": 16,
   "id": "7261a4ae",
   "metadata": {},
   "outputs": [
    {
     "data": {
      "text/plain": [
       "(2, 3)"
      ]
     },
     "execution_count": 16,
     "metadata": {},
     "output_type": "execute_result"
    }
   ],
   "source": [
    "num_array.shape"
   ]
  },
  {
   "cell_type": "markdown",
   "id": "dbeba4fa",
   "metadata": {},
   "source": [
    "## (ii)"
   ]
  },
  {
   "cell_type": "code",
   "execution_count": 17,
   "id": "fc40eedc",
   "metadata": {},
   "outputs": [
    {
     "data": {
      "text/plain": [
       "6"
      ]
     },
     "execution_count": 17,
     "metadata": {},
     "output_type": "execute_result"
    }
   ],
   "source": [
    "num_array.size"
   ]
  },
  {
   "cell_type": "markdown",
   "id": "1d1c1368",
   "metadata": {},
   "source": [
    "## 5."
   ]
  },
  {
   "cell_type": "code",
   "execution_count": 22,
   "id": "879c4f19",
   "metadata": {},
   "outputs": [],
   "source": [
    "arr = np.zeros((3,3) , \"int\")"
   ]
  },
  {
   "cell_type": "code",
   "execution_count": 23,
   "id": "92ac5925",
   "metadata": {},
   "outputs": [
    {
     "data": {
      "text/plain": [
       "array([[0, 0, 0],\n",
       "       [0, 0, 0],\n",
       "       [0, 0, 0]])"
      ]
     },
     "execution_count": 23,
     "metadata": {},
     "output_type": "execute_result"
    }
   ],
   "source": [
    "arr"
   ]
  },
  {
   "cell_type": "markdown",
   "id": "31716c5f",
   "metadata": {},
   "source": [
    "## 6."
   ]
  },
  {
   "cell_type": "code",
   "execution_count": 28,
   "id": "0f362f2a",
   "metadata": {},
   "outputs": [],
   "source": [
    "arr2 = np.eye(5,dtype = \"int\")"
   ]
  },
  {
   "cell_type": "code",
   "execution_count": 29,
   "id": "6edfc773",
   "metadata": {},
   "outputs": [
    {
     "data": {
      "text/plain": [
       "array([[1, 0, 0, 0, 0],\n",
       "       [0, 1, 0, 0, 0],\n",
       "       [0, 0, 1, 0, 0],\n",
       "       [0, 0, 0, 1, 0],\n",
       "       [0, 0, 0, 0, 1]])"
      ]
     },
     "execution_count": 29,
     "metadata": {},
     "output_type": "execute_result"
    }
   ],
   "source": [
    "arr2"
   ]
  },
  {
   "cell_type": "code",
   "execution_count": null,
   "id": "1891776e",
   "metadata": {},
   "outputs": [],
   "source": []
  }
 ],
 "metadata": {
  "kernelspec": {
   "display_name": "Python 3 (ipykernel)",
   "language": "python",
   "name": "python3"
  },
  "language_info": {
   "codemirror_mode": {
    "name": "ipython",
    "version": 3
   },
   "file_extension": ".py",
   "mimetype": "text/x-python",
   "name": "python",
   "nbconvert_exporter": "python",
   "pygments_lexer": "ipython3",
   "version": "3.9.13"
  }
 },
 "nbformat": 4,
 "nbformat_minor": 5
}
