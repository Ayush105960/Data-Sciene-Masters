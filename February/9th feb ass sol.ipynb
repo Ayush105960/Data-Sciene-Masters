{
 "cells": [
  {
   "cell_type": "markdown",
   "id": "6c195bfa",
   "metadata": {},
   "source": [
    "## 1."
   ]
  },
  {
   "cell_type": "code",
   "execution_count": 1,
   "id": "b46fb5c4",
   "metadata": {},
   "outputs": [],
   "source": [
    "class vehicle:\n",
    "    def __init__(self , name_of_vehicle, max_speed, average_of_vehicle) :\n",
    "        self.name_of_vehicle = name_of_vehicle\n",
    "        self.max_speed = max_speed\n",
    "        self.average_of_vehicle = average_of_vehicle"
   ]
  },
  {
   "cell_type": "markdown",
   "id": "c3dbdcea",
   "metadata": {},
   "source": [
    " ## 2."
   ]
  },
  {
   "cell_type": "code",
   "execution_count": 30,
   "id": "19b3a795",
   "metadata": {},
   "outputs": [],
   "source": [
    "class car(vehicle) :\n",
    "    def seating_capacity(self , capacity ) :\n",
    "#         self.capacity = capacity\n",
    "        return self.name_of_vehicle , capacity "
   ]
  },
  {
   "cell_type": "markdown",
   "id": "e81c6793",
   "metadata": {},
   "source": [
    " ## 3."
   ]
  },
  {
   "cell_type": "markdown",
   "id": "12b18cb1",
   "metadata": {},
   "source": [
    "Mutiple Inheritence is the process of inheriting several classes at a time."
   ]
  },
  {
   "cell_type": "code",
   "execution_count": 44,
   "id": "f77433a8",
   "metadata": {},
   "outputs": [],
   "source": [
    "class parent1 :\n",
    "    def parent1_function(self) :\n",
    "        print(\"This is the parent1 function\")"
   ]
  },
  {
   "cell_type": "code",
   "execution_count": 45,
   "id": "b3d70924",
   "metadata": {},
   "outputs": [],
   "source": [
    "class parent2 :\n",
    "    def parent2_function(self) :\n",
    "        print(\"this is the parennt 2 function\")"
   ]
  },
  {
   "cell_type": "code",
   "execution_count": 46,
   "id": "6d53b3e5",
   "metadata": {},
   "outputs": [],
   "source": [
    "class child(parent1 , parent2) :\n",
    "    def child_function(self) :\n",
    "        print(\"This is the child function\")"
   ]
  },
  {
   "cell_type": "code",
   "execution_count": 47,
   "id": "35f0ab53",
   "metadata": {},
   "outputs": [],
   "source": [
    "obj_child = child()"
   ]
  },
  {
   "cell_type": "code",
   "execution_count": 48,
   "id": "d32000b5",
   "metadata": {},
   "outputs": [
    {
     "name": "stdout",
     "output_type": "stream",
     "text": [
      "This is the child function\n"
     ]
    }
   ],
   "source": [
    "obj_child.child_function()"
   ]
  },
  {
   "cell_type": "code",
   "execution_count": 49,
   "id": "d9b20427",
   "metadata": {},
   "outputs": [
    {
     "name": "stdout",
     "output_type": "stream",
     "text": [
      "This is the parent1 function\n"
     ]
    }
   ],
   "source": [
    "obj_child.parent1_function()"
   ]
  },
  {
   "cell_type": "code",
   "execution_count": 51,
   "id": "eb9876a5",
   "metadata": {},
   "outputs": [
    {
     "name": "stdout",
     "output_type": "stream",
     "text": [
      "this is the parennt 2 function\n"
     ]
    }
   ],
   "source": [
    "obj_child.parent2_function()"
   ]
  },
  {
   "cell_type": "markdown",
   "id": "2c871b11",
   "metadata": {},
   "source": [
    "## 4."
   ]
  },
  {
   "cell_type": "markdown",
   "id": "7dd219fe",
   "metadata": {},
   "source": [
    "Getters and Setters are used for validating logic for retrieving and updating values of private variables."
   ]
  },
  {
   "cell_type": "code",
   "execution_count": 57,
   "id": "fab0c322",
   "metadata": {},
   "outputs": [],
   "source": [
    "class google_account:\n",
    "    def __init__(self , username , password):\n",
    "        self.__username = username\n",
    "        self.__password = password\n",
    "    \n",
    "    def getter(self):\n",
    "        return (f\" username is : {self.__username} and password is : {self.__password}\")\n",
    "    \n",
    "    def setter(self , new_username ,new_password ) :\n",
    "        self.__username = new_username\n",
    "        self.__password = new_password\n",
    "        \n",
    "        "
   ]
  },
  {
   "cell_type": "code",
   "execution_count": 58,
   "id": "970042ad",
   "metadata": {},
   "outputs": [],
   "source": [
    "user_account = google_account(\"Ayush091221\" , \"d105960@2\")"
   ]
  },
  {
   "cell_type": "code",
   "execution_count": 59,
   "id": "61697bae",
   "metadata": {},
   "outputs": [
    {
     "data": {
      "text/plain": [
       "' username is : Ayush091221 and password is : d105960@2'"
      ]
     },
     "execution_count": 59,
     "metadata": {},
     "output_type": "execute_result"
    }
   ],
   "source": [
    "user_account.getter()"
   ]
  },
  {
   "cell_type": "code",
   "execution_count": 60,
   "id": "e4d7ec26",
   "metadata": {},
   "outputs": [],
   "source": [
    "user_account.setter(\"Ayush105960\" , \"iulvSav1\")"
   ]
  },
  {
   "cell_type": "code",
   "execution_count": 62,
   "id": "05d6b22a",
   "metadata": {},
   "outputs": [
    {
     "data": {
      "text/plain": [
       "' username is : Ayush105960 and password is : iulvSav1'"
      ]
     },
     "execution_count": 62,
     "metadata": {},
     "output_type": "execute_result"
    }
   ],
   "source": [
    "user_account.getter()"
   ]
  },
  {
   "cell_type": "markdown",
   "id": "eebae5e8",
   "metadata": {},
   "source": [
    "## 5."
   ]
  },
  {
   "cell_type": "markdown",
   "id": "952efa5f",
   "metadata": {},
   "source": [
    "When there are functions with same name , parameters , type in the parent and sub_class both \n",
    "ehen , the sub_class method is said to be overriding the parent class function."
   ]
  },
  {
   "cell_type": "code",
   "execution_count": 71,
   "id": "a5bc01db",
   "metadata": {},
   "outputs": [],
   "source": [
    "class parent:\n",
    "    def function(self):\n",
    "        print(\"Function within parent class\")"
   ]
  },
  {
   "cell_type": "code",
   "execution_count": 72,
   "id": "d538de2d",
   "metadata": {},
   "outputs": [],
   "source": [
    "class child(parent):\n",
    "    def funtion(self):\n",
    "        print(\"Function within child class\")"
   ]
  },
  {
   "cell_type": "code",
   "execution_count": 73,
   "id": "b772823d",
   "metadata": {},
   "outputs": [],
   "source": [
    "obj_parent = parent()"
   ]
  },
  {
   "cell_type": "code",
   "execution_count": 74,
   "id": "64dffc13",
   "metadata": {},
   "outputs": [],
   "source": [
    "obj_child = child()"
   ]
  },
  {
   "cell_type": "code",
   "execution_count": 75,
   "id": "824ab483",
   "metadata": {},
   "outputs": [
    {
     "name": "stdout",
     "output_type": "stream",
     "text": [
      "Function within parent class\n"
     ]
    }
   ],
   "source": [
    "obj_child.function()"
   ]
  },
  {
   "cell_type": "code",
   "execution_count": null,
   "id": "6a8bde69",
   "metadata": {},
   "outputs": [],
   "source": []
  }
 ],
 "metadata": {
  "kernelspec": {
   "display_name": "Python 3 (ipykernel)",
   "language": "python",
   "name": "python3"
  },
  "language_info": {
   "codemirror_mode": {
    "name": "ipython",
    "version": 3
   },
   "file_extension": ".py",
   "mimetype": "text/x-python",
   "name": "python",
   "nbconvert_exporter": "python",
   "pygments_lexer": "ipython3",
   "version": "3.9.13"
  }
 },
 "nbformat": 4,
 "nbformat_minor": 5
}
