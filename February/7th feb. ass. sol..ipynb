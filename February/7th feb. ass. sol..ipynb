{
 "cells": [
  {
   "cell_type": "markdown",
   "id": "93711bc5",
   "metadata": {},
   "source": [
    "## 1."
   ]
  },
  {
   "cell_type": "code",
   "execution_count": 38,
   "id": "159c2a1c",
   "metadata": {},
   "outputs": [],
   "source": [
    "def verifies_upper_criteria(password):\n",
    "    count = 0\n",
    "    for each in password:\n",
    "        if each.isupper() == True:\n",
    "            count += 1\n",
    "        if count == 2:\n",
    "#             print(\"upper checked\")\n",
    "            return True\n",
    "#     print(\"upper not checked\")\n",
    "    return False\n",
    "\n",
    "\n",
    "def verifies_lower_criteria(password):\n",
    "    count = 0\n",
    "    for each in password:\n",
    "        if each.islower() == True:\n",
    "            count += 1\n",
    "        if count == 2:\n",
    "#             print(\"loweer checked\")\n",
    "            return True\n",
    "#     print(\"lower not  checked\")\n",
    "    return False\n",
    "        \n",
    "\n",
    "def verifies_number_criteria(password):\n",
    "    for each in password:\n",
    "        if each.isdigit() == True:\n",
    "#             print(\"number checked\")\n",
    "            return True\n",
    "#     print(\"no. not  checked\")\n",
    "    return False\n",
    "\n",
    "def verifies_special_case_criteria(password):\n",
    "    count = 0\n",
    "    for each in password:\n",
    "         if not (each.isalpha() or each.isdigit() or each == ' ' ) :\n",
    "            count += 1\n",
    "         if count == 3:\n",
    "#             print('special checked')\n",
    "            return True\n",
    "#     print(\"special not checked\")\n",
    "    return False\n",
    "        \n",
    "            \n",
    "\n",
    "def validity_password(password):\n",
    "    split_char_pass = list(password)\n",
    "    if verifies_upper_criteria(split_char_pass) and verifies_lower_criteria(split_char_pass) and verifies_number_criteria(split_char_pass) and verifies_special_case_criteria(split_char_pass)and len(split_char_pass)>=10 : \n",
    "        return \"Valid Password\"\n",
    "    else :\n",
    "        return \"Invalid Password\""
   ]
  },
  {
   "cell_type": "code",
   "execution_count": 39,
   "id": "a6922fbf",
   "metadata": {},
   "outputs": [
    {
     "name": "stdout",
     "output_type": "stream",
     "text": [
      "Enter your passeword : 123fsdfdg@#$SDF\n"
     ]
    },
    {
     "data": {
      "text/plain": [
       "'Valid Password'"
      ]
     },
     "execution_count": 39,
     "metadata": {},
     "output_type": "execute_result"
    }
   ],
   "source": [
    "password = input(\"Enter your passeword : \")\n",
    "validity_password(password)"
   ]
  },
  {
   "cell_type": "markdown",
   "id": "af572f95",
   "metadata": {},
   "source": [
    "## 2."
   ]
  },
  {
   "cell_type": "markdown",
   "id": "ce704fec",
   "metadata": {},
   "source": [
    " Check if the string starts with a particular letter Y"
   ]
  },
  {
   "cell_type": "code",
   "execution_count": 55,
   "id": "9ddc5b16",
   "metadata": {},
   "outputs": [
    {
     "name": "stdout",
     "output_type": "stream",
     "text": [
      "enter the string : hdhgfgj\n",
      "enter the particular letter : h\n"
     ]
    },
    {
     "data": {
      "text/plain": [
       "True"
      ]
     },
     "execution_count": 55,
     "metadata": {},
     "output_type": "execute_result"
    }
   ],
   "source": [
    "string = input(\"enter the string : \")\n",
    "letter = input(\"enter the particular letter : \")\n",
    "res = (lambda letter,string : string.startswith(letter))\n",
    "# map(str.startswith , string)\n",
    "bool(res(letter , string))"
   ]
  },
  {
   "cell_type": "markdown",
   "id": "2a693d19",
   "metadata": {},
   "source": [
    "Check if the string is numeric"
   ]
  },
  {
   "cell_type": "code",
   "execution_count": 58,
   "id": "06b9fee8",
   "metadata": {},
   "outputs": [
    {
     "name": "stdout",
     "output_type": "stream",
     "text": [
      "enter the string : 4544366\n"
     ]
    },
    {
     "data": {
      "text/plain": [
       "True"
      ]
     },
     "execution_count": 58,
     "metadata": {},
     "output_type": "execute_result"
    }
   ],
   "source": [
    "string2 = input(\"enter the string : \")\n",
    "res2 = (lambda string2 : string2.isnumeric())\n",
    "res2(string2)"
   ]
  },
  {
   "cell_type": "markdown",
   "id": "fc3b7b8a",
   "metadata": {},
   "source": [
    "Sort a list of tuples having fruit names and their quantity. [(\"mango\",99),(\"orange\",80), (\"grapes\", 1000)-"
   ]
  },
  {
   "cell_type": "code",
   "execution_count": 12,
   "id": "1cac70c9",
   "metadata": {},
   "outputs": [],
   "source": [
    "lst3 = [(\"mango\",99),(\"orange\",80), (\"grapes\", 1000)]\n",
    "# new_list = [lst3 for i in lst3 for j in i if min(lst3[:][:])]\n",
    "# d = {i[1]:i[0] for i in lst3 }"
   ]
  },
  {
   "cell_type": "code",
   "execution_count": 13,
   "id": "1a32c1a4",
   "metadata": {},
   "outputs": [
    {
     "data": {
      "text/plain": [
       "[('orange', 80), ('mango', 99), ('grapes', 1000)]"
      ]
     },
     "execution_count": 13,
     "metadata": {},
     "output_type": "execute_result"
    }
   ],
   "source": [
    "[(d[i] , i ) for i in sorted( {i[1]:i[0] for i in lst3 }.keys()) ]"
   ]
  },
  {
   "cell_type": "markdown",
   "id": "36520b51",
   "metadata": {},
   "source": [
    "Find the squares of numbers from 1 to 10"
   ]
  },
  {
   "cell_type": "code",
   "execution_count": 71,
   "id": "8a11b7ee",
   "metadata": {},
   "outputs": [
    {
     "data": {
      "text/plain": [
       "[1, 4, 9, 16, 25, 36, 49, 64, 81, 100]"
      ]
     },
     "execution_count": 71,
     "metadata": {},
     "output_type": "execute_result"
    }
   ],
   "source": [
    "list(map(lambda x : x**2 , range(1,11)))"
   ]
  },
  {
   "cell_type": "markdown",
   "id": "bd9455b4",
   "metadata": {},
   "source": [
    "Find the cube root of numbers from 1 to 10Y"
   ]
  },
  {
   "cell_type": "code",
   "execution_count": 79,
   "id": "118cd1ff",
   "metadata": {},
   "outputs": [
    {
     "data": {
      "text/plain": [
       "[1.0, 1.26, 1.442, 1.587, 1.71, 1.817, 1.913, 2.0, 2.08, 2.154]"
      ]
     },
     "execution_count": 79,
     "metadata": {},
     "output_type": "execute_result"
    }
   ],
   "source": [
    "[round(cube_root_each**(1/3) ,3) for cube_root_each in range(1,11) ]"
   ]
  },
  {
   "cell_type": "markdown",
   "id": "cb1f0d41",
   "metadata": {},
   "source": [
    "Check if a given number is even"
   ]
  },
  {
   "cell_type": "code",
   "execution_count": 89,
   "id": "e2044ae5",
   "metadata": {},
   "outputs": [
    {
     "name": "stdout",
     "output_type": "stream",
     "text": [
      "enter the number : 4324\n"
     ]
    },
    {
     "data": {
      "text/plain": [
       "True"
      ]
     },
     "execution_count": 89,
     "metadata": {},
     "output_type": "execute_result"
    }
   ],
   "source": [
    "number = int(input(\"enter the number : \"))\n",
    "check = (lambda x : x%2==0 )\n",
    "check(number)"
   ]
  },
  {
   "cell_type": "markdown",
   "id": "244bb623",
   "metadata": {},
   "source": [
    "Filter odd numbers from the given list."
   ]
  },
  {
   "cell_type": "code",
   "execution_count": 91,
   "id": "c9ce0b63",
   "metadata": {},
   "outputs": [],
   "source": [
    "lst4 = [1,2,3,4,5,6,7,8,9,10]"
   ]
  },
  {
   "cell_type": "code",
   "execution_count": 95,
   "id": "af9040a9",
   "metadata": {},
   "outputs": [
    {
     "data": {
      "text/plain": [
       "[1, 3, 5, 7, 9]"
      ]
     },
     "execution_count": 95,
     "metadata": {},
     "output_type": "execute_result"
    }
   ],
   "source": [
    "list(filter(lambda x : x%2 != 0 , lst4))"
   ]
  },
  {
   "cell_type": "markdown",
   "id": "bb5b5fc0",
   "metadata": {},
   "source": [
    "Sort a list of integers into positive and negative integers lists."
   ]
  },
  {
   "cell_type": "code",
   "execution_count": 126,
   "id": "e0797cd2",
   "metadata": {},
   "outputs": [],
   "source": [
    "lst5 = [1,2,3,4,5,6,-1,-2,-3,-4,-5,0]\n",
    "positive_integer_list = []\n",
    "negative_integer_list = []\n",
    "positive_integer_list = list(filter(lambda x : x>0  , lst5))\n",
    "negative_integer_list = list(filter(lambda x :(x<0) , lst5))"
   ]
  },
  {
   "cell_type": "code",
   "execution_count": 129,
   "id": "5b244962",
   "metadata": {},
   "outputs": [
    {
     "data": {
      "text/plain": [
       "[1, 2, 3, 4, 5, 6]"
      ]
     },
     "execution_count": 129,
     "metadata": {},
     "output_type": "execute_result"
    }
   ],
   "source": [
    "positive_integer_list"
   ]
  },
  {
   "cell_type": "code",
   "execution_count": 130,
   "id": "e20772cd",
   "metadata": {},
   "outputs": [
    {
     "data": {
      "text/plain": [
       "[-1, -2, -3, -4, -5]"
      ]
     },
     "execution_count": 130,
     "metadata": {},
     "output_type": "execute_result"
    }
   ],
   "source": [
    "negative_integer_list"
   ]
  },
  {
   "cell_type": "code",
   "execution_count": null,
   "id": "5e2eef82",
   "metadata": {},
   "outputs": [],
   "source": []
  }
 ],
 "metadata": {
  "kernelspec": {
   "display_name": "Python 3 (ipykernel)",
   "language": "python",
   "name": "python3"
  },
  "language_info": {
   "codemirror_mode": {
    "name": "ipython",
    "version": 3
   },
   "file_extension": ".py",
   "mimetype": "text/x-python",
   "name": "python",
   "nbconvert_exporter": "python",
   "pygments_lexer": "ipython3",
   "version": "3.9.13"
  }
 },
 "nbformat": 4,
 "nbformat_minor": 5
}
