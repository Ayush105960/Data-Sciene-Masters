{
 "cells": [
  {
   "cell_type": "markdown",
   "id": "f0e35361",
   "metadata": {},
   "source": [
    "## 1 ."
   ]
  },
  {
   "cell_type": "markdown",
   "id": "fd07afa4",
   "metadata": {},
   "source": [
    "Multiprocesssing is the process of executing several processes concurrently within single thread."
   ]
  },
  {
   "cell_type": "markdown",
   "id": "d0e852d0",
   "metadata": {},
   "source": [
    "Multiprocessing in Python is a built-in package that allows the system to run multiple processes simultaneously. It will enable the breaking of applications into smaller threads that can run independently. The operating system can then allocate all these threads or processes to the processor to run them parallelly, thus improving the overall performance and efficiency.\n",
    "\n"
   ]
  },
  {
   "cell_type": "markdown",
   "id": "bc8c0585",
   "metadata": {},
   "source": [
    "Why useful? :--- <br>  Multiprocesssing enables us to manage multiple processes execution concurently with smoothness.<br> Thus reducing latency overall. <br> And , reduces overall time consumption.  <br> Multiprocessing removes the issue of \"race condition\" by implementing the lock method within the process."
   ]
  },
  {
   "cell_type": "markdown",
   "id": "798d650f",
   "metadata": {},
   "source": [
    "## 2."
   ]
  },
  {
   "cell_type": "markdown",
   "id": "192dd8c6",
   "metadata": {},
   "source": [
    "| Multithreading | Multiprocessing |\n",
    "|---|---|\n",
    "| uses multiple threads to execute one process | mutiple processes are executed parallely through all the processors |\n",
    "| import threading | import multiprocessing |\n",
    "| threads run parallely | processes run parallely | \n",
    "| uses common address space for each thread | uses seperate/unique address space for each process |\n",
    "| requires less memeory storage | requires more memory storage | "
   ]
  },
  {
   "cell_type": "markdown",
   "id": "01fa7029",
   "metadata": {},
   "source": [
    "## 3."
   ]
  },
  {
   "cell_type": "code",
   "execution_count": 8,
   "id": "906d235b",
   "metadata": {},
   "outputs": [
    {
     "name": "stdout",
     "output_type": "stream",
     "text": [
      "Enter initial balance :34\n",
      "Enter W for withdrawl D for deposit or anyother key to exit : w\n",
      "Enter amount to be withdrawn : 34\n",
      "Enter W for withdrawl D for deposit or anyother key to exit : gfdf\n",
      "Enter correct Input ! \n"
     ]
    }
   ],
   "source": [
    "## atm program to withdraw and deposit money concurrently \n",
    "\n",
    "import multiprocessing \n",
    "class withdraw_exception(Exception):\n",
    "    def __init__(self , msg ):\n",
    "        self.msg = msg\n",
    "\n",
    "\n",
    "def withdraw( lock , withdraw_amt , bal ): \n",
    "    try:\n",
    "        if withdraw_amt > bal.value :\n",
    "            raise withdraw_exception(\"Transaction Cancelled ! \\n Insufficient Balance . \")\n",
    "    except withdraw_exception as error:\n",
    "        print(error)\n",
    "    else: \n",
    "        lock.acquire()\n",
    "        bal.value = bal.value - withdraw_amt\n",
    "        lock.release()\n",
    "        print(\"Ur current balance is : \" , bal.value )\n",
    "\n",
    "def deposit( lock , deposit_amt , bal ):\n",
    "    lock.acquire()\n",
    "    bal.value = bal.value + deposit_amt\n",
    "    lock.release()\n",
    "    print(\"Ur current balance is : \" , bal.value )\n",
    "\n",
    "\n",
    "def transact():\n",
    "  INITILAL_BALANCE = int(input(\"Enter initial balance :\"))\n",
    "  bal = multiprocessing.Value(\"i\" , INITILAL_BALANCE)\n",
    "  lock = multiprocessing.Lock()\n",
    "  while  True : \n",
    "    flag = (input(\"Enter W for withdrawl D for deposit or anyother key to exit : \"))\n",
    "    if flag == \"D\" or flag == \"d\":\n",
    "        deposit_amt = int(input(\"Enter amount to be deposited : \"))\n",
    "        proc2 = multiprocessing.Process(target=deposit , args= (lock , deposit_amt ,bal))\n",
    "        proc2.start()\n",
    "        proc2.join()\n",
    "        \n",
    "    elif flag == \"W\" or flag == \"w\":\n",
    "        withdraw_amt = int(input(\"Enter amount to be withdrawn : \"))\n",
    "        proc1 = multiprocessing.Process(target=withdraw , args = (lock , withdraw_amt , bal ))\n",
    "        proc1.start()\n",
    "        proc1.join()\n",
    "\n",
    "    else:\n",
    "        print(\"Enter correct Input ! \")  \n",
    "        break\n",
    "\n",
    "if __name__ == \"__main__\":\n",
    "  transact()\n",
    "\n"
   ]
  },
  {
   "cell_type": "markdown",
   "id": "f5568dca",
   "metadata": {},
   "source": [
    "## 4."
   ]
  },
  {
   "cell_type": "markdown",
   "id": "fbd3eec8",
   "metadata": {},
   "source": [
    "The Python Multiprocessing Pool class allows you to create and manage process pools in Python."
   ]
  },
  {
   "cell_type": "markdown",
   "id": "db6e1028",
   "metadata": {},
   "source": [
    "when you need to execute tasks that may or may not take arguments and may or may not return a result once the tasks are complete. Use the multiprocessing. Pool class when you need to execute different types of ad hoc tasks, such as calling different target task functions."
   ]
  },
  {
   "cell_type": "markdown",
   "id": "dc64ba9e",
   "metadata": {},
   "source": [
    "## 5."
   ]
  },
  {
   "cell_type": "markdown",
   "id": "9c7e9542",
   "metadata": {},
   "source": [
    "The multiprocessing.Pool provides a pool of generic worker processes.\n",
    "\n",
    "It was designed to be easy and straightforward to use.\n",
    "\n",
    "There are four main steps in the life-cycle of using the multiprocessing.Pool class, they are: create, submit, wait, and shutdown.\n",
    "\n",
    "Create: Create the process pool by calling the constructor multiprocessing.Pool().<br>\n",
    "Submit: Submit tasks synchronously or asynchronously.\n",
    "2a. Submit Tasks Synchronously\n",
    "2b. Submit Tasks Asynchronously<br>\n",
    "Wait: Wait and get results as tasks complete (optional).<br>\n",
    "3a. Wait on AsyncResult objects to Complete\n",
    "3b. Wait on AsyncResult objects for Result <br>\n",
    "Shutdown: Shutdown the process pool by calling shutdown().<br>\n",
    "4a. Shutdown Automatically with the Context Manager"
   ]
  },
  {
   "cell_type": "markdown",
   "id": "0cd1a10c",
   "metadata": {},
   "source": [
    "## 6."
   ]
  },
  {
   "cell_type": "code",
   "execution_count": null,
   "id": "a32a1730",
   "metadata": {},
   "outputs": [],
   "source": [
    "import multiprocessing\n",
    "def printer(i):\n",
    "  print(i)\n",
    "if __name__==\"__main__\":\n",
    "  no_of_processes = int(input(\"How many processes u want to run : \"))\n",
    "  for i in range(no_of_processes) :\n",
    "    elem = int(input(\"Enter the no. u want to print by process {}: \".format(i+1)))\n",
    "    process = multiprocessing.Process(target = printer , args = ( elem , ))  \n",
    "    process.start()\n",
    "    process.join()"
   ]
  }
 ],
 "metadata": {
  "kernelspec": {
   "display_name": "Python 3 (ipykernel)",
   "language": "python",
   "name": "python3"
  },
  "language_info": {
   "codemirror_mode": {
    "name": "ipython",
    "version": 3
   },
   "file_extension": ".py",
   "mimetype": "text/x-python",
   "name": "python",
   "nbconvert_exporter": "python",
   "pygments_lexer": "ipython3",
   "version": "3.9.13"
  }
 },
 "nbformat": 4,
 "nbformat_minor": 5
}
