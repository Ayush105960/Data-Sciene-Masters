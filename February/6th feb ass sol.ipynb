{
 "cells": [
  {
   "cell_type": "markdown",
   "id": "74e72933",
   "metadata": {},
   "source": [
    "## 1."
   ]
  },
  {
   "cell_type": "code",
   "execution_count": 78,
   "id": "92d57773",
   "metadata": {},
   "outputs": [],
   "source": [
    "from functools import reduce\n",
    "flat_list = []\n",
    "def product_flat_list(lst):\n",
    "    for each in lst:\n",
    "        if  int_float_check(each) or list_set_tuple_check(each) or dict_check(each) :\n",
    "            continue\n",
    "    return  reduce(lambda x , y: x * y , flat_list)"
   ]
  },
  {
   "cell_type": "code",
   "execution_count": 79,
   "id": "49593c40",
   "metadata": {},
   "outputs": [],
   "source": [
    "def int_float_check(each):\n",
    "#      for each in lst:\\n\",\n",
    "        if type(each) == int or type(each) == float :\n",
    "            flat_list.append(each)\n",
    "            return True"
   ]
  },
  {
   "cell_type": "code",
   "execution_count": 80,
   "id": "2456414d",
   "metadata": {},
   "outputs": [],
   "source": [
    "def list_set_tuple_check(each):\n",
    "        if type(each) == list or type(each) == tuple or type(each) == set:\n",
    "            for i in each: \n",
    "                int_float_check(i)\n",
    "            "
   ]
  },
  {
   "cell_type": "code",
   "execution_count": 81,
   "id": "cbfdc45b",
   "metadata": {},
   "outputs": [],
   "source": [
    "def dict_check(each):\n",
    "        if type(each) == dict:\n",
    "            for i in each.items():\n",
    "                int_float_check(i[0])\n",
    "                int_float_check(i[1])\n",
    "                list_set_tuple_check(i[0])\n",
    "                list_set_tuple_check(i[1])"
   ]
  },
  {
   "cell_type": "code",
   "execution_count": 82,
   "id": "03b32f63",
   "metadata": {},
   "outputs": [],
   "source": [
    "lst1 = [1,2,3,4, [44,55,66, True], False, (34,56,78,89,34), {1,2,3,3,2,1}, {1:34, \"key2\": [55, 67, 78, 89], 4: (45, \n",
    "22, 61, 34)}, [56, 'data science'], 'Machine Learning']\n"
   ]
  },
  {
   "cell_type": "code",
   "execution_count": 83,
   "id": "135a2b15",
   "metadata": {},
   "outputs": [
    {
     "data": {
      "text/plain": [
       "4134711838987085478833841242112000"
      ]
     },
     "execution_count": 83,
     "metadata": {},
     "output_type": "execute_result"
    }
   ],
   "source": [
    "product_flat_list(lst1)"
   ]
  },
  {
   "cell_type": "markdown",
   "id": "91e3ca27",
   "metadata": {},
   "source": [
    "## 2."
   ]
  },
  {
   "cell_type": "code",
   "execution_count": 119,
   "id": "1d02654c",
   "metadata": {},
   "outputs": [
    {
     "name": "stdout",
     "output_type": "stream",
     "text": [
      "Enter message to be encrypted : i am Data Scientist\n"
     ]
    }
   ],
   "source": [
    "input_sentence = input(\"Enter message to be encrypted : \").lower()"
   ]
  },
  {
   "cell_type": "code",
   "execution_count": 121,
   "id": "7c23bc76",
   "metadata": {},
   "outputs": [],
   "source": [
    "def encryption(input_sentence):\n",
    "    for each_char in input_sentence:\n",
    "        if each_char.isalpha():\n",
    "            input_sentence = input_sentence.replace(each_char, chr(219 - ord(each_char)))\n",
    "    #         ord() : returns the asscii value \n",
    "    #         chr() : prints value by using ascii value\n",
    "    #         ord(a) + ord(z) = 219   \n",
    "    #  similarly. ord(b) + ord(y)  = 219\n",
    "        if each_char == \" \":\n",
    "            input_sentence = input_sentence.replace(each_char , \"$\")\n",
    "    return input_sentence"
   ]
  },
  {
   "cell_type": "code",
   "execution_count": 122,
   "id": "85b771a5",
   "metadata": {},
   "outputs": [
    {
     "data": {
      "text/plain": [
       "'r$zm$wzgz$hxrvmgrhg'"
      ]
     },
     "execution_count": 122,
     "metadata": {},
     "output_type": "execute_result"
    }
   ],
   "source": [
    "encryption(input_sentence)"
   ]
  },
  {
   "cell_type": "code",
   "execution_count": null,
   "id": "90ab0785",
   "metadata": {},
   "outputs": [],
   "source": []
  }
 ],
 "metadata": {
  "kernelspec": {
   "display_name": "Python 3 (ipykernel)",
   "language": "python",
   "name": "python3"
  },
  "language_info": {
   "codemirror_mode": {
    "name": "ipython",
    "version": 3
   },
   "file_extension": ".py",
   "mimetype": "text/x-python",
   "name": "python",
   "nbconvert_exporter": "python",
   "pygments_lexer": "ipython3",
   "version": "3.9.13"
  }
 },
 "nbformat": 4,
 "nbformat_minor": 5
}
