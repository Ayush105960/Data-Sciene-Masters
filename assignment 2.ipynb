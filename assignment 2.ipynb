{
 "cells": [
  {
   "cell_type": "markdown",
   "id": "49447bf4",
   "metadata": {},
   "source": [
    "1. Write a program to accept percentage from the user and display the grade according to the following "
   ]
  },
  {
   "cell_type": "code",
   "execution_count": 4,
   "id": "d7c2d039",
   "metadata": {},
   "outputs": [
    {
     "name": "stdout",
     "output_type": "stream",
     "text": [
      "Enter your percentage : 85.25\n",
      "B\n"
     ]
    }
   ],
   "source": [
    "percentage = float(input(\"Enter your percentage : \"))\n",
    "def grade(percentage):\n",
    "    if percentage>90:\n",
    "        print('A')\n",
    "    elif percentage<=90 and percentage>80:\n",
    "        print('B')\n",
    "    elif percentage<=80 and percentage>=60:\n",
    "        print('C')\n",
    "    elif percentage<60:\n",
    "        print('D')\n",
    "        \n",
    "grade(percentage)"
   ]
  },
  {
   "cell_type": "markdown",
   "id": "a7836042",
   "metadata": {},
   "source": [
    "## 2. "
   ]
  },
  {
   "cell_type": "code",
   "execution_count": null,
   "id": "67deaa26",
   "metadata": {},
   "outputs": [],
   "source": [
    "cost_price = float(input(\"Enter cost price of the bike : \"))\n",
    "def road_tax(cost_price):\n",
    "    if cost_price>100000:\n",
    "        print('15%')\n",
    "    elif cost_price<=100000 and cost_price>50000:\n",
    "        print('10%')\n",
    "    elif cost_price<=50000 :\n",
    "        print('5%')\n",
    "        \n",
    "road_tax(cost_price)"
   ]
  },
  {
   "cell_type": "markdown",
   "id": "d770b6eb",
   "metadata": {},
   "source": [
    "## 3."
   ]
  },
  {
   "cell_type": "code",
   "execution_count": 6,
   "id": "d5d6c7a9",
   "metadata": {},
   "outputs": [
    {
     "name": "stdout",
     "output_type": "stream",
     "text": [
      "Enter  city : Jaipur\n",
      "Jai Mahal\n"
     ]
    }
   ],
   "source": [
    "city = (input(\"Enter  city : \"))\n",
    "def monuments(city):\n",
    "    if city == 'Delhi':\n",
    "        print('Red Fort%')\n",
    "    elif city == 'Agra':\n",
    "        print('Taj Mahal')\n",
    "    elif city == 'Jaipur' :\n",
    "        print('Jai Mahal')\n",
    "        \n",
    "monuments(city)"
   ]
  },
  {
   "cell_type": "markdown",
   "id": "ef60f3bb",
   "metadata": {},
   "source": [
    "## 4."
   ]
  },
  {
   "cell_type": "code",
   "execution_count": 18,
   "id": "2b5b9a56",
   "metadata": {},
   "outputs": [
    {
     "name": "stdout",
     "output_type": "stream",
     "text": [
      "Enter the number : 1564684684\n",
      "The 1564684684.0 can be divided 18 times by 3 till 10.\n"
     ]
    }
   ],
   "source": [
    "number = float(input(\"Enter the number : \"))\n",
    "def no_of_divisions(number):\n",
    "    count = 0\n",
    "    while number>10:\n",
    "        number /= 3.\n",
    "        count += 1\n",
    "    return count\n",
    "print(\"The {} can be divided {} times by 3 till 10.\".format(number,no_of_divisions(number)))\n",
    "         \n",
    "            \n",
    "            \n",
    "    "
   ]
  },
  {
   "cell_type": "markdown",
   "id": "072b5d0e",
   "metadata": {},
   "source": [
    "## 5."
   ]
  },
  {
   "cell_type": "markdown",
   "id": "40aefedd",
   "metadata": {},
   "source": [
    "#### Usage of While loop:"
   ]
  },
  {
   "cell_type": "markdown",
   "id": "51098c2c",
   "metadata": {},
   "source": [
    "#####                            Why:"
   ]
  },
  {
   "cell_type": "markdown",
   "id": "05fdb90f",
   "metadata": {},
   "source": [
    "   1. to run a loop over a condition until it is false."
   ]
  },
  {
   "cell_type": "markdown",
   "id": "f6cf16bb",
   "metadata": {},
   "source": [
    "##### When:"
   ]
  },
  {
   "cell_type": "markdown",
   "id": "8c96b659",
   "metadata": {},
   "source": [
    "2. whenever we want to run a block of code until the certain condition remains true"
   ]
  },
  {
   "cell_type": "markdown",
   "id": "4200568b",
   "metadata": {},
   "source": [
    "## 6."
   ]
  },
  {
   "cell_type": "code",
   "execution_count": 24,
   "id": "ee3093fd",
   "metadata": {},
   "outputs": [
    {
     "name": "stdout",
     "output_type": "stream",
     "text": [
      "Enter the no of rows of triangle:25\n",
      "* \n",
      "* * \n",
      "* * * \n",
      "* * * * \n",
      "* * * * * \n",
      "* * * * * * \n",
      "* * * * * * * \n",
      "* * * * * * * * \n",
      "* * * * * * * * * \n",
      "* * * * * * * * * * \n",
      "* * * * * * * * * * * \n",
      "* * * * * * * * * * * * \n",
      "* * * * * * * * * * * * * \n",
      "* * * * * * * * * * * * * * \n",
      "* * * * * * * * * * * * * * * \n",
      "* * * * * * * * * * * * * * * * \n",
      "* * * * * * * * * * * * * * * * * \n",
      "* * * * * * * * * * * * * * * * * * \n",
      "* * * * * * * * * * * * * * * * * * * \n",
      "* * * * * * * * * * * * * * * * * * * * \n",
      "* * * * * * * * * * * * * * * * * * * * * \n",
      "* * * * * * * * * * * * * * * * * * * * * * \n",
      "* * * * * * * * * * * * * * * * * * * * * * * \n",
      "* * * * * * * * * * * * * * * * * * * * * * * * \n",
      "* * * * * * * * * * * * * * * * * * * * * * * * * \n"
     ]
    }
   ],
   "source": [
    "#triangular pattern\n",
    "rows = int(input(\"Enter the no of rows of triangle:\"))\n",
    "counter = 1\n",
    "while counter<=rows:\n",
    "    temp = counter\n",
    "    while temp>0:\n",
    "        print(\"* \" , end = \"\")\n",
    "        temp -= 1\n",
    "    print()\n",
    "    counter += 1"
   ]
  },
  {
   "cell_type": "code",
   "execution_count": null,
   "id": "6746d3f9",
   "metadata": {},
   "outputs": [],
   "source": [
    "# hollow trinagle\n",
    "height = int(input(\"Enter the height of triangle: \"))\n",
    "counter = 1\n",
    "while counter<=height:\n",
    "#     temp = counter\n",
    "#     while temp>0:\n",
    "    if counter==1:\n",
    "        print(\"*\")\n",
    "        counter += 1\n",
    "        continue\n",
    "    elif counter == height:\n",
    "        print(\"*\" * counter)\n",
    "        counter += 1\n",
    "    else:\n",
    "        print(\"*\" + \" \"*(counter-2) + \"*\")\n",
    "        counter += 1"
   ]
  },
  {
   "cell_type": "code",
   "execution_count": 5,
   "id": "235bdec4",
   "metadata": {},
   "outputs": [
    {
     "name": "stdout",
     "output_type": "stream",
     "text": [
      "Enter the height of the pyramid:10\n",
      "                  * \n",
      "                * * * \n",
      "              * * * * * \n",
      "            * * * * * * * \n",
      "          * * * * * * * * * \n",
      "        * * * * * * * * * * * \n",
      "      * * * * * * * * * * * * * \n",
      "    * * * * * * * * * * * * * * * \n",
      "  * * * * * * * * * * * * * * * * * \n",
      "* * * * * * * * * * * * * * * * * * * \n"
     ]
    }
   ],
   "source": [
    "# pyramid shape\n",
    "height = int(input(\"Enter the height of the pyramid:\"))\n",
    "counter = 1\n",
    "while counter <= height:\n",
    "    while True:\n",
    "        print(\"  \" * (height-counter) + \"* \" * (2*counter-1) ) \n",
    "        break\n",
    "    counter += 1"
   ]
  },
  {
   "cell_type": "code",
   "execution_count": null,
   "id": "d701fb66",
   "metadata": {},
   "outputs": [],
   "source": [
    "# hollow pyramid\n",
    "height = int(input(\"Enter the height of the pyramid:\")) \n",
    "counter = 1\n",
    "while counter <= height:\n",
    "    first_space_size = height - counter\n",
    "    internal_space_size = ((counter-1)*2 -1)\n",
    "    if  counter==1:\n",
    "        print(\" \" * first_space_size + \"*\" )\n",
    "        counter += 1\n",
    "    elif counter == height:\n",
    "        print(\"* \" *( (2*counter-1)//2 +1))\n",
    "        break\n",
    "    else:\n",
    "        print(\" \" * first_space_size + \"*\"  + \" \" * internal_space_size + \"*\")\n",
    "        counter += 1"
   ]
  },
  {
   "cell_type": "code",
   "execution_count": 3,
   "id": "9317f271",
   "metadata": {},
   "outputs": [
    {
     "name": "stdout",
     "output_type": "stream",
     "text": [
      "Enter the height of the pyramid:10\n",
      "         *          \t*    *\n",
      "        * *         \t*        *\n",
      "       *   *        \t*        *\n",
      "      *     *       \t*    *\n",
      "     *       *      \t**\n",
      "    * * * * * *      \t*  *\n",
      "   *           *    \t*    *\n",
      "  *             *   \t*      *\n",
      " *               *  \t*        *\n",
      "*                 * \t*          *\n"
     ]
    }
   ],
   "source": [
    "# printing my name A . R \n",
    "height = int(input(\"Enter the height of the pyramid:\")) \n",
    "def space_generator(counter):\n",
    "    first_space_size = height - counter\n",
    "    return str(\" \" * first_space_size)\n",
    "\n",
    "\n",
    "def internal_space(counter):\n",
    "    internal_space_size = ((counter-1)*2 -1)\n",
    "    return str(\" \" * internal_space_size)\n",
    "\n",
    "def midline_star(counter):\n",
    "    no_stars = ((2*counter-1)//2+1)\n",
    "    return str(\"* \" * no_stars)\n",
    "\n",
    "def first_char_end_space_generator(counter):\n",
    "    length_used = len(space_generator(counter)) + len(internal_space(counter)) + 2\n",
    "    spaces = height * 2 - length_used\n",
    "    if counter == 1:\n",
    "        return ( \" \" * (spaces+1))\n",
    "    return (\" \" * spaces)\n",
    "\n",
    "def second_space_generator(counter):\n",
    "    if (counter <= height//4) and (counter >=1) :\n",
    "        return (\"    \" * counter)\n",
    "    elif (counter <= height//2) and (counter >=height//4):\n",
    "        spaces = height//2 - counter\n",
    "        return (\"    \" * spaces)\n",
    "    else:\n",
    "        spaces = counter - height//2\n",
    "        return(\"  \" * spaces)\n",
    "    \n",
    "counter = 1\n",
    "while counter <= height:\n",
    "    flag = True\n",
    "    \n",
    "    while flag:\n",
    "       \n",
    "        if  counter==1:\n",
    "            print(space_generator(counter) + \"*\" ,end = first_char_end_space_generator(counter))\n",
    "#             print(\"*\" + second_space_generator(counter) + \"*\")\n",
    "            \n",
    "        elif counter==height//2 + 1 :\n",
    "            print(space_generator(counter) +  midline_star(counter) ,end = first_char_end_space_generator(counter))\n",
    "#             print(\"*\" + second_space_generator(counter) + \"*\")\n",
    "            \n",
    "        else:\n",
    "            print(space_generator(counter) + \"*\"  + internal_space(counter) + \"*\" ,end = first_char_end_space_generator(counter))\n",
    "#             print(\"*\" + \" \" * (counter-(height//2)) + \"*\")\n",
    "            \n",
    "        print(\"\\t*\" + str(second_space_generator(counter)) + \"*\\r\" )\n",
    "        flag = False\n",
    "        counter += 1"
   ]
  },
  {
   "cell_type": "markdown",
   "id": "101738f1",
   "metadata": {},
   "source": [
    "## 7.\n"
   ]
  },
  {
   "cell_type": "code",
   "execution_count": 4,
   "id": "341899d1",
   "metadata": {},
   "outputs": [
    {
     "name": "stdout",
     "output_type": "stream",
     "text": [
      "10\n",
      "9\n",
      "8\n",
      "7\n",
      "6\n",
      "5\n",
      "4\n",
      "3\n",
      "2\n",
      "1\n"
     ]
    }
   ],
   "source": [
    "counter = 10\n",
    "while counter>0:\n",
    "    print(counter)\n",
    "    counter -= 1"
   ]
  },
  {
   "cell_type": "markdown",
   "id": "2385fe6c",
   "metadata": {},
   "source": [
    "## 8."
   ]
  },
  {
   "cell_type": "code",
   "execution_count": 5,
   "id": "5ef3d88e",
   "metadata": {},
   "outputs": [
    {
     "name": "stdout",
     "output_type": "stream",
     "text": [
      "1\n",
      "2\n",
      "3\n",
      "4\n",
      "5\n",
      "6\n",
      "7\n",
      "8\n",
      "9\n",
      "10\n"
     ]
    }
   ],
   "source": [
    "counter = 1\n",
    "while counter<=10:\n",
    "    print(counter)\n",
    "    counter += 1"
   ]
  },
  {
   "cell_type": "code",
   "execution_count": null,
   "id": "21af61d9",
   "metadata": {},
   "outputs": [],
   "source": []
  }
 ],
 "metadata": {
  "kernelspec": {
   "display_name": "Python 3 (ipykernel)",
   "language": "python",
   "name": "python3"
  },
  "language_info": {
   "codemirror_mode": {
    "name": "ipython",
    "version": 3
   },
   "file_extension": ".py",
   "mimetype": "text/x-python",
   "name": "python",
   "nbconvert_exporter": "python",
   "pygments_lexer": "ipython3",
   "version": "3.9.13"
  }
 },
 "nbformat": 4,
 "nbformat_minor": 5
}
