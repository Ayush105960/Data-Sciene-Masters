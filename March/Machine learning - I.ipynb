{
 "cells": [
  {
   "cell_type": "markdown",
   "id": "c39d8cc1",
   "metadata": {},
   "source": [
    "## 1."
   ]
  },
  {
   "cell_type": "markdown",
   "id": "96aa9568",
   "metadata": {},
   "source": [
    "1."
   ]
  },
  {
   "cell_type": "markdown",
   "id": "a82522a8",
   "metadata": {},
   "source": [
    "    Artificial Intelligence is basically the theory plus development of computer systems to perform all those tasks which require humand intelligence."
   ]
  },
  {
   "cell_type": "markdown",
   "id": "faca71f0",
   "metadata": {},
   "source": [
    "    eg. Facial and Object Recognition . \n",
    "    Generally , earlier humans used to identify other humans or objects using its intelligence but nowadays with proper AI tech , even comp. systems and its applications can be traind suitably for identiftung the object and the faces in the real world."
   ]
  },
  {
   "cell_type": "markdown",
   "id": "e8b14459",
   "metadata": {},
   "source": [
    "2."
   ]
  },
  {
   "cell_type": "markdown",
   "id": "5ad0b9f8",
   "metadata": {},
   "source": [
    "    Machine learning uses statstools to train , analyse the model using proper alogorithm for proper future predictions and analytics."
   ]
  },
  {
   "cell_type": "markdown",
   "id": "06249f98",
   "metadata": {},
   "source": [
    "    Eg. Recommendation System . It is a model which is trained the way that the content we are recommended based on our specific field of interest and recent searches. All these things are useful for designing the algorithm of the model. Thus it funcitons properly as trained. "
   ]
  },
  {
   "cell_type": "markdown",
   "id": "94788bb4",
   "metadata": {},
   "source": [
    "3."
   ]
  },
  {
   "cell_type": "markdown",
   "id": "96b79d83",
   "metadata": {},
   "source": [
    "    Deep learning basically is the subset of machine learnig which mimics human brain . As it is a subset of Machine learning so it gains experience from its training data , but in very depth. It performs advanced statistical experiments."
   ]
  },
  {
   "cell_type": "markdown",
   "id": "c4a73b26",
   "metadata": {},
   "source": [
    "    eg: virtual assistants . These assistants are trained using deeep learning which performs actions accordin our request."
   ]
  },
  {
   "cell_type": "markdown",
   "id": "2e814829",
   "metadata": {},
   "source": [
    "## 2."
   ]
  },
  {
   "cell_type": "markdown",
   "id": "c0a2391f",
   "metadata": {},
   "source": [
    "    Supervised learning is the type of learing in which we train the model using labelled data .\n",
    "    Eg.\n",
    "    1. Prediction of house price based on some relevant features.\n",
    "    2. Will a student pass or not in exam ?\n",
    "    3. Spam Detection\n",
    "    4. Weather Forecasting\n",
    "    5. Stock Price prediction\n"
   ]
  },
  {
   "cell_type": "markdown",
   "id": "f65288d4",
   "metadata": {},
   "source": [
    "## 3."
   ]
  },
  {
   "cell_type": "markdown",
   "id": "83bfbf0f",
   "metadata": {},
   "source": [
    "    Unsupervised learning basically works on unlabelled data which are used for finding clusters in uncategorical data."
   ]
  },
  {
   "cell_type": "markdown",
   "id": "ac00dc2c",
   "metadata": {},
   "source": [
    "        Examples of unsupervised learning :\n",
    "            1. customer segmentation.\n",
    "            2. news section\n",
    "            3. computer vision.\n",
    "            4. recommendation systems.\n",
    "            5. anomaly detection"
   ]
  },
  {
   "cell_type": "markdown",
   "id": "be78969d",
   "metadata": {},
   "source": [
    "## 4."
   ]
  },
  {
   "cell_type": "markdown",
   "id": "58f039cb",
   "metadata": {},
   "source": [
    "    AI is the superset of all the technological intelligences . It basically creates smart applications which performs the human intellectual actions without human intervention.\n",
    "    While , Machine Learning is the subset of AI which makes the model learn algo for its prediction.\n",
    "    While , Deep learnnig is the super subset of AI and subset of ML. As the name suggests , it trains the machine/model in depth .\n",
    "\n",
    "    While , Data Science incorporates in each of the field like AI , ML and DL as it uses data and extract meaningful insights from data ."
   ]
  },
  {
   "cell_type": "markdown",
   "id": "d6fc9113",
   "metadata": {},
   "source": [
    "## 5. "
   ]
  },
  {
   "cell_type": "markdown",
   "id": "530183c0",
   "metadata": {},
   "source": [
    "\n",
    "    The main difference between these types is the level of availability of ground truth data, which is prior knowledge of what the output of the model should be for a given input."
   ]
  },
  {
   "cell_type": "markdown",
   "id": "55a50840",
   "metadata": {},
   "source": [
    "## 6."
   ]
  },
  {
   "cell_type": "markdown",
   "id": "d37b43e8",
   "metadata": {},
   "source": [
    "    We basically split our dataset into three parts: train , test and validation data , that's why it is called train test and validation split."
   ]
  },
  {
   "cell_type": "markdown",
   "id": "57cf8d78",
   "metadata": {},
   "source": [
    "    Train data: used for training the dataset .\n",
    "    Validation data: used for performing validation on the trained model.\n",
    "    Test data: used for testing the model and finding the accuracy of the model."
   ]
  },
  {
   "cell_type": "markdown",
   "id": "9b6a2d64",
   "metadata": {},
   "source": [
    "## 7."
   ]
  },
  {
   "cell_type": "markdown",
   "id": "79dd8cc5",
   "metadata": {},
   "source": [
    "    Simply , by performing clustering in the entire dataset.\n",
    "    Actually , anamolies are deected using unsupervised learning ."
   ]
  },
  {
   "cell_type": "markdown",
   "id": "eb8f13c7",
   "metadata": {},
   "source": [
    "## 8. "
   ]
  },
  {
   "cell_type": "markdown",
   "id": "e8bc79d7",
   "metadata": {},
   "source": [
    "    Supervised Machine Learning Algo:\n",
    "        1. Logistic Regression\n",
    "        2. Linear Regression\n",
    "        3. Random Forest\n",
    "        4. Support Vector Machines\n",
    "        5. Gradient Boosted Trees\n",
    "    Unsupervised ML Algo:\n",
    "        1. K means Clustering\n",
    "        2. KNN clustering\n",
    "        3. Hierarchial Clustering\n",
    "        4. Anomaly Detection"
   ]
  },
  {
   "cell_type": "code",
   "execution_count": null,
   "id": "fba41ad3",
   "metadata": {},
   "outputs": [],
   "source": []
  }
 ],
 "metadata": {
  "kernelspec": {
   "display_name": "Python 3 (ipykernel)",
   "language": "python",
   "name": "python3"
  },
  "language_info": {
   "codemirror_mode": {
    "name": "ipython",
    "version": 3
   },
   "file_extension": ".py",
   "mimetype": "text/x-python",
   "name": "python",
   "nbconvert_exporter": "python",
   "pygments_lexer": "ipython3",
   "version": "3.9.13"
  }
 },
 "nbformat": 4,
 "nbformat_minor": 5
}
