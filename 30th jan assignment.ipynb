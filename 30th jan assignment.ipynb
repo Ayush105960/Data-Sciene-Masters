{
 "cells": [
  {
   "cell_type": "markdown",
   "id": "f55d9978",
   "metadata": {},
   "source": [
    "# 1."
   ]
  },
  {
   "cell_type": "markdown",
   "id": "b6c5075e",
   "metadata": {},
   "source": [
    "\n",
    "# Characteristics of a tuple : \n",
    "\n",
    "* Immutable\n",
    "* Subscriptable\n",
    "* Allows duplicate values\n",
    "* Collection of :\n",
    "        * integers\n",
    "        * strings\n",
    "        * boolean\n",
    "        * \n",
    "        * tuple\n",
    "        \n",
    "yes tuple is immutable"
   ]
  },
  {
   "cell_type": "markdown",
   "id": "cacd5512",
   "metadata": {},
   "source": [
    "## 2\n"
   ]
  },
  {
   "cell_type": "markdown",
   "id": "5238acab",
   "metadata": {},
   "source": [
    "Two tuple methods :\n"
   ]
  },
  {
   "cell_type": "code",
   "execution_count": 13,
   "id": "6433445a",
   "metadata": {},
   "outputs": [
    {
     "data": {
      "text/plain": [
       "2"
      ]
     },
     "execution_count": 13,
     "metadata": {},
     "output_type": "execute_result"
    }
   ],
   "source": [
    "tup = (1,2,3,2,3)\n",
    "tup.index(3)"
   ]
  },
  {
   "cell_type": "code",
   "execution_count": 14,
   "id": "9d14184d",
   "metadata": {},
   "outputs": [
    {
     "data": {
      "text/plain": [
       "2"
      ]
     },
     "execution_count": 14,
     "metadata": {},
     "output_type": "execute_result"
    }
   ],
   "source": [
    "tup.count(2)"
   ]
  },
  {
   "cell_type": "markdown",
   "id": "1a3e70ac",
   "metadata": {},
   "source": [
    "tuples have only two because of its immutable nature . \n",
    "But , lists can be modified and most of the list built in methods are based upon mutability"
   ]
  },
  {
   "cell_type": "markdown",
   "id": "53050729",
   "metadata": {},
   "source": [
    "## 3."
   ]
  },
  {
   "cell_type": "markdown",
   "id": "336a3759",
   "metadata": {},
   "source": [
    "Set don't allow duplicte vallues\n"
   ]
  },
  {
   "cell_type": "code",
   "execution_count": 16,
   "id": "dd59694b",
   "metadata": {},
   "outputs": [],
   "source": [
    "\n",
    "lst = [1, 1, 1, 2, 1, 3, 1, 4, 2, 1, 2, 2, 2, 3, 2, 4, 3, 1, 3, 2, 3, 3, 3, 4, 4, 1, 4, 2, 4, 3, 4, 4]"
   ]
  },
  {
   "cell_type": "code",
   "execution_count": 20,
   "id": "2eed83ff",
   "metadata": {},
   "outputs": [],
   "source": [
    "lst = list(set(lst))"
   ]
  },
  {
   "cell_type": "code",
   "execution_count": 21,
   "id": "a4956a69",
   "metadata": {},
   "outputs": [
    {
     "data": {
      "text/plain": [
       "[1, 2, 3, 4]"
      ]
     },
     "execution_count": 21,
     "metadata": {},
     "output_type": "execute_result"
    }
   ],
   "source": [
    "lst"
   ]
  },
  {
   "cell_type": "markdown",
   "id": "20e0054a",
   "metadata": {},
   "source": [
    "## 4."
   ]
  },
  {
   "cell_type": "markdown",
   "id": "1b1f92c7",
   "metadata": {},
   "source": [
    "* union() : - returns a new string of union of two collections , not an inplace method.\n",
    "* update() : - updates the first collection with the union of the first and second collection , an inplace method"
   ]
  },
  {
   "cell_type": "code",
   "execution_count": 26,
   "id": "7204f274",
   "metadata": {},
   "outputs": [],
   "source": [
    "s1 = {1,2,3,4}\n",
    "s2 = {3,4,5,6}"
   ]
  },
  {
   "cell_type": "code",
   "execution_count": 27,
   "id": "eddc03b7",
   "metadata": {},
   "outputs": [
    {
     "name": "stdout",
     "output_type": "stream",
     "text": [
      "{1, 2, 3, 4, 5, 6}\n",
      "{1, 2, 3, 4}\n",
      "{3, 4, 5, 6}\n"
     ]
    }
   ],
   "source": [
    "print(s1.union(s2))\n",
    "print(s1)\n",
    "print(s2)"
   ]
  },
  {
   "cell_type": "code",
   "execution_count": 28,
   "id": "213eb780",
   "metadata": {},
   "outputs": [
    {
     "name": "stdout",
     "output_type": "stream",
     "text": [
      "None\n",
      "{1, 2, 3, 4, 5, 6}\n",
      "{3, 4, 5, 6}\n"
     ]
    }
   ],
   "source": [
    "print(s1.update(s2))\n",
    "print(s1)\n",
    "print(s2)"
   ]
  },
  {
   "cell_type": "markdown",
   "id": "5e8ea569",
   "metadata": {},
   "source": [
    "## 5.\n"
   ]
  },
  {
   "cell_type": "markdown",
   "id": "644dc4cd",
   "metadata": {},
   "source": [
    "Dictionary is a collection datatype having key and value pair which are unorded,subscriptable and mutable."
   ]
  },
  {
   "cell_type": "code",
   "execution_count": 29,
   "id": "f979e365",
   "metadata": {},
   "outputs": [],
   "source": [
    "dictionary = {'name' : \"Ayush Raj\" , \"age\" : 19 , \"eligible to vote\" : True  }"
   ]
  },
  {
   "cell_type": "code",
   "execution_count": 30,
   "id": "da616fc8",
   "metadata": {},
   "outputs": [
    {
     "data": {
      "text/plain": [
       "{'name': 'Ayush Raj', 'age': 19, 'eligible to vote': True}"
      ]
     },
     "execution_count": 30,
     "metadata": {},
     "output_type": "execute_result"
    }
   ],
   "source": [
    "dictionary"
   ]
  },
  {
   "cell_type": "markdown",
   "id": "38c840b2",
   "metadata": {},
   "source": [
    "Dictionary is unordered."
   ]
  },
  {
   "cell_type": "markdown",
   "id": "b8238cf2",
   "metadata": {},
   "source": [
    "### 6."
   ]
  },
  {
   "cell_type": "markdown",
   "id": "fcd54728",
   "metadata": {},
   "source": [
    "We can create a nested dictionary."
   ]
  },
  {
   "cell_type": "code",
   "execution_count": 34,
   "id": "d9d53981",
   "metadata": {},
   "outputs": [],
   "source": [
    "nested_dictionary = {'name' : \"Ayush Raj\" , \"age\" : 19 , \"eligible to vote\" : True ,\n",
    "                      \"address\" : {\n",
    "                          \"village\" : \"indupur\" ,\n",
    "                          \"post office\" : \"barahiya\" , \n",
    "                          \"Town\" : True ,\n",
    "                          \"Pin code \" : 811302\n",
    "                      }} \n"
   ]
  },
  {
   "cell_type": "code",
   "execution_count": 35,
   "id": "7c5b6078",
   "metadata": {},
   "outputs": [
    {
     "data": {
      "text/plain": [
       "{'name': 'Ayush Raj',\n",
       " 'age': 19,\n",
       " 'eligible to vote': True,\n",
       " 'address': {'village': 'indupur',\n",
       "  'post office': 'barahiya',\n",
       "  'Town': True,\n",
       "  'Pin code ': 811302}}"
      ]
     },
     "execution_count": 35,
     "metadata": {},
     "output_type": "execute_result"
    }
   ],
   "source": [
    "nested_dictionary\n"
   ]
  },
  {
   "cell_type": "code",
   "execution_count": 48,
   "id": "f6e8d7fc",
   "metadata": {},
   "outputs": [
    {
     "ename": "SyntaxError",
     "evalue": "invalid syntax (712636194.py, line 1)",
     "output_type": "error",
     "traceback": [
      "\u001b[1;36m  File \u001b[1;32m\"C:\\Users\\sav91\\AppData\\Local\\Temp\\ipykernel_3288\\712636194.py\"\u001b[1;36m, line \u001b[1;32m1\u001b[0m\n\u001b[1;33m    nested_dictionary.setdefault('topics' , '['Python', 'Machine Learning’, 'Deep Learning']')\u001b[0m\n\u001b[1;37m                                               ^\u001b[0m\n\u001b[1;31mSyntaxError\u001b[0m\u001b[1;31m:\u001b[0m invalid syntax\n"
     ]
    }
   ],
   "source": [
    "nested_dictionary.setdefault('topics' , '['Python', 'Machine Learning’, 'Deep Learning']')"
   ]
  },
  {
   "cell_type": "code",
   "execution_count": 50,
   "id": "93e079e6",
   "metadata": {},
   "outputs": [
    {
     "data": {
      "text/plain": [
       "\"['Python', 'Machine Learning’, 'Deep Learning']\""
      ]
     },
     "execution_count": 50,
     "metadata": {},
     "output_type": "execute_result"
    }
   ],
   "source": [
    "nested_dictionary.setdefault('topics' , \"['Python', 'Machine Learning’, 'Deep Learning']\")"
   ]
  },
  {
   "cell_type": "code",
   "execution_count": 52,
   "id": "0b9b01c2",
   "metadata": {},
   "outputs": [
    {
     "data": {
      "text/plain": [
       "{'name': 'Ayush Raj',\n",
       " 'age': 19,\n",
       " 'eligible to vote': True,\n",
       " 'address': {'village': 'indupur',\n",
       "  'post office': 'barahiya',\n",
       "  'Town': True,\n",
       "  'Pin code ': 811302},\n",
       " 'jhb': None,\n",
       " 'jfdghb': 45,\n",
       " 'topics': \"['Python', 'Machine Learning’, 'Deep Learning']\"}"
      ]
     },
     "execution_count": 52,
     "metadata": {},
     "output_type": "execute_result"
    }
   ],
   "source": [
    "nested_dictionary"
   ]
  },
  {
   "cell_type": "code",
   "execution_count": 53,
   "id": "ff9697b8",
   "metadata": {},
   "outputs": [
    {
     "data": {
      "text/plain": [
       "43"
      ]
     },
     "execution_count": 53,
     "metadata": {},
     "output_type": "execute_result"
    }
   ],
   "source": [
    "nested_dictionary.setdefault('dsfds' , 43)"
   ]
  },
  {
   "cell_type": "code",
   "execution_count": 54,
   "id": "95ef4b2b",
   "metadata": {},
   "outputs": [
    {
     "data": {
      "text/plain": [
       "{'name': 'Ayush Raj',\n",
       " 'age': 19,\n",
       " 'eligible to vote': True,\n",
       " 'address': {'village': 'indupur',\n",
       "  'post office': 'barahiya',\n",
       "  'Town': True,\n",
       "  'Pin code ': 811302},\n",
       " 'jhb': None,\n",
       " 'jfdghb': 45,\n",
       " 'topics': \"['Python', 'Machine Learning’, 'Deep Learning']\",\n",
       " 'dsfds': 43}"
      ]
     },
     "execution_count": 54,
     "metadata": {},
     "output_type": "execute_result"
    }
   ],
   "source": [
    "nested_dictionary"
   ]
  },
  {
   "cell_type": "code",
   "execution_count": 56,
   "id": "fc6eac41",
   "metadata": {},
   "outputs": [
    {
     "data": {
      "text/plain": [
       "\"['Python', 'Machine Learning’, 'Deep Learning']\""
      ]
     },
     "execution_count": 56,
     "metadata": {},
     "output_type": "execute_result"
    }
   ],
   "source": [
    "nested_dictionary.pop('topics')"
   ]
  },
  {
   "cell_type": "code",
   "execution_count": 57,
   "id": "d9227fb2",
   "metadata": {},
   "outputs": [
    {
     "data": {
      "text/plain": [
       "{'name': 'Ayush Raj',\n",
       " 'age': 19,\n",
       " 'eligible to vote': True,\n",
       " 'address': {'village': 'indupur',\n",
       "  'post office': 'barahiya',\n",
       "  'Town': True,\n",
       "  'Pin code ': 811302},\n",
       " 'jhb': None,\n",
       " 'jfdghb': 45,\n",
       " 'dsfds': 43}"
      ]
     },
     "execution_count": 57,
     "metadata": {},
     "output_type": "execute_result"
    }
   ],
   "source": [
    "nested_dictionary"
   ]
  },
  {
   "cell_type": "code",
   "execution_count": 59,
   "id": "64c5d04b",
   "metadata": {},
   "outputs": [
    {
     "data": {
      "text/plain": [
       "['Python', 'Machine Learning', 'Deep Learning']"
      ]
     },
     "execution_count": 59,
     "metadata": {},
     "output_type": "execute_result"
    }
   ],
   "source": [
    "lst = ['Python', 'Machine Learning', 'Deep Learning']\n",
    "nested_dictionary.setdefault('topics' , lst)"
   ]
  },
  {
   "cell_type": "code",
   "execution_count": 60,
   "id": "7a4608c0",
   "metadata": {},
   "outputs": [
    {
     "data": {
      "text/plain": [
       "{'name': 'Ayush Raj',\n",
       " 'age': 19,\n",
       " 'eligible to vote': True,\n",
       " 'address': {'village': 'indupur',\n",
       "  'post office': 'barahiya',\n",
       "  'Town': True,\n",
       "  'Pin code ': 811302},\n",
       " 'jhb': None,\n",
       " 'jfdghb': 45,\n",
       " 'dsfds': 43,\n",
       " 'topics': ['Python', 'Machine Learning', 'Deep Learning']}"
      ]
     },
     "execution_count": 60,
     "metadata": {},
     "output_type": "execute_result"
    }
   ],
   "source": [
    "nested_dictionary"
   ]
  },
  {
   "cell_type": "markdown",
   "id": "7aa03c3d",
   "metadata": {},
   "source": [
    "## 8."
   ]
  },
  {
   "cell_type": "markdown",
   "id": "9230c15f",
   "metadata": {},
   "source": [
    "The three views in dictionaries are: keys, values and items."
   ]
  },
  {
   "cell_type": "code",
   "execution_count": 61,
   "id": "442e2c0e",
   "metadata": {},
   "outputs": [],
   "source": [
    "dict1 = {'Sport': 'Cricket' , 'Teams': ['India', 'Australia', 'England', 'South Africa', 'Sri Lanka', 'New Zealand']}"
   ]
  },
  {
   "cell_type": "code",
   "execution_count": 62,
   "id": "abddc081",
   "metadata": {},
   "outputs": [
    {
     "data": {
      "text/plain": [
       "{'Sport': 'Cricket',\n",
       " 'Teams': ['India',\n",
       "  'Australia',\n",
       "  'England',\n",
       "  'South Africa',\n",
       "  'Sri Lanka',\n",
       "  'New Zealand']}"
      ]
     },
     "execution_count": 62,
     "metadata": {},
     "output_type": "execute_result"
    }
   ],
   "source": [
    "dict1"
   ]
  },
  {
   "cell_type": "code",
   "execution_count": 66,
   "id": "e422ccc3",
   "metadata": {},
   "outputs": [
    {
     "data": {
      "text/plain": [
       "dict_keys(['Sport', 'Teams'])"
      ]
     },
     "execution_count": 66,
     "metadata": {},
     "output_type": "execute_result"
    }
   ],
   "source": [
    "dict1.keys()\n"
   ]
  },
  {
   "cell_type": "code",
   "execution_count": 69,
   "id": "3f2a39b3",
   "metadata": {},
   "outputs": [
    {
     "name": "stdout",
     "output_type": "stream",
     "text": [
      "dict_values(['Cricket', ['India', 'Australia', 'England', 'South Africa', 'Sri Lanka', 'New Zealand']])\n"
     ]
    }
   ],
   "source": [
    "print(dict1.values())"
   ]
  },
  {
   "cell_type": "code",
   "execution_count": 70,
   "id": "217cfb31",
   "metadata": {},
   "outputs": [
    {
     "name": "stdout",
     "output_type": "stream",
     "text": [
      "dict_items([('Sport', 'Cricket'), ('Teams', ['India', 'Australia', 'England', 'South Africa', 'Sri Lanka', 'New Zealand'])])\n"
     ]
    }
   ],
   "source": [
    "print(dict1.items())"
   ]
  }
 ],
 "metadata": {
  "kernelspec": {
   "display_name": "Python 3 (ipykernel)",
   "language": "python",
   "name": "python3"
  },
  "language_info": {
   "codemirror_mode": {
    "name": "ipython",
    "version": 3
   },
   "file_extension": ".py",
   "mimetype": "text/x-python",
   "name": "python",
   "nbconvert_exporter": "python",
   "pygments_lexer": "ipython3",
   "version": "3.9.13"
  }
 },
 "nbformat": 4,
 "nbformat_minor": 5
}
