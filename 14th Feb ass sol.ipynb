{
 "cells": [
  {
   "cell_type": "markdown",
   "id": "d675e1f5",
   "metadata": {},
   "source": [
    "## 1."
   ]
  },
  {
   "cell_type": "markdown",
   "id": "8be8d6aa",
   "metadata": {},
   "source": [
    "Multithreading is the mechanism of assigning several threads into a single processor for concurrent processing/execution."
   ]
  },
  {
   "cell_type": "markdown",
   "id": "1de92abb",
   "metadata": {},
   "source": [
    "Multithreding is used for enhancing the overall performance of the cpu and its cores."
   ]
  },
  {
   "cell_type": "markdown",
   "id": "eb48826a",
   "metadata": {},
   "source": [
    "Module used : \"threading\""
   ]
  },
  {
   "cell_type": "code",
   "execution_count": 4,
   "id": "f593f468",
   "metadata": {},
   "outputs": [
    {
     "name": "stdout",
     "output_type": "stream",
     "text": [
      "1\n",
      "2\n",
      "3\n"
     ]
    }
   ],
   "source": [
    "import threading\n",
    "thread1 = [threading.Thread(target = print , args = (i ,)) for i in [1,2,3]]\n",
    "for i in thread1:\n",
    "    i.start()"
   ]
  },
  {
   "cell_type": "markdown",
   "id": "2503c093",
   "metadata": {},
   "source": [
    "## 2.1."
   ]
  },
  {
   "cell_type": "markdown",
   "id": "4b63fcc6",
   "metadata": {},
   "source": [
    "active_count() : used for returning the value of active threads runnning.\n",
    "    "
   ]
  },
  {
   "cell_type": "code",
   "execution_count": 1,
   "id": "592281d6",
   "metadata": {},
   "outputs": [
    {
     "name": "stdout",
     "output_type": "stream",
     "text": [
      "START: Current active thread count:  6\n",
      "Thread-2: Number of active threads: 8\n",
      "Thread 2 Value: 200\n",
      "Thread-1: Number of active threads: 8\n",
      "Thread 1 Value: 100\n",
      "Thread-3: Number of active threads: 7\n",
      "Thread 3 Value: 300\n",
      "6\n",
      "6\n"
     ]
    }
   ],
   "source": [
    "import threading , sys\n",
    "import time\n",
    "# Methods for three threads..\n",
    "def thread1_Subroutine(i):\n",
    "    time.sleep(2)\n",
    "    print(\"Thread-1: Number of active threads:\", threading.active_count())\n",
    "    print('Thread 1 Value:', i)\n",
    "\n",
    "def thread2_Subroutine(i):\n",
    "    print(\"Thread-2: Number of active threads:\", threading.active_count())\n",
    "    print('Thread 2 Value:', i)\n",
    "    \n",
    "def thread3_Subroutine(i):\n",
    "    time.sleep(5)\n",
    "    print(\"Thread-3: Number of active threads:\", threading.active_count())\n",
    "    print(\"Thread 3 Value:\", i)\n",
    "    \n",
    "# Creating sample threads\n",
    "thread1 = threading.Thread(target=thread1_Subroutine, args=(100,), name=\"Thread1\")\n",
    "thread2 = threading.Thread(target=thread2_Subroutine, args=(200,), name=\"Thread2\")\n",
    "thread3 = threading.Thread(target=thread3_Subroutine, args=(300,), name=\"Thread3\")\n",
    "print(\"START: Current active thread count: \", threading.active_count())\n",
    "# Calling start() method to initialize execution\n",
    "thread1.start()\n",
    "thread2.start()\n",
    "thread3.start()\n",
    "thread3.join() # Wait for thread-3 to join.\n",
    "print(threading.active_count())\n",
    "exit(keep_kernel=True)\n",
    "print(threading.active_count())"
   ]
  },
  {
   "cell_type": "markdown",
   "id": "60099be7",
   "metadata": {},
   "source": [
    "## 2.2."
   ]
  },
  {
   "cell_type": "markdown",
   "id": "bad3d038",
   "metadata": {},
   "source": [
    "current_thread() is an inbuilt method of the threading module in Python. It is used to return the current Thread object, which corresponds to the caller's thread of control."
   ]
  },
  {
   "cell_type": "code",
   "execution_count": 10,
   "id": "63f55225",
   "metadata": {},
   "outputs": [],
   "source": [
    "import threading \n",
    "import time\n"
   ]
  },
  {
   "cell_type": "code",
   "execution_count": 18,
   "id": "53e78fd4",
   "metadata": {},
   "outputs": [],
   "source": [
    "def thrad1_subroutine(x):\n",
    "    time.sleep(5)\n",
    "    print(\"actively running threads:\" , threading.current_thread())\n",
    "    print(\"value : \" , x  )"
   ]
  },
  {
   "cell_type": "code",
   "execution_count": 19,
   "id": "4b37c064",
   "metadata": {},
   "outputs": [],
   "source": [
    "def thrad2_subroutine(x):\n",
    "    time.sleep(5)\n",
    "    print(\"actively running threads:\" , threading.current_thread())\n",
    "    print(\"value : \" , x  )"
   ]
  },
  {
   "cell_type": "code",
   "execution_count": 20,
   "id": "b7ead090",
   "metadata": {},
   "outputs": [],
   "source": [
    "def thrad1_subroutine(x):\n",
    "#     time.sleep(5)\n",
    "    print(\"actively running threads:\" , threading.current_thread())\n",
    "    print(\"value : \" , x  )"
   ]
  },
  {
   "cell_type": "code",
   "execution_count": 21,
   "id": "658269d0",
   "metadata": {},
   "outputs": [],
   "source": [
    "thread = threading.Thread(target = thrad1_subroutine , args = (10 , ))"
   ]
  },
  {
   "cell_type": "code",
   "execution_count": 22,
   "id": "bf8a650e",
   "metadata": {},
   "outputs": [],
   "source": [
    "thread1 = threading.Thread(target = thrad2_subroutine , args = (20 , ))"
   ]
  },
  {
   "cell_type": "code",
   "execution_count": 23,
   "id": "fdc39f7a",
   "metadata": {},
   "outputs": [],
   "source": [
    "thread3 = threading.Thread(target = thrad1_subroutine , args = (30, ))"
   ]
  },
  {
   "cell_type": "code",
   "execution_count": 24,
   "id": "012404a2",
   "metadata": {},
   "outputs": [
    {
     "name": "stdout",
     "output_type": "stream",
     "text": [
      "actively running threads: <Thread(Thread-11, started 35092)>\n",
      "value :  10\n",
      "actively running threads: <Thread(Thread-13, started 24492)>\n",
      "value :  30\n",
      "actively running threads: <Thread(Thread-12, started 33200)>\n",
      "value :  20\n"
     ]
    }
   ],
   "source": [
    "thread.start()\n",
    "thread1.start()\n",
    "thread3.start()"
   ]
  },
  {
   "cell_type": "markdown",
   "id": "fed1199d",
   "metadata": {},
   "source": [
    "## 2.3."
   ]
  },
  {
   "cell_type": "code",
   "execution_count": 27,
   "id": "8d68f5a7",
   "metadata": {},
   "outputs": [
    {
     "name": "stdout",
     "output_type": "stream",
     "text": [
      "Return type: <class 'enumerate'>\n",
      "(0, 'eat') (1, 'sleep') (2, 'repeat')\n",
      "[(2, 'g'), (3, 'e'), (4, 'e'), (5, 'k')]\n"
     ]
    }
   ],
   "source": [
    "# Python program to illustrate\n",
    "# enumerate function\n",
    "l1 = [\"eat\", \"sleep\", \"repeat\"]\n",
    "s1 = \"geek\"\n",
    "\n",
    "# creating enumerate objects\n",
    "obj1 = enumerate(l1)\n",
    "obj2 = enumerate(s1)\n",
    "\n",
    "print (\"Return type:\", type(obj1))\n",
    "print (*(enumerate(l1)))\n",
    "\n",
    "# changing start index to 2 from 0\n",
    "print (list(enumerate(s1, 2)))\n"
   ]
  },
  {
   "cell_type": "code",
   "execution_count": 35,
   "id": "1a2d9b27",
   "metadata": {},
   "outputs": [
    {
     "name": "stdout",
     "output_type": "stream",
     "text": [
      "Threading object : \n",
      "<_MainThread(MainThread, started 39396)>\n",
      "<Thread(IOPub, started daemon 33684)>\n",
      "<Heartbeat(Heartbeat, started daemon 29404)>\n",
      "<ControlThread(Control, started daemon 20040)>\n",
      "<HistorySavingThread(IPythonHistorySavingThread, started 23440)>\n",
      "<ParentPollerWindows(Thread-4, started daemon 34560)>\n",
      "currently running threads :currently running threads :\n",
      "<_MainThread(MainThread, started 39396)>\n",
      "<Thread(IOPub, started daemon 33684)>\n",
      "<Heartbeat(Heartbeat, started daemon 29404)>\n",
      "<ControlThread(Control, started daemon 20040)>\n",
      "<HistorySavingThread(IPythonHistorySavingThread, started 23440)>\n",
      "<ParentPollerWindows(Thread-4, started daemon 34560)>\n",
      "<Thread(Thread-34, started 32668)>\n",
      "<Thread(Thread-35, started 34872)>\n",
      "<Thread(Thread-36, started 39892)>\n",
      "<Thread(Thread-37, started 33604)>\n",
      "2\n",
      "currently running threads :\n",
      "<_MainThread(MainThread, started 39396)>\n",
      "<Thread(IOPub, started daemon 33684)>\n",
      "<Heartbeat(Heartbeat, started daemon 29404)>\n",
      "<ControlThread(Control, started daemon 20040)>\n",
      "<HistorySavingThread(IPythonHistorySavingThread, started 23440)>\n",
      "<ParentPollerWindows(Thread-4, started daemon 34560)>\n",
      "<Thread(Thread-34, started 32668)>\n",
      "<Thread(Thread-36, started 39892)>\n",
      "<Thread(Thread-37, started 33604)>\n",
      "1\n",
      "\n",
      "<_MainThread(MainThread, started 39396)>\n",
      "<Thread(IOPub, started daemon 33684)>\n",
      "<Heartbeat(Heartbeat, started daemon 29404)>\n",
      "<ControlThread(Control, started daemon 20040)>\n",
      "<HistorySavingThread(IPythonHistorySavingThread, started 23440)>\n",
      "<ParentPollerWindows(Thread-4, started daemon 34560)>\n",
      "<Thread(Thread-34, stopped 32668)>\n",
      "<Thread(Thread-35, stopped 34872)>\n",
      "<Thread(Thread-36, started 39892)>\n",
      "<Thread(Thread-37, started 33604)>\n",
      "4\n",
      "currently running threads :\n",
      "<_MainThread(MainThread, started 39396)>\n",
      "<Thread(IOPub, started daemon 33684)>\n",
      "<Heartbeat(Heartbeat, started daemon 29404)>\n",
      "<ControlThread(Control, started daemon 20040)>\n",
      "<HistorySavingThread(IPythonHistorySavingThread, started 23440)>\n",
      "<ParentPollerWindows(Thread-4, started daemon 34560)>\n",
      "<Thread(Thread-36, started 39892)>\n",
      "3\n"
     ]
    }
   ],
   "source": [
    "print(\"Threading object : \" , sep = \"\\n\",*threading.enumerate())\n",
    "def thread1_subroutine(x):\n",
    "    time.sleep(2)\n",
    "    print(  \"currently running threads :\"  , *threading.enumerate() , sep = \"\\n\")\n",
    "    print(x)\n",
    "def thread2_subroutine(x):\n",
    "    time.sleep(2)\n",
    "    print(  \"currently running threads :\"  , *threading.enumerate() , sep = \"\\n\")\n",
    "    print(x)\n",
    "def thread3_subroutine(x):\n",
    "    time.sleep(5)\n",
    "    print(  \"currently running threads :\"  , *threading.enumerate() , sep = \"\\n\")\n",
    "    print(x)\n",
    "def thread4_subroutine(x):\n",
    "    time.sleep(2)\n",
    "    print(  \"currently running threads :\"  , *threading.enumerate() , sep = \"\\n\")\n",
    "    print(x)\n",
    "    \n",
    "thread1 = threading.Thread(target = thread1_subroutine , args = (1,))\n",
    "thread2 = threading.Thread(target = thread2_subroutine , args = (2,))\n",
    "thread3 = threading.Thread(target = thread3_subroutine , args = (3,))\n",
    "thread4 = threading.Thread(target = thread4_subroutine , args = (4,))\n",
    "\n",
    "thread1.start()\n",
    "thread2.start()\n",
    "thread3.start()\n",
    "thread4.start()"
   ]
  },
  {
   "cell_type": "markdown",
   "id": "b6550b88",
   "metadata": {},
   "source": [
    "## 3."
   ]
  },
  {
   "cell_type": "markdown",
   "id": "276f2707",
   "metadata": {},
   "source": [
    "1. run() : <br> run() method is an inbuilt method of the Thread class of the threading module in Python. This method is used to represent a thread's activity. It calls the method expressed as the target argument in the Thread object along with the positional and keyword arguments taken from the args and kwargs arguments, respectively."
   ]
  },
  {
   "cell_type": "code",
   "execution_count": 37,
   "id": "439d0cd8",
   "metadata": {},
   "outputs": [
    {
     "name": "stdout",
     "output_type": "stream",
     "text": [
      "Value by Thread 1: 1\n",
      "Value by Thread 2: 2\n",
      "Value by Thread 3: 3\n"
     ]
    }
   ],
   "source": [
    "def thread_1(i):\n",
    "    print('Value by Thread 1:', i)\n",
    "\n",
    "def thread_2(i):\n",
    "    print('Value by Thread 2:', i)\n",
    "\n",
    "def thread_3(i):\n",
    "    print('Value by Thread 3:', i)    \n",
    "\n",
    "    \n",
    "# Creating three sample threads \n",
    "thread1 = threading.Thread(target=thread_1, args=(1,))\n",
    "thread2 = threading.Thread(target=thread_2, args=(2,))\n",
    "thread3 = threading.Thread(target=thread_3, args=(3,))\n",
    "\n",
    "# Running three thread object\n",
    "thread1.run()\n",
    "thread2.run()\n",
    "thread3.run()"
   ]
  },
  {
   "cell_type": "markdown",
   "id": "1ef1ac79",
   "metadata": {},
   "source": [
    "2. start(): <br> start() method is an inbuilt method of the Thread class of the threading module in Python. It is used to start a thread's activity. This method calls the run() method internally which then executes the target method. This method must be called at most one time for one thread. If it is called more than once, it raises a RuntimeError."
   ]
  },
  {
   "cell_type": "code",
   "execution_count": 40,
   "id": "b457c463",
   "metadata": {},
   "outputs": [
    {
     "name": "stdout",
     "output_type": "stream",
     "text": [
      "Value by Thread 1: 1\n",
      "Value by Thread 2: 2\n",
      "Value by Thread 3: 3\n"
     ]
    },
    {
     "ename": "RuntimeError",
     "evalue": "threads can only be started once",
     "output_type": "error",
     "traceback": [
      "\u001b[1;31m---------------------------------------------------------------------------\u001b[0m",
      "\u001b[1;31mRuntimeError\u001b[0m                              Traceback (most recent call last)",
      "\u001b[1;32m~\\AppData\\Local\\Temp\\ipykernel_29148\\2911355366.py\u001b[0m in \u001b[0;36m<module>\u001b[1;34m\u001b[0m\n\u001b[0;32m     24\u001b[0m \u001b[0mthread3\u001b[0m\u001b[1;33m.\u001b[0m\u001b[0mstart\u001b[0m\u001b[1;33m(\u001b[0m\u001b[1;33m)\u001b[0m\u001b[1;33m\u001b[0m\u001b[1;33m\u001b[0m\u001b[0m\n\u001b[0;32m     25\u001b[0m \u001b[1;33m\u001b[0m\u001b[0m\n\u001b[1;32m---> 26\u001b[1;33m \u001b[0mthread1\u001b[0m\u001b[1;33m.\u001b[0m\u001b[0mstart\u001b[0m\u001b[1;33m(\u001b[0m\u001b[1;33m)\u001b[0m\u001b[1;33m\u001b[0m\u001b[1;33m\u001b[0m\u001b[0m\n\u001b[0m",
      "\u001b[1;32m~\\anaconda3\\lib\\threading.py\u001b[0m in \u001b[0;36mstart\u001b[1;34m(self)\u001b[0m\n\u001b[0;32m    892\u001b[0m \u001b[1;33m\u001b[0m\u001b[0m\n\u001b[0;32m    893\u001b[0m         \u001b[1;32mif\u001b[0m \u001b[0mself\u001b[0m\u001b[1;33m.\u001b[0m\u001b[0m_started\u001b[0m\u001b[1;33m.\u001b[0m\u001b[0mis_set\u001b[0m\u001b[1;33m(\u001b[0m\u001b[1;33m)\u001b[0m\u001b[1;33m:\u001b[0m\u001b[1;33m\u001b[0m\u001b[1;33m\u001b[0m\u001b[0m\n\u001b[1;32m--> 894\u001b[1;33m             \u001b[1;32mraise\u001b[0m \u001b[0mRuntimeError\u001b[0m\u001b[1;33m(\u001b[0m\u001b[1;34m\"threads can only be started once\"\u001b[0m\u001b[1;33m)\u001b[0m\u001b[1;33m\u001b[0m\u001b[1;33m\u001b[0m\u001b[0m\n\u001b[0m\u001b[0;32m    895\u001b[0m \u001b[1;33m\u001b[0m\u001b[0m\n\u001b[0;32m    896\u001b[0m         \u001b[1;32mwith\u001b[0m \u001b[0m_active_limbo_lock\u001b[0m\u001b[1;33m:\u001b[0m\u001b[1;33m\u001b[0m\u001b[1;33m\u001b[0m\u001b[0m\n",
      "\u001b[1;31mRuntimeError\u001b[0m: threads can only be started once"
     ]
    }
   ],
   "source": [
    "# Python program to explain the\n",
    "# use of start() method in Thread class\n",
    "\n",
    "import threading\n",
    "\n",
    "def thread_1(i):\n",
    "    print('Value by Thread 1:', i)\n",
    "\n",
    "def thread_2(i):\n",
    "    print('Value by Thread 2:', i)\n",
    "\n",
    "def thread_3(i):\n",
    "    print('Value by Thread 3:', i)    \n",
    "\n",
    "    \n",
    "# Creating three sample threads \n",
    "thread1 = threading.Thread(target=thread_1, args=(1,))\n",
    "thread2 = threading.Thread(target=thread_2, args=(2,))\n",
    "thread3 = threading.Thread(target=thread_3, args=(3,))\n",
    "\n",
    "# Starting three threads\n",
    "thread1.start()\n",
    "thread2.start()\n",
    "thread3.start()\n",
    "    \n",
    "thread1.start()\n"
   ]
  },
  {
   "cell_type": "markdown",
   "id": "d3ec0f95",
   "metadata": {},
   "source": [
    "3. join() : <br> .join() method is an inbuilt method of the Thread class of the threading module in Python. Whenever this method is called for any Thread object, it blocks the calling thread till the time the thread whose join() method is called terminates, either normally or through an unhandled exception."
   ]
  },
  {
   "cell_type": "code",
   "execution_count": 52,
   "id": "46504138",
   "metadata": {},
   "outputs": [
    {
     "name": "stdout",
     "output_type": "stream",
     "text": [
      "Value by Thread 3: 3\n",
      "Value by Thread 1: 1\n",
      "Value by Thread 2: 2\n",
      "\n",
      "Value by Thread 1: 1\n",
      "Value by Thread 3: 3\n",
      "Value by Thread 2: 2\n"
     ]
    }
   ],
   "source": [
    "# Python program to explain the\n",
    "# use of join() method in Thread class\n",
    "\n",
    "import time\n",
    "import threading\n",
    "\n",
    "def thread_1(i):\n",
    "    time.sleep(2)\n",
    "    print('Value by Thread 1:', i)\n",
    "\n",
    "def thread_2(i):\n",
    "    time.sleep(5)\n",
    "    print('Value by Thread 2:', i)\n",
    "\n",
    "def thread_3(i):\n",
    "    print('Value by Thread 3:', i)    \n",
    "\n",
    "    \n",
    "# Creating three sample threads \n",
    "thread1 = threading.Thread(target=thread_1, args=(1,))\n",
    "thread2 = threading.Thread(target=thread_2, args=(2,))\n",
    "thread3 = threading.Thread(target=thread_3, args=(3,))\n",
    "\n",
    "# Running three thread object\n",
    "thread3.start()\n",
    "thread3.join()\n",
    "thread1.start()\n",
    "thread1.join()\n",
    "thread2.start()\n",
    "thread2.join()\n",
    "\n",
    "\n",
    "print()\n",
    "# Creating another 3 threads\n",
    "thread4 = threading.Thread(target=thread_1, args=(1,))\n",
    "thread5 = threading.Thread(target=thread_2, args=(2,))\n",
    "thread6 = threading.Thread(target=thread_3, args=(3,))\n",
    "\n",
    "thread4.start()\n",
    "thread4.join()\n",
    "\n",
    "thread5.start()\n",
    "thread6.start()\n",
    "\n",
    "thread6.join()\n",
    "thread5.join(timeout=3)\n",
    "#    time(thread3)<time(thread2)<time(thread1)"
   ]
  },
  {
   "cell_type": "code",
   "execution_count": 54,
   "id": "8716bb97",
   "metadata": {},
   "outputs": [
    {
     "name": "stdout",
     "output_type": "stream",
     "text": [
      "Value by Thread 1: 1\n",
      "Value by Thread 2: 2\n"
     ]
    }
   ],
   "source": [
    "# Python program to explain the\n",
    "# use of join() method in Thread class \n",
    "# with timeout parameter defined\n",
    "\n",
    "import time\n",
    "import threading\n",
    "\n",
    "def thread_1(i):\n",
    "    time.sleep(2)\n",
    "    print('Value by Thread 1:', i)\n",
    "\n",
    "def thread_2(i):\n",
    "    time.sleep(5)\n",
    "    print('Value by Thread 2:', i)\n",
    "    \n",
    "# Creating three sample threads \n",
    "thread1 = threading.Thread(target=thread_1, args=(1,))\n",
    "thread2 = threading.Thread(target=thread_2, args=(2,))\n",
    "\n",
    "# Running three thread object\n",
    "thread1.start()\n",
    "thread1.join(timeout=5)\n",
    "thread2.start()\n",
    "thread2.join()\n"
   ]
  },
  {
   "cell_type": "markdown",
   "id": "456e1905",
   "metadata": {},
   "source": [
    "4. is_alive() : <br>is_alive() method is an inbuilt method of the Thread class of the threading module in Python. It uses a Thread object, and checks whether that thread is alive or not, ie, it is still running or not. This method returns True before the run() starts until just after the run() method is executed."
   ]
  },
  {
   "cell_type": "code",
   "execution_count": 72,
   "id": "a0650fa3",
   "metadata": {},
   "outputs": [
    {
     "name": "stdout",
     "output_type": "stream",
     "text": [
      "Is thread1 alive: False\n",
      "Is thread2 alive: False\n",
      "\n",
      "Is thread1 alive: True\n",
      "Is thread2 alive: True\n",
      "Value by Thread 2:Value by Thread 1: 1\n",
      " 2\n"
     ]
    }
   ],
   "source": [
    "\n",
    "def thread_1(i):\n",
    "    time.sleep(5)\n",
    "    print('Value by Thread 1:', i)\n",
    "\n",
    "def thread_2(i):\n",
    "    time.sleep(5)\n",
    "    print('Value by Thread 2:', i)\n",
    "    \n",
    "# Creating three sample threads \n",
    "thread1 = threading.Thread(target=thread_1, args=(1,))\n",
    "thread2 = threading.Thread(target=thread_2, args=(2,))\n",
    "\n",
    "# Before calling the start(), both threads are not alive\n",
    "print(\"Is thread1 alive:\", thread1.is_alive())\n",
    "print(\"Is thread2 alive:\", thread2.is_alive())\n",
    "print()\n",
    "\n",
    "thread1.start()\n",
    "# thread1.join()\n",
    "thread2.start()\n",
    "# Since thread11 is on sleep for 5 seconds, it is alive\n",
    "# while thread 2 is executed instantly\n",
    "\n",
    "print(\"Is thread1 alive:\", thread1.is_alive())\n",
    "print(\"Is thread2 alive:\", thread2.is_alive())\n"
   ]
  },
  {
   "cell_type": "code",
   "execution_count": 91,
   "id": "26ce1e45",
   "metadata": {},
   "outputs": [
    {
     "name": "stdout",
     "output_type": "stream",
     "text": [
      "Enter the range of numbers to be squared Start : 2\n",
      "Enter the range of numbers to be squared End : 100\n",
      "Eter the range of numbers to ve cubed Start : 2\n",
      "Eter the range of numbers to ve cubed End : 54\n",
      "\n",
      " List of squares : [4, 9, 16, 25, 36, 49, 64, 81, 100, 121, 144, 169, 196, 225, 256, 289, 324, 361, 400, 441, 484, 529, 576, 625, 676, 729, 784, 841, 900, 961, 1024, 1089, 1156, 1225, 1296, 1369, 1444, 1521, 1600, 1681, 1764, 1849, 1936, 2025, 2116, 2209, 2304, 2401, 2500, 2601, 2704, 2809, 2916, 3025, 3136, 3249, 3364, 3481, 3600, 3721, 3844, 3969, 4096, 4225, 4356, 4489, 4624, 4761, 4900, 5041, 5184, 5329, 5476, 5625, 5776, 5929, 6084, 6241, 6400, 6561, 6724, 6889, 7056, 7225, 7396, 7569, 7744, 7921, 8100, 8281, 8464, 8649, 8836, 9025, 9216, 9409, 9604, 9801]\n",
      "\n",
      " List of cubes : [8, 27, 64, 125, 216, 343, 512, 729, 1000, 1331, 1728, 2197, 2744, 3375, 4096, 4913, 5832, 6859, 8000, 9261, 10648, 12167, 13824, 15625, 17576, 19683, 21952, 24389, 27000, 29791, 32768, 35937, 39304, 42875, 46656, 50653, 54872, 59319, 64000, 68921, 74088, 79507, 85184, 91125, 97336, 103823, 110592, 117649, 125000, 132651, 140608, 148877]\n"
     ]
    }
   ],
   "source": [
    "sq_range_start = int(input(\"Enter the range of numbers to be squared Start : \"))\n",
    "sq_range_end = int(input(\"Enter the range of numbers to be squared End : \"))\n",
    "cube_range_start = int(input(\"Eter the range of numbers to ve cubed Start : \"))\n",
    "cube_range_end = int(input(\"Eter the range of numbers to ve cubed End : \"))\n",
    "\n",
    "def list_square(sq_range_start , sq_range_end):\n",
    "    print(\"\\n List of squares :\" , [(i **2) for i in range(sq_range_start , sq_range_end)])\n",
    "    \n",
    "def list_cube(cube_range_start , cube_range_end):\n",
    "    print(  \"\\n List of cubes :\" , [(i**3) for i in range(cube_range_start , cube_range_end)])\n",
    "    \n",
    "thread1 = threading.Thread(target=list_square , args = (sq_range_start , sq_range_end))\n",
    "thread2 = threading.Thread(target= list_cube , args = (cube_range_start , cube_range_end))\n",
    "\n",
    "thread1.start()\n",
    "thread2.start()\n",
    "\n"
   ]
  },
  {
   "cell_type": "markdown",
   "id": "8dc8e4f8",
   "metadata": {},
   "source": [
    "## 5. "
   ]
  },
  {
   "cell_type": "markdown",
   "id": "c17bf971",
   "metadata": {},
   "source": [
    "Multithreading in Python has several advantages, making it a popular approach. Let's take a look at some of them –\n",
    "\n",
    "Python multithreading enables efficient utilization of the resources as the threads share the data space and memory.\n",
    "Multithreading in Python allows the concurrent and parallel occurrence of various tasks.\n",
    "It causes a reduction in time consumption or response time, thereby increasing the performance.\n"
   ]
  },
  {
   "cell_type": "markdown",
   "id": "81c4c3e0",
   "metadata": {},
   "source": [
    "Multithreading has the following disadvantages:\n",
    "\n",
    "With more threads, the code becomes difficult to debug and maintain.\n",
    "Thread creation puts a load on the system in terms of memory and CPU resources.\n",
    "We need to do exception handling inside the worker method as any unhandled exceptions can result in the program crashing."
   ]
  },
  {
   "cell_type": "markdown",
   "id": "86bbc83a",
   "metadata": {},
   "source": [
    "## 6."
   ]
  },
  {
   "cell_type": "markdown",
   "id": "71744a58",
   "metadata": {},
   "source": [
    "Deadlock : <br> when two processes are waiting for each other directly or indirectly, it is called deadlock.\n",
    "\n",
    "This usually occurs when two processes are waiting for shared resources acquired by others. For example, If thread T1 acquired resource R1 and it also needs resource R2 for it to accomplish its task. But the resource R2 is acquired by thread T2 which is waiting for resource R1(which is acquired by T1).. Neither of them will be able to accomplish its task, as they keep waiting for the other resources they need.\n",
    "\n"
   ]
  },
  {
   "cell_type": "markdown",
   "id": "1fea5dc1",
   "metadata": {},
   "source": [
    "Race condition: <br> *This happens when 2 or more threads run in parallel but end up giving a result which is wrong and not equivalent if all the operations are done in sequential order.<br>\n",
    "*Here all the threads run and execute there operations."
   ]
  },
  {
   "cell_type": "markdown",
   "id": "64c2c0a7",
   "metadata": {},
   "source": [
    "WE should avoid dead lock and race conditiion both while coding."
   ]
  },
  {
   "cell_type": "code",
   "execution_count": null,
   "id": "03153a17",
   "metadata": {},
   "outputs": [],
   "source": []
  }
 ],
 "metadata": {
  "kernelspec": {
   "display_name": "Python 3 (ipykernel)",
   "language": "python",
   "name": "python3"
  },
  "language_info": {
   "codemirror_mode": {
    "name": "ipython",
    "version": 3
   },
   "file_extension": ".py",
   "mimetype": "text/x-python",
   "name": "python",
   "nbconvert_exporter": "python",
   "pygments_lexer": "ipython3",
   "version": "3.9.13"
  }
 },
 "nbformat": 4,
 "nbformat_minor": 5
}
