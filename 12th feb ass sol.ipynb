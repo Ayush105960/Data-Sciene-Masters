{
 "cells": [
  {
   "cell_type": "markdown",
   "id": "b4e64e34",
   "metadata": {},
   "source": [
    "## 1. "
   ]
  },
  {
   "cell_type": "markdown",
   "id": "5ec62132",
   "metadata": {},
   "source": [
    "An exception is an event, which occurs during the execution of a program that disrupts the normal flow of the program's instructions"
   ]
  },
  {
   "cell_type": "markdown",
   "id": "95d3bda0",
   "metadata": {},
   "source": [
    "a syntax error is a mistake in the structure of the program that prevents it from running, while an exception is an abnormal event that occurs during the execution of the program and can be handled to allow the program to continue running."
   ]
  },
  {
   "cell_type": "markdown",
   "id": "8a098a56",
   "metadata": {},
   "source": [
    "## 2."
   ]
  },
  {
   "cell_type": "markdown",
   "id": "c199a6cb",
   "metadata": {},
   "source": [
    "If an exception occurs during execution of the try clause, the exception may be handled by an except clause. If the exception is not handled by an except clause, the exception is re-raised after the finally clause has been executed."
   ]
  },
  {
   "cell_type": "code",
   "execution_count": 6,
   "id": "cb523207",
   "metadata": {},
   "outputs": [
    {
     "name": "stdout",
     "output_type": "stream",
     "text": [
      "it is finally block\n"
     ]
    },
    {
     "ename": "ZeroDivisionError",
     "evalue": "division by zero",
     "output_type": "error",
     "traceback": [
      "\u001b[1;31m---------------------------------------------------------------------------\u001b[0m",
      "\u001b[1;31mZeroDivisionError\u001b[0m                         Traceback (most recent call last)",
      "\u001b[1;32m~\\AppData\\Local\\Temp\\ipykernel_34548\\191763051.py\u001b[0m in \u001b[0;36m<module>\u001b[1;34m\u001b[0m\n\u001b[0;32m      1\u001b[0m \u001b[1;32mtry\u001b[0m\u001b[1;33m:\u001b[0m\u001b[1;33m\u001b[0m\u001b[1;33m\u001b[0m\u001b[0m\n\u001b[1;32m----> 2\u001b[1;33m     \u001b[0ma\u001b[0m \u001b[1;33m=\u001b[0m \u001b[1;36m5\u001b[0m\u001b[1;33m/\u001b[0m\u001b[1;36m0\u001b[0m\u001b[1;33m\u001b[0m\u001b[1;33m\u001b[0m\u001b[0m\n\u001b[0m\u001b[0;32m      3\u001b[0m \u001b[1;32mexcept\u001b[0m \u001b[0mAttributeError\u001b[0m\u001b[1;33m:\u001b[0m\u001b[1;33m\u001b[0m\u001b[1;33m\u001b[0m\u001b[0m\n\u001b[0;32m      4\u001b[0m     \u001b[0mprint\u001b[0m\u001b[1;33m(\u001b[0m\u001b[1;34m\"It is attribute error\"\u001b[0m\u001b[1;33m)\u001b[0m\u001b[1;33m\u001b[0m\u001b[1;33m\u001b[0m\u001b[0m\n\u001b[0;32m      5\u001b[0m \u001b[1;32melse\u001b[0m\u001b[1;33m:\u001b[0m\u001b[1;33m\u001b[0m\u001b[1;33m\u001b[0m\u001b[0m\n",
      "\u001b[1;31mZeroDivisionError\u001b[0m: division by zero"
     ]
    }
   ],
   "source": [
    "try:\n",
    "    a = 5/0\n",
    "except AttributeError:\n",
    "    print(\"It is attribute error\")\n",
    "else:\n",
    "    print(a)\n",
    "finally:\n",
    "    print(\"it is finally block\")"
   ]
  },
  {
   "cell_type": "markdown",
   "id": "fc88bc58",
   "metadata": {},
   "source": [
    "## 3."
   ]
  },
  {
   "cell_type": "markdown",
   "id": "518d4ff8",
   "metadata": {},
   "source": [
    "The try and except block in Python is used to catch and handle exceptions."
   ]
  },
  {
   "cell_type": "code",
   "execution_count": 7,
   "id": "bbeb55eb",
   "metadata": {},
   "outputs": [
    {
     "name": "stdout",
     "output_type": "stream",
     "text": [
      "Error :  division by zero\n",
      "it is finally block\n"
     ]
    }
   ],
   "source": [
    "try:\n",
    "    a = 5/0\n",
    "except Exception as e:\n",
    "    print(\"Error : \" , e)\n",
    "else:\n",
    "    print(a)\n",
    "finally:\n",
    "    print(\"it is finally block\")"
   ]
  },
  {
   "cell_type": "markdown",
   "id": "7d65c201",
   "metadata": {},
   "source": [
    "## 4.a"
   ]
  },
  {
   "cell_type": "code",
   "execution_count": 9,
   "id": "4b6a06c3",
   "metadata": {},
   "outputs": [],
   "source": [
    " try:\n",
    "        f = open(\"random2.txt\" , \"w\")\n",
    "           \n",
    "except Exception as e:\n",
    "    print(\"There is an error: \" , e)\n",
    "    \n",
    "else:\n",
    "     f.write(\"This is the else statemnt directed from try block withour raising ny error\")\n",
    "     f.close()\n",
    "\n",
    "    "
   ]
  },
  {
   "cell_type": "markdown",
   "id": "ab239b90",
   "metadata": {},
   "source": [
    "## 4.b"
   ]
  },
  {
   "cell_type": "code",
   "execution_count": 10,
   "id": "f5ad2283",
   "metadata": {},
   "outputs": [
    {
     "name": "stdout",
     "output_type": "stream",
     "text": [
      "enter your age : 10\n",
      "Age entered successfully. \n",
      "Age is  10\n",
      "Program finished\n"
     ]
    }
   ],
   "source": [
    "try:\n",
    "    age = int(input(\"enter your age : \"))\n",
    "except Exception as e:\n",
    "    print(\"Enter only integer value , nothing else.\\n ERROR : \" , e)\n",
    "else:\n",
    "    print(\"Age entered successfully. \\nAge is \" , age)\n",
    "finally :\n",
    "    print(\"Program finished\")"
   ]
  },
  {
   "cell_type": "markdown",
   "id": "36e13846",
   "metadata": {},
   "source": [
    "## 4.c "
   ]
  },
  {
   "cell_type": "code",
   "execution_count": 14,
   "id": "3b2fb958",
   "metadata": {},
   "outputs": [],
   "source": [
    "class custom_exception(Exception):\n",
    "    def __init__(self , error_msg):\n",
    "        self.error_msg = error_msg\n",
    "        "
   ]
  },
  {
   "cell_type": "code",
   "execution_count": 17,
   "id": "7327e67e",
   "metadata": {},
   "outputs": [
    {
     "name": "stdout",
     "output_type": "stream",
     "text": [
      "enter ur salary5434634634\n",
      "You are not eligible for sholarship\n"
     ]
    }
   ],
   "source": [
    "income = int(input(\"enter ur salary\"))\n",
    "try:\n",
    "    if income > 700000 :\n",
    "        raise custom_exception(\"You are not eligible for sholarship\")\n",
    "except custom_exception as error:\n",
    "    print(error)\n",
    "else :\n",
    "    print(\"u r eligible for scholarship\")\n",
    "\n",
    "    "
   ]
  },
  {
   "cell_type": "markdown",
   "id": "5102792a",
   "metadata": {},
   "source": [
    "## 5."
   ]
  },
  {
   "cell_type": "markdown",
   "id": "b975f0c7",
   "metadata": {},
   "source": [
    "Custom Exceptions in python are the user defined functions set as per our own conditions."
   ]
  },
  {
   "cell_type": "markdown",
   "id": "d54433e3",
   "metadata": {},
   "source": [
    "We need custom exceptions to raise exception over desired condiiton."
   ]
  },
  {
   "cell_type": "code",
   "execution_count": 19,
   "id": "16a0f3a3",
   "metadata": {},
   "outputs": [],
   "source": [
    "class custom(Exception):\n",
    "    def __init__(self , msg):\n",
    "        self.msg = msg"
   ]
  },
  {
   "cell_type": "code",
   "execution_count": 21,
   "id": "ef23b277",
   "metadata": {},
   "outputs": [
    {
     "name": "stdout",
     "output_type": "stream",
     "text": [
      "Entr ur marks percentage90\n",
      "u are awarded the certificate of DS Masters\n",
      "Keep Learning\n"
     ]
    }
   ],
   "source": [
    "inp = float(input(\"Entr ur marks percentage\"))\n",
    "try:\n",
    "    if inp < 75 :\n",
    "        raise custom(\"U can't get the certificate of DS masters.\")\n",
    "except Exception as e :\n",
    "     print(e)\n",
    "else :\n",
    "    print(\"u are awarded the certificate of DS Masters\")\n",
    "finally:\n",
    "    print(\"Keep Learning\")"
   ]
  },
  {
   "cell_type": "markdown",
   "id": "6b5bd4ce",
   "metadata": {},
   "source": [
    "## 6."
   ]
  },
  {
   "cell_type": "code",
   "execution_count": 27,
   "id": "ba963313",
   "metadata": {},
   "outputs": [
    {
     "name": "stdout",
     "output_type": "stream",
     "text": [
      "Enter a number: 543\n",
      "Eligible to Vote\n"
     ]
    }
   ],
   "source": [
    "class InvalidAgeException(Exception):\n",
    "    \"Raised when the input value is less than 18\"\n",
    "    pass\n",
    "number = 18\n",
    "try:\n",
    "    input_num = int(input(\"Enter a number: \"))\n",
    "    if input_num < number:\n",
    "        raise InvalidAgeException\n",
    "    else:\n",
    "        print(\"Eligible to Vote\")    \n",
    "except InvalidAgeException:\n",
    "    print(\"Exception occurred: Invalid Age\")\n"
   ]
  },
  {
   "cell_type": "code",
   "execution_count": null,
   "id": "323c23f6",
   "metadata": {},
   "outputs": [],
   "source": []
  }
 ],
 "metadata": {
  "kernelspec": {
   "display_name": "Python 3 (ipykernel)",
   "language": "python",
   "name": "python3"
  },
  "language_info": {
   "codemirror_mode": {
    "name": "ipython",
    "version": 3
   },
   "file_extension": ".py",
   "mimetype": "text/x-python",
   "name": "python",
   "nbconvert_exporter": "python",
   "pygments_lexer": "ipython3",
   "version": "3.9.13"
  }
 },
 "nbformat": 4,
 "nbformat_minor": 5
}
