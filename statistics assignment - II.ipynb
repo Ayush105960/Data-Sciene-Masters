{
 "cells": [
  {
   "cell_type": "markdown",
   "id": "45245f8e",
   "metadata": {},
   "source": [
    "## 1. "
   ]
  },
  {
   "cell_type": "markdown",
   "id": "3b2d849d",
   "metadata": {},
   "source": [
    "    Mean , Median and Mode are the three measures of central tendency.\n"
   ]
  },
  {
   "cell_type": "markdown",
   "id": "cadcfc5e",
   "metadata": {},
   "source": [
    "## 2."
   ]
  },
  {
   "cell_type": "markdown",
   "id": "909e4c74",
   "metadata": {},
   "source": [
    "     Mean is the average value of the given observations. Median is the middle value of the given observations. Mode is the most repeated value in the given observation."
   ]
  },
  {
   "cell_type": "markdown",
   "id": "48a224f8",
   "metadata": {},
   "source": [
    "    Mean as the central tendancy tells us that that almost every data point of the dataset lies around the mean value ."
   ]
  },
  {
   "cell_type": "markdown",
   "id": "c31b96f8",
   "metadata": {},
   "source": [
    "    Median tells that the central tendancy of the dataset is around the median value and  it lies almost middle of the sorted dataset."
   ]
  },
  {
   "cell_type": "markdown",
   "id": "8a311040",
   "metadata": {},
   "source": [
    "    Mode tells that the most frequent data is the modal value."
   ]
  },
  {
   "cell_type": "markdown",
   "id": "f1765cbd",
   "metadata": {},
   "source": [
    "## 3.\n"
   ]
  },
  {
   "cell_type": "code",
   "execution_count": 1,
   "id": "37461489",
   "metadata": {},
   "outputs": [],
   "source": [
    "data = [178,177,176,177,178.2,178,175,179,180,175,178.9,176.2,177,172.5,178,176.5]"
   ]
  },
  {
   "cell_type": "code",
   "execution_count": 3,
   "id": "451db192",
   "metadata": {},
   "outputs": [],
   "source": [
    "import numpy as np"
   ]
  },
  {
   "cell_type": "code",
   "execution_count": 4,
   "id": "5f927de6",
   "metadata": {},
   "outputs": [
    {
     "data": {
      "text/plain": [
       "177.01875"
      ]
     },
     "execution_count": 4,
     "metadata": {},
     "output_type": "execute_result"
    }
   ],
   "source": [
    "np.mean(data)"
   ]
  },
  {
   "cell_type": "code",
   "execution_count": 6,
   "id": "dedccf79",
   "metadata": {},
   "outputs": [
    {
     "data": {
      "text/plain": [
       "177.0"
      ]
     },
     "execution_count": 6,
     "metadata": {},
     "output_type": "execute_result"
    }
   ],
   "source": [
    "np.median(data)"
   ]
  },
  {
   "cell_type": "code",
   "execution_count": 8,
   "id": "3bb81331",
   "metadata": {},
   "outputs": [],
   "source": [
    "from scipy import stats "
   ]
  },
  {
   "cell_type": "code",
   "execution_count": 13,
   "id": "2e5d10f3",
   "metadata": {},
   "outputs": [
    {
     "data": {
      "text/plain": [
       "ModeResult(mode=array([177.]), count=array([3]))"
      ]
     },
     "execution_count": 13,
     "metadata": {},
     "output_type": "execute_result"
    }
   ],
   "source": [
    "stats.mode(data , keepdims = True)"
   ]
  },
  {
   "cell_type": "markdown",
   "id": "c2e580fd",
   "metadata": {},
   "source": [
    "## 4."
   ]
  },
  {
   "cell_type": "code",
   "execution_count": 14,
   "id": "9c47fbf9",
   "metadata": {},
   "outputs": [],
   "source": [
    "data2 = [178,177,176,177,178.2,178,175,179,180,175,178.9,176.2,177,172.5,178,176.5]"
   ]
  },
  {
   "cell_type": "code",
   "execution_count": 15,
   "id": "148219e1",
   "metadata": {},
   "outputs": [
    {
     "data": {
      "text/plain": [
       "1.7885814036548633"
      ]
     },
     "execution_count": 15,
     "metadata": {},
     "output_type": "execute_result"
    }
   ],
   "source": [
    "np.std(data2)"
   ]
  },
  {
   "cell_type": "markdown",
   "id": "fb48dbe1",
   "metadata": {},
   "source": [
    "## 5"
   ]
  },
  {
   "cell_type": "markdown",
   "id": "dda503d0",
   "metadata": {},
   "source": [
    "    Range : \n",
    "         The range of a dataset is the difference between the largest and smallest values in that dataset. For example, in the two datasets below, dataset 1 has a range of 20 – 38 = 18 while dataset 2 has a range of 11 – 52 = 41. Dataset 2 has a broader range and, hence, more variability than dataset 1."
   ]
  },
  {
   "attachments": {
    "image.png": {
     "image/png": "[encoded data removed]"
    }
   },
   "cell_type": "markdown",
   "id": "141c7a44",
   "metadata": {},
   "source": [
    "![image.png](attachment:image.png)"
   ]
  },
  {
   "cell_type": "markdown",
   "id": "8b024813",
   "metadata": {},
   "source": [
    "    Variance :\n",
    "        Variance is the average squared difference of the values from the mean. Unlike the previous measures of variability, the variance includes all values in the calculation by comparing each value to the mean. To calculate this statistic, you calculate a set of squared differences between the data points and the mean, sum them, and then divide by the number of observations. Hence, it’s the average squared difference."
   ]
  },
  {
   "cell_type": "markdown",
   "id": "b4b3726b",
   "metadata": {},
   "source": [
    "    Standard Deviation : \n",
    "            The standard deviation is just the square root of the variance. Recall that the variance is in squared units. Hence, the square root returns the value to the natural units. The symbol for the standard deviation as a population parameter is σ while s represents it as a sample estimate. To calculate the standard deviation, calculate the variance as shown above, and then take the square root of it. Voila! You have the standard deviation!"
   ]
  },
  {
   "cell_type": "markdown",
   "id": "48f8cdf5",
   "metadata": {},
   "source": [
    " ## 6. "
   ]
  },
  {
   "cell_type": "markdown",
   "id": "a0b79459",
   "metadata": {},
   "source": [
    "\n",
    "    Venn Diagram is the representation of the sets of the data using circles under some logics ."
   ]
  },
  {
   "cell_type": "markdown",
   "id": "b662de17",
   "metadata": {},
   "source": [
    "## 7."
   ]
  },
  {
   "cell_type": "markdown",
   "id": "d69847ac",
   "metadata": {},
   "source": [
    "    two given sets A = (2,3,4,5,6,7) & B = (0,2,6,8,10)."
   ]
  },
  {
   "cell_type": "markdown",
   "id": "30608f7a",
   "metadata": {},
   "source": [
    "    i) A ^ B : {2,6}\n"
   ]
  },
  {
   "cell_type": "markdown",
   "id": "fcca717d",
   "metadata": {},
   "source": [
    "    (ii) A U B : {0,2,3,4,5,6,7,8,10}"
   ]
  },
  {
   "cell_type": "markdown",
   "id": "09d652d8",
   "metadata": {},
   "source": [
    "## 8."
   ]
  },
  {
   "cell_type": "markdown",
   "id": "362d3df4",
   "metadata": {},
   "source": [
    "    Skewness is a measurement of the distortion of symmetrical distribution or asymmetry in a data set. Skewness is demonstrated on a bell curve when data points are not distributed symmetrically to the left and right sides of the median on a bell curve."
   ]
  },
  {
   "cell_type": "markdown",
   "id": "41ae2554",
   "metadata": {},
   "source": [
    "## 9."
   ]
  },
  {
   "cell_type": "markdown",
   "id": "1798fb7b",
   "metadata": {},
   "source": [
    "    If data is skewed right , then \n",
    "            Mean > Median > Mode"
   ]
  },
  {
   "cell_type": "markdown",
   "id": "2e2fc9f9",
   "metadata": {},
   "source": [
    "## 10."
   ]
  },
  {
   "cell_type": "markdown",
   "id": "b34fa588",
   "metadata": {},
   "source": [
    "    Difference between Correlation vs Covariance : \n",
    "                1.  Covariance is an indicator of the extent to which 2 random variables are dependent on each other. A higher number denotes higher dependency.While , Correlation is a statistical measure that indicates how strongly two variables are related.\n",
    "                2. The value of covariance lies in the range of -∞ and +∞. While , Correlation is limited to values between the range -1 and +1\n"
   ]
  },
  {
   "cell_type": "markdown",
   "id": "53c14450",
   "metadata": {},
   "source": [
    "## 11. "
   ]
  },
  {
   "cell_type": "markdown",
   "id": "cec4662a",
   "metadata": {},
   "source": [
    "\n",
    "    Formula for mean is that calculate the sum of all collected observations and divide by the total number of the observations."
   ]
  },
  {
   "cell_type": "code",
   "execution_count": 16,
   "id": "0624de13",
   "metadata": {},
   "outputs": [],
   "source": [
    "dataset = [42\t,13\t,31\t,87\t,24\t,58\t,76\t,69]"
   ]
  },
  {
   "cell_type": "code",
   "execution_count": 21,
   "id": "424a5712",
   "metadata": {},
   "outputs": [],
   "source": [
    "dataset_sum = sum(dataset)"
   ]
  },
  {
   "cell_type": "code",
   "execution_count": 23,
   "id": "17af82b5",
   "metadata": {},
   "outputs": [],
   "source": [
    "dataset_mean = dataset_sum/len(dataset)"
   ]
  },
  {
   "cell_type": "code",
   "execution_count": 24,
   "id": "4ed1fa6b",
   "metadata": {},
   "outputs": [
    {
     "data": {
      "text/plain": [
       "50.0"
      ]
     },
     "execution_count": 24,
     "metadata": {},
     "output_type": "execute_result"
    }
   ],
   "source": [
    "dataset_mean"
   ]
  },
  {
   "cell_type": "markdown",
   "id": "6f80f71e",
   "metadata": {},
   "source": [
    "    Or , we can directly apply the numpy method mean "
   ]
  },
  {
   "cell_type": "code",
   "execution_count": 26,
   "id": "092a3965",
   "metadata": {},
   "outputs": [
    {
     "data": {
      "text/plain": [
       "50.0"
      ]
     },
     "execution_count": 26,
     "metadata": {},
     "output_type": "execute_result"
    }
   ],
   "source": [
    "np.mean(dataset)"
   ]
  },
  {
   "cell_type": "markdown",
   "id": "65dc7f12",
   "metadata": {},
   "source": [
    "## 12."
   ]
  },
  {
   "cell_type": "markdown",
   "id": "a9f7778c",
   "metadata": {},
   "source": [
    "    For a normal distribution data , measures of central tendancies are equal.\n",
    "         i,e. Mean = Median = Mode"
   ]
  },
  {
   "cell_type": "markdown",
   "id": "4ff7cccd",
   "metadata": {},
   "source": [
    "## 13. "
   ]
  },
  {
   "cell_type": "markdown",
   "id": "fe680cbe",
   "metadata": {},
   "source": [
    "     1.  Covariance is an indicator of the extent to which 2 random variables are dependent on each other. A higher number denotes higher dependency.While , Correlation is a statistical measure that indicates how strongly two variables are related.\n",
    "                2. The value of covariance lies in the range of -∞ and +∞. While , Correlation is limited to values between the range -1 and +1"
   ]
  },
  {
   "cell_type": "markdown",
   "id": "48d4acf6",
   "metadata": {},
   "source": [
    "## 14. "
   ]
  },
  {
   "cell_type": "markdown",
   "id": "003c0c60",
   "metadata": {},
   "source": [
    "    Outliers affect the measures of central tendancies .When a outlier is present it can effect the shape of the graph, if we have outliers to the right of the graph. These outliers are causing the mean to increase, but if we have outliers to the left of the graph these outliers are dragging down the mean. This causes a conflict because the mean no longer provides a good representation of the data, alternatively we would much rather use the median. The median on the other hand is less likely to be affect by outliers. Outliers mostly affect the MEAN of the dataset i,e . Mean is very sensitive to the dataset. And , MEDIAN is least affected from outliers.\n",
    "         Mean >  Median"
   ]
  },
  {
   "cell_type": "code",
   "execution_count": 45,
   "id": "259a47b9",
   "metadata": {},
   "outputs": [],
   "source": [
    "dataset = [42, 13, 31, 87, 24, 58, 76, 69]"
   ]
  },
  {
   "cell_type": "code",
   "execution_count": 46,
   "id": "087ac43c",
   "metadata": {},
   "outputs": [],
   "source": [
    "from scipy import stats"
   ]
  },
  {
   "cell_type": "code",
   "execution_count": 47,
   "id": "0350a29b",
   "metadata": {},
   "outputs": [],
   "source": [
    "mean_previous , median_previous , mode_previous = np.mean(dataset) , np.median(dataset) , stats.mode(dataset , keepdims = True)"
   ]
  },
  {
   "cell_type": "code",
   "execution_count": 48,
   "id": "4d5ab80c",
   "metadata": {},
   "outputs": [
    {
     "data": {
      "text/plain": [
       "(50.0, 50.0, ModeResult(mode=array([13]), count=array([1])))"
      ]
     },
     "execution_count": 48,
     "metadata": {},
     "output_type": "execute_result"
    }
   ],
   "source": [
    "mean_previous , median_previous , mode_previous "
   ]
  },
  {
   "cell_type": "code",
   "execution_count": 49,
   "id": "c4b6ab41",
   "metadata": {},
   "outputs": [],
   "source": [
    "# adding an outlier = 10000\n",
    "dataset.append(10000)\n"
   ]
  },
  {
   "cell_type": "code",
   "execution_count": 50,
   "id": "33a66503",
   "metadata": {},
   "outputs": [
    {
     "data": {
      "text/plain": [
       "[42, 13, 31, 87, 24, 58, 76, 69, 10000]"
      ]
     },
     "execution_count": 50,
     "metadata": {},
     "output_type": "execute_result"
    }
   ],
   "source": [
    "dataset"
   ]
  },
  {
   "cell_type": "code",
   "execution_count": 51,
   "id": "606dc422",
   "metadata": {},
   "outputs": [],
   "source": [
    "mean_new , median_new , mode_new = np.mean(dataset) , np.median(dataset) , stats.mode(dataset , keepdims = False)"
   ]
  },
  {
   "cell_type": "code",
   "execution_count": 52,
   "id": "ba3e822b",
   "metadata": {},
   "outputs": [
    {
     "data": {
      "text/plain": [
       "(1155.5555555555557, 58.0, ModeResult(mode=13, count=1))"
      ]
     },
     "execution_count": 52,
     "metadata": {},
     "output_type": "execute_result"
    }
   ],
   "source": [
    "mean_new , median_new , mode_new "
   ]
  },
  {
   "cell_type": "markdown",
   "id": "f67fd9f9",
   "metadata": {},
   "source": [
    "#### We can see that mean is dispersed most while median is affected a bit . And , Mode remained the same."
   ]
  }
 ],
 "metadata": {
  "kernelspec": {
   "display_name": "Python 3 (ipykernel)",
   "language": "python",
   "name": "python3"
  },
  "language_info": {
   "codemirror_mode": {
    "name": "ipython",
    "version": 3
   },
   "file_extension": ".py",
   "mimetype": "text/x-python",
   "name": "python",
   "nbconvert_exporter": "python",
   "pygments_lexer": "ipython3",
   "version": "3.9.13"
  }
 },
 "nbformat": 4,
 "nbformat_minor": 5
}
