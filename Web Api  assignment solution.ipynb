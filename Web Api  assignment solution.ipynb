{
 "cells": [
  {
   "cell_type": "markdown",
   "id": "c2ce5df5",
   "metadata": {},
   "source": [
    "## 1. "
   ]
  },
  {
   "cell_type": "markdown",
   "id": "c112a9d7",
   "metadata": {},
   "source": [
    "\n",
    "\n",
    "\n",
    "    Api stands for Application Programming Language . It basically provides an interface for applications , whether heterogeneous(different types ) or homogeneous (similar types ) to interact with each other for sharing data and functionality.\n",
    "                    API basically makes use of the existing data and functionality saving time and leverages .  In simple terms , It establishes communication between two systems , actind as a mediator."
   ]
  },
  {
   "cell_type": "markdown",
   "id": "94cb02b2",
   "metadata": {},
   "source": [
    "API is used for every application nowadays whether web or mobile . \n",
    "One such example will be :- \n",
    "\n",
    "    \"Account Login \" where we use APIs of Google(Login With Google ) , Facebook login (Login with Facebook) , Microsoft Login(Login with Microsoft)   \n",
    "    "
   ]
  },
  {
   "cell_type": "markdown",
   "id": "15c67c06",
   "metadata": {},
   "source": [
    "##  2."
   ]
  },
  {
   "cell_type": "markdown",
   "id": "10197105",
   "metadata": {},
   "source": [
    " Advantages of API's : \n",
    "                                              \n",
    "       Integration with the existing code and their specific functionality\n",
    "       Time leverage\n",
    "       Latency deduction\n",
    "       Huge community of standard API's\n",
    "       "
   ]
  },
  {
   "cell_type": "markdown",
   "id": "66cb59ba",
   "metadata": {},
   "source": [
    "Disadvantages of API's :\n",
    "  \n",
    "      Security Vulnerable\n",
    "      Prove to be Expensive\n",
    "      Making changes might be time consuming and difficult\n",
    "      Might not be favourable \n",
    "      \n",
    "     "
   ]
  },
  {
   "cell_type": "markdown",
   "id": "e9479018",
   "metadata": {},
   "source": [
    "## 3. "
   ]
  },
  {
   "cell_type": "markdown",
   "id": "61a3555d",
   "metadata": {},
   "source": [
    "    WEB Api is an api which uses HTTP protocol to establish communications between two systems. And Then , shares data and functionality with each other.  "
   ]
  },
  {
   "cell_type": "markdown",
   "id": "d4088c83",
   "metadata": {},
   "source": [
    "|  API  | Web API |\n",
    "|---------|-------------|\n",
    "| API is the general term consisting of all interfaces used for establishing communication among systems | While Web API is the subset of API |\n",
    "| It uses all the protocols like HTTP , SMTP , TCP protocols | It only uses HTTP protocol |\n"
   ]
  },
  {
   "cell_type": "markdown",
   "id": "792a9d6b",
   "metadata": {},
   "source": [
    "\n",
    "## 4."
   ]
  },
  {
   "cell_type": "markdown",
   "id": "3bb7573b",
   "metadata": {},
   "source": [
    "    SOAP (Simple Object Access Protocol) is a standards-based web services access protocol that has been around for a long time. Originally developed by Microsoft, SOAP isn’t as simple as the acronym would suggest.\n",
    "\n",
    "    REST (Representational State Transfer) is another standard, made in response to SOAP’s shortcomings. It seeks to fix the problems with SOAP and provide a simpler method of accessing web services. \n",
    "    \n",
    "    While SOAP and REST share similarities over the HTTP protocol, SOAP is a more rigid set of messaging patterns than REST. The rules in SOAP are important because we can’t achieve any level of standardization without them. REST as an architecture style does not require processing and is naturally more flexible. Both SOAP and REST rely on well-established rules that everyone has agreed to abide by in the interest of exchanging information."
   ]
  },
  {
   "cell_type": "markdown",
   "id": "0f88f781",
   "metadata": {},
   "source": [
    "Shortcomings of SOAP :\n",
    "\n",
    "        Slow: SOAP uses XML format that must be parsed to be read. It defines many standards that must be followed while developing the SOAP applications. So it is slow and consumes more bandwidth and resource.\n",
    "\n",
    "    WSDL dependent: SOAP uses WSDL and doesn't have any other mechanism to discover the service."
   ]
  },
  {
   "cell_type": "markdown",
   "id": "71685394",
   "metadata": {},
   "source": [
    "\n",
    "## 5. "
   ]
  },
  {
   "cell_type": "markdown",
   "id": "f3ad7a72",
   "metadata": {},
   "source": [
    "| REST | SOAP |\n",
    "|---------|----------|\n",
    "| stands for Representational State Transfer | stands for Simple Object Access Protocol | \n",
    "| returns file in JSON/XML format | returns file in XML format |\n",
    "| uses functions GET , POST , DELETE , PUT | written in WSDL(Web services description language) language |\n",
    "| uses HTTP protocol | uses HTTP/SMTP/TCP protocol |\n",
    "| Primarily used for :          | Primarily used for :  |\n",
    "                  \n",
    "    Scalability                   Security   \n",
    "    Simplicity                     Reliability\n",
    "    Flexibility \n",
    "    Light weight \n",
    "\n"
   ]
  },
  {
   "cell_type": "code",
   "execution_count": null,
   "id": "ce894131",
   "metadata": {},
   "outputs": [],
   "source": []
  }
 ],
 "metadata": {
  "kernelspec": {
   "display_name": "Python 3 (ipykernel)",
   "language": "python",
   "name": "python3"
  },
  "language_info": {
   "codemirror_mode": {
    "name": "ipython",
    "version": 3
   },
   "file_extension": ".py",
   "mimetype": "text/x-python",
   "name": "python",
   "nbconvert_exporter": "python",
   "pygments_lexer": "ipython3",
   "version": "3.9.13"
  }
 },
 "nbformat": 4,
 "nbformat_minor": 5
}
